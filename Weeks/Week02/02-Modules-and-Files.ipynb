{
 "cells": [
  {
   "cell_type": "markdown",
   "id": "f6efd707-1e40-4683-a3cd-3a05f241781d",
   "metadata": {},
   "source": [
    "# Using modules to work with files"
   ]
  },
  {
   "cell_type": "markdown",
   "id": "41d35e2f-7fff-4b68-bc88-98694b003f20",
   "metadata": {},
   "source": [
    "## Modules"
   ]
  },
  {
   "cell_type": "markdown",
   "id": "d73feda6-1ffc-4979-aa5c-e89ca63b0a6f",
   "metadata": {},
   "source": [
    "A lot of coders have written Python code that you can easily reuse.  \n",
    "\n",
    "Some code comes standard with every Python installation.  Other code needs to be retrieved and installed.  However, once you have the code, it can dramatically expand your coding capabilities.\n",
    "\n",
    "Modules allow us to use externally developed code.\n",
    "* A module is a group of code items such as functions that are related to one another. Individual modules are often grouped together as a library.\n",
    "* Modules can be loaded using `import <modulename>`. Functions that are part of the module `modulename` can then be used by typing `modulename.functionname()`. \n",
    "  * For example, `sin()` is a function that is part of the `math` module\n",
    "  * We can use to by typing `math.sin()` with some number between the parentheses.\n",
    "* Modules may also contain constants in addition to functions.\n",
    "  * The `math` module includes a constant for $\\pi$ -- `math.pi`"
   ]
  },
  {
   "cell_type": "code",
   "execution_count": null,
   "id": "492ed9dc-067e-4605-a4fd-f6f9a64d3958",
   "metadata": {},
   "outputs": [],
   "source": [
    "import math"
   ]
  },
  {
   "cell_type": "code",
   "execution_count": null,
   "id": "98a0da01-af79-4bd3-8117-7bcdbb899650",
   "metadata": {},
   "outputs": [],
   "source": [
    "math.pi"
   ]
  },
  {
   "cell_type": "code",
   "execution_count": null,
   "id": "2c47f822-a196-4b6f-9852-4f023b13e9ef",
   "metadata": {},
   "outputs": [],
   "source": [
    "math.sin(math.pi/2)"
   ]
  },
  {
   "cell_type": "markdown",
   "id": "5490320d-e539-4e0a-9d13-5a1d697e2668",
   "metadata": {},
   "source": [
    "We can even write our own modules!\n",
    "\n",
    "Open the included \"mymodule.py\" file and look it over before executing the following cells."
   ]
  },
  {
   "cell_type": "code",
   "execution_count": null,
   "id": "66008d43-8351-4024-912b-fc614eefa12d",
   "metadata": {},
   "outputs": [],
   "source": [
    "import mymodule"
   ]
  },
  {
   "cell_type": "code",
   "execution_count": null,
   "id": "eae22cdf-6a13-4db2-a33a-138b2d829091",
   "metadata": {},
   "outputs": [],
   "source": [
    "dir(mymodule)"
   ]
  },
  {
   "cell_type": "code",
   "execution_count": null,
   "id": "994a0ead-dbfb-4f06-8cc8-e970c8912c46",
   "metadata": {},
   "outputs": [],
   "source": [
    "mymodule.holyhandgrenade"
   ]
  },
  {
   "cell_type": "code",
   "execution_count": null,
   "id": "3ed3532c-ab24-4fd1-9652-a38bfe309fea",
   "metadata": {},
   "outputs": [],
   "source": [
    "for i in range(len(mymodule.holyhandgrenade)):\n",
    "    print(mymodule.holyhandgrenade[i])"
   ]
  },
  {
   "cell_type": "markdown",
   "id": "a6f2c6f6-6c6b-432d-807d-99fa6c7f4277",
   "metadata": {},
   "source": [
    "One can import select functions or variables from a module, as well as rename them with an alias."
   ]
  },
  {
   "cell_type": "code",
   "execution_count": null,
   "id": "de371e9a-840b-4061-aa56-c8e9fe59bb13",
   "metadata": {},
   "outputs": [],
   "source": [
    "from mymodule import holyhandgrenade as hhg"
   ]
  },
  {
   "cell_type": "code",
   "execution_count": null,
   "id": "233d4ff2-e682-4b20-bc89-e6d567e936b0",
   "metadata": {},
   "outputs": [],
   "source": [
    "hhg"
   ]
  },
  {
   "cell_type": "code",
   "execution_count": null,
   "id": "49646f46-9130-4bec-84ae-c7e5a34a6d0f",
   "metadata": {},
   "outputs": [],
   "source": [
    "import mymodule as mm"
   ]
  },
  {
   "cell_type": "code",
   "execution_count": null,
   "id": "a181db3b-b8e1-4815-9283-f04c452f216c",
   "metadata": {},
   "outputs": [],
   "source": [
    "mm.holyhandgrenade"
   ]
  },
  {
   "cell_type": "markdown",
   "id": "47e48115-de58-47ae-b6fe-7be9ffccd472",
   "metadata": {},
   "source": [
    "The help documentation from the module's function is the initial part of the function body delimited by triple-quotes."
   ]
  },
  {
   "cell_type": "code",
   "execution_count": null,
   "id": "ab960a03-f6e4-44af-83a5-4d9e2c59cf17",
   "metadata": {},
   "outputs": [],
   "source": [
    "help(mymodule.compound_calculator)"
   ]
  },
  {
   "cell_type": "code",
   "execution_count": null,
   "id": "1d0c8292-46f5-47b1-8ff5-fc39a7db92c7",
   "metadata": {},
   "outputs": [],
   "source": [
    "print(mymodule.compound_calculator.__doc__)"
   ]
  },
  {
   "cell_type": "code",
   "execution_count": null,
   "id": "d7e748ad-0aa7-4df9-b3cf-74e53c67cf26",
   "metadata": {},
   "outputs": [],
   "source": [
    "mymodule.compound_calculator?"
   ]
  },
  {
   "cell_type": "code",
   "execution_count": null,
   "id": "b0158919-d1c7-4a0e-b1e3-154cd1728b08",
   "metadata": {},
   "outputs": [],
   "source": [
    "mymodule.compound_calculator(1000,5,1,100)"
   ]
  },
  {
   "cell_type": "code",
   "execution_count": null,
   "id": "59e903af-e1fe-4ab5-8c27-61b61030176c",
   "metadata": {},
   "outputs": [],
   "source": [
    "mm.riddleanswers"
   ]
  },
  {
   "cell_type": "code",
   "execution_count": null,
   "id": "ca35d6f6-236e-4fc8-b11a-297fa7ef7928",
   "metadata": {},
   "outputs": [],
   "source": [
    "mm.stocksDict"
   ]
  },
  {
   "cell_type": "markdown",
   "id": "336730f5-dca9-46ad-bba3-ddbc20e6cf60",
   "metadata": {},
   "source": [
    "<div class=\"alert alert-info\">\n",
    "\n",
    "<b>When you review this notebook later, try writing your own separate module file, importing the module, and executing several cells of code to test its functionality</b>\n",
    "\n",
    "</div>"
   ]
  },
  {
   "cell_type": "markdown",
   "id": "95e41b9c-ca16-4dcd-bc6e-3f05331bcc8a",
   "metadata": {},
   "source": [
    "## Working with files"
   ]
  },
  {
   "cell_type": "markdown",
   "id": "2dc2a500-9106-4199-90b3-8273e5607386",
   "metadata": {},
   "source": [
    "Here we're going to be working with the Classics dataset obtained off the [CORGIS website](https://corgis-edu.github.io/corgis/) (The Collection of Really Great, Interesting, Situated Datasets)\n",
    "\n",
    "I have already taken the liberty of sharing the files with you.\n",
    "  * `classics.csv` is a comma-separated value file containing the data\n",
    "  * `classics.json` is a JSON file containing the data\n",
    "  * `classics.data` and `classics.py` are files that you can use more directly with Python\n",
    "    * `classics.py` is a module file"
   ]
  },
  {
   "cell_type": "code",
   "execution_count": null,
   "id": "50f1c663-8c00-4ba7-a0a5-dd0b4ffae822",
   "metadata": {},
   "outputs": [],
   "source": [
    "import classics"
   ]
  },
  {
   "cell_type": "code",
   "execution_count": null,
   "id": "f55e6293-cc69-4ade-b4d6-bff0ea09951e",
   "metadata": {},
   "outputs": [],
   "source": [
    "book = classics.get_book()"
   ]
  },
  {
   "cell_type": "markdown",
   "id": "c2b7ab5a-c195-4e5f-ad10-c69c2a7b68a4",
   "metadata": {},
   "source": [
    "We don't know what `book` is yet, so let's find out"
   ]
  },
  {
   "cell_type": "code",
   "execution_count": null,
   "id": "1f4695c5-2585-4d3b-a308-71b2073488a8",
   "metadata": {},
   "outputs": [],
   "source": [
    "type(book)"
   ]
  },
  {
   "cell_type": "markdown",
   "id": "0367a4f0-8ac7-4812-86ba-24a8b69ac6e1",
   "metadata": {},
   "source": [
    "And let's get some more info"
   ]
  },
  {
   "cell_type": "code",
   "execution_count": null,
   "id": "0ecdcf99-21b0-436c-a355-96e662a4628e",
   "metadata": {},
   "outputs": [],
   "source": [
    "len(book)"
   ]
  },
  {
   "cell_type": "code",
   "execution_count": null,
   "id": "322d7d6c-0046-47fa-861c-506c647200c7",
   "metadata": {
    "tags": []
   },
   "outputs": [],
   "source": [
    "book[0]"
   ]
  },
  {
   "cell_type": "markdown",
   "id": "5d8a565e-6088-404e-806e-3b313ceaa0ba",
   "metadata": {},
   "source": [
    "That's kinda hard to chew off, so let's pretty print it"
   ]
  },
  {
   "cell_type": "code",
   "execution_count": null,
   "id": "812aaa99-ede4-4fe5-bf98-ac940fddfc21",
   "metadata": {},
   "outputs": [],
   "source": [
    "from pprint import pprint as prettyprint"
   ]
  },
  {
   "cell_type": "code",
   "execution_count": null,
   "id": "92696047-33fa-4732-a11a-27c2b2db8266",
   "metadata": {},
   "outputs": [],
   "source": [
    "prettyprint(book[0])"
   ]
  },
  {
   "cell_type": "code",
   "execution_count": null,
   "id": "866c7612-330a-4a94-9102-c08ef6d2977e",
   "metadata": {},
   "outputs": [],
   "source": [
    "book[0].keys()"
   ]
  },
  {
   "cell_type": "code",
   "execution_count": null,
   "id": "c90b1254-4b5d-4aa5-a82f-62a238ce91ad",
   "metadata": {
    "tags": []
   },
   "outputs": [],
   "source": [
    "for i in book:\n",
    "    print(str(i['metadata']['downloads']) + ': ' + i['bibliography']['title'])"
   ]
  },
  {
   "cell_type": "markdown",
   "id": "0b3285fe-5db5-4534-af9f-0bcbdb29d3a8",
   "metadata": {},
   "source": [
    "## We actually know enough Python now that we could use other libraries to work with the CSV and JSON files"
   ]
  },
  {
   "cell_type": "code",
   "execution_count": null,
   "id": "e1c5c397-db8d-4ac2-8380-2df072553c9e",
   "metadata": {},
   "outputs": [],
   "source": [
    "import pandas as pd"
   ]
  },
  {
   "cell_type": "code",
   "execution_count": null,
   "id": "be64cc0c-c5d1-45b1-8d25-49ae7503197b",
   "metadata": {},
   "outputs": [],
   "source": [
    "df = pd.read_csv('classics.csv')"
   ]
  },
  {
   "cell_type": "code",
   "execution_count": null,
   "id": "45ce0a38-22c6-4eaf-b917-f3bd364f64a1",
   "metadata": {},
   "outputs": [],
   "source": [
    "df"
   ]
  },
  {
   "cell_type": "code",
   "execution_count": null,
   "id": "ce481e8a-6eaf-4b60-948f-3d2bad6b4046",
   "metadata": {},
   "outputs": [],
   "source": [
    "df.hist('metadata.downloads',bins=100)"
   ]
  },
  {
   "cell_type": "code",
   "execution_count": null,
   "id": "65512264-148c-42fa-9b90-4dc97240ebf1",
   "metadata": {},
   "outputs": [],
   "source": [
    "df = pd.read_json('classics.json')"
   ]
  },
  {
   "cell_type": "code",
   "execution_count": null,
   "id": "c8cfaa36-c15e-441a-85b3-c4e211cb6b96",
   "metadata": {},
   "outputs": [],
   "source": [
    "df"
   ]
  },
  {
   "cell_type": "markdown",
   "id": "7106bb47-45c1-43d4-ac3f-bf6fe2810ca7",
   "metadata": {},
   "source": [
    "# We'll look more into this next week!!"
   ]
  }
 ],
 "metadata": {
  "kernelspec": {
   "display_name": "Python 3 (ipykernel)",
   "language": "python",
   "name": "python3"
  },
  "language_info": {
   "codemirror_mode": {
    "name": "ipython",
    "version": 3
   },
   "file_extension": ".py",
   "mimetype": "text/x-python",
   "name": "python",
   "nbconvert_exporter": "python",
   "pygments_lexer": "ipython3",
   "version": "3.9.6"
  }
 },
 "nbformat": 4,
 "nbformat_minor": 5
}
