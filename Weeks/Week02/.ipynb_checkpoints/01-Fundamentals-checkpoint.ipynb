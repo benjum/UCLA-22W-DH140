{
 "cells": [
  {
   "cell_type": "markdown",
   "id": "0979fbfc-71b4-41ea-bf02-78838798c9fb",
   "metadata": {},
   "source": [
    "# Python Fundamentals"
   ]
  },
  {
   "cell_type": "markdown",
   "id": "59ea3812-d554-4121-be0a-9c5e73e8fe39",
   "metadata": {},
   "source": [
    "We'll start simple (and get more comfortable with Jupyter notebooks too).\n",
    "\n",
    "Execute the below cell by selecting it and typing Shift+Enter on your keyboard."
   ]
  },
  {
   "cell_type": "code",
   "execution_count": null,
   "id": "98ae97a1-2ca5-4bb3-88ed-5cfb5493a566",
   "metadata": {},
   "outputs": [],
   "source": [
    "print('Hello world!')"
   ]
  },
  {
   "cell_type": "markdown",
   "id": "b8c7deb5-136b-4752-b1fc-75e430428156",
   "metadata": {},
   "source": [
    "Welcome to your first python function, `print()`. \n",
    "\n",
    "You are passing an argument to the print function (here the string `'Hello world!'`) -- Python then interprets the command and executes the function with the string as its argument."
   ]
  },
  {
   "cell_type": "code",
   "execution_count": null,
   "id": "9291abec-dfca-41d6-9639-9a7a9039992f",
   "metadata": {},
   "outputs": [],
   "source": [
    "# Try executing this cell too\n",
    "print('Hello world!')"
   ]
  },
  {
   "cell_type": "markdown",
   "id": "466542c4-da52-45fc-bea4-fc35a7018133",
   "metadata": {},
   "source": [
    "### Comments\n",
    "\n",
    "Any line of Python code that is prefixed with a `#` is considered a comment.  \n",
    "* It will not get executed when the code runs\n",
    "* It is useful for documenting what the code is doing\n",
    "  * For yourself and for others\n",
    "  \n",
    "All experienced coders agree that code must be well-documented.  It's great if your code achieves fantastic things, but what happens if you come back to it after a month and can't make any sense out of what you wrote?  This is surprisingly easy to do -- you may not rememeber the logic, the caveats, the hours spent trying to figure out how to calculate something.  \n",
    "\n",
    "Document your code!"
   ]
  },
  {
   "cell_type": "code",
   "execution_count": null,
   "id": "31788604-6dce-498d-b2e1-2fd46a03e6aa",
   "metadata": {},
   "outputs": [],
   "source": [
    "# this is a comment. the python interpreter ignores it.\n",
    "# comments are just notes for humans to read to help understand the code\n",
    "# best practice: add a comment for every couple lines of code to explain what's going on and why\n",
    "# you'd be amazed at how quickly you forget your code's logic (at least i always do)"
   ]
  },
  {
   "cell_type": "markdown",
   "id": "6d4fcf37-bbc2-47bf-a860-4b622ec32065",
   "metadata": {},
   "source": [
    "## Simple math\n",
    "\n",
    "Computers make for great calculators"
   ]
  },
  {
   "cell_type": "markdown",
   "id": "a6f6b955-d128-4cce-ac5d-dc889d63c786",
   "metadata": {},
   "source": [
    "| Operation | Symbol            | Example    | Returned Value |\n",
    "| -------------- | -------------------- | ---------- | ---------- |\n",
    "| addition          | `+` | `3 + 2` | `5`        |\n",
    "| subtraction        | `-`       | `3 - 2` | `1`   |\n",
    "| multiplication          | `*`    | `3 * 2` | `6`    |\n",
    "| division         | `/`   | `3 / 2` | `1.5`    |\n",
    "| exponentation         | `**`    | `3 ** 2` | `9`     |\n"
   ]
  },
  {
   "cell_type": "code",
   "execution_count": null,
   "id": "136f8f42-7e44-4639-a644-a01678f69444",
   "metadata": {},
   "outputs": [],
   "source": [
    "# add two integers\n",
    "2 + 3"
   ]
  },
  {
   "cell_type": "code",
   "execution_count": null,
   "id": "981cf9fa-22c4-48a2-bd03-5bdb68f56b1b",
   "metadata": {},
   "outputs": [],
   "source": [
    "# multiply the integers\n",
    "2 * 3"
   ]
  },
  {
   "cell_type": "code",
   "execution_count": null,
   "id": "94301221-1079-44a3-88b8-2a20c9fb903f",
   "metadata": {},
   "outputs": [],
   "source": [
    "# divide two integers to get a floating point number\n",
    "2 / 3"
   ]
  },
  {
   "cell_type": "code",
   "execution_count": null,
   "id": "d41117be-de8a-4d03-bbdc-a5920a65a671",
   "metadata": {},
   "outputs": [],
   "source": [
    "# multiplication gets evaluated before addition\n",
    "2 + 3 * 4"
   ]
  },
  {
   "cell_type": "markdown",
   "id": "403f7a7c-d4ed-46b4-8533-472c78ba2b53",
   "metadata": {},
   "source": [
    "<div class=\"alert alert-info\">\n",
    "\n",
    "<b>Your turn:</b>\n",
    "\n",
    "* Try out some math of your own in the next cell.\n",
    "* Try adding parentheses to `2 + 3 * 4` to make the addition be evaluated first \n",
    "    \n",
    "</div>"
   ]
  },
  {
   "cell_type": "code",
   "execution_count": null,
   "id": "bb177093-4445-46d0-950b-2216838a83dc",
   "metadata": {},
   "outputs": [],
   "source": [
    "# Enter code here and execute the cell:\n",
    "\n"
   ]
  },
  {
   "cell_type": "markdown",
   "id": "ee49cf5b-339f-4706-b251-889f00bfd172",
   "metadata": {},
   "source": [
    "### Variables\n",
    "\n",
    "**Variables** can be used to store values calculated in expressions and used for other calculations. \n",
    "\n",
    "Assigning values to variables is straightforward. Simply type `variable_name = value`, where `variable_name` is the name of the variable you wish to define."
   ]
  },
  {
   "cell_type": "code",
   "execution_count": null,
   "id": "b7dd747c-5306-4e9e-9b3e-a5add3987b63",
   "metadata": {},
   "outputs": [],
   "source": [
    "# variables, such as x here, contain values and their values can vary\n",
    "x = 5"
   ]
  },
  {
   "cell_type": "code",
   "execution_count": null,
   "id": "62e9bc02-0798-4856-8684-1cc2d04253b5",
   "metadata": {},
   "outputs": [],
   "source": [
    "# what is the value of x?\n",
    "x"
   ]
  },
  {
   "cell_type": "code",
   "execution_count": null,
   "id": "0ab2719a-9dcd-4e6e-a89a-65f049592a96",
   "metadata": {},
   "outputs": [],
   "source": [
    "# you can perform operations on variables, just like you can on two numbers\n",
    "x + 3"
   ]
  },
  {
   "cell_type": "code",
   "execution_count": null,
   "id": "0627270e-ed0d-4d7e-9b53-4e38837c3d7a",
   "metadata": {},
   "outputs": [],
   "source": [
    "# what is the value of x now?\n",
    "x"
   ]
  },
  {
   "cell_type": "code",
   "execution_count": null,
   "id": "c38f281e-d085-4baf-a2f7-c07fd566c61e",
   "metadata": {},
   "outputs": [],
   "source": [
    "# to update the value of a variable, you need to do an assignment again\n",
    "x = x + 3"
   ]
  },
  {
   "cell_type": "code",
   "execution_count": null,
   "id": "da0fd0bc-2948-4f72-8414-b1d5de7bc901",
   "metadata": {},
   "outputs": [],
   "source": [
    "# and now what is the value of x?\n",
    "x"
   ]
  },
  {
   "cell_type": "code",
   "execution_count": null,
   "id": "4086f0b0-c01d-4566-90ae-0feffd8e8ef7",
   "metadata": {},
   "outputs": [],
   "source": [
    "# create a new variable y from an operation on x\n",
    "x = 5\n",
    "y = x * 2\n",
    "y"
   ]
  },
  {
   "cell_type": "code",
   "execution_count": null,
   "id": "f7e576a0-58af-4056-b1ff-3a576f3a7c95",
   "metadata": {},
   "outputs": [],
   "source": [
    "# outputting values only displays the last thing output\n",
    "# this is different from printing! it is kinda confusing!\n",
    "x\n",
    "y"
   ]
  },
  {
   "cell_type": "code",
   "execution_count": null,
   "id": "b8ae55f0-f5c7-46f2-8202-cb91dfc92fb6",
   "metadata": {},
   "outputs": [],
   "source": [
    "# use print to write some value(s) to the \"console\"\n",
    "print(x)\n",
    "print(y)"
   ]
  },
  {
   "cell_type": "code",
   "execution_count": null,
   "id": "d18d4234-387e-43a8-b722-1e2bd4cd1b4f",
   "metadata": {},
   "outputs": [],
   "source": [
    "# you can comma-separate values to print multiple values to the console on one line\n",
    "# note that this syntax automatically adds a space between variables\n",
    "print(x, y)"
   ]
  },
  {
   "cell_type": "code",
   "execution_count": null,
   "id": "68bfffd6-a7e2-4a7d-b1a4-aac5ee1e68a1",
   "metadata": {},
   "outputs": [],
   "source": [
    "# you can also print the result of an expression\n",
    "print(x * y)"
   ]
  },
  {
   "cell_type": "markdown",
   "id": "1580dc11-961f-4290-a5a7-5d590e05baf3",
   "metadata": {},
   "source": [
    "<div class=\"alert alert-info\">\n",
    "\n",
    "<b>Your turn:</b>\n",
    "\n",
    "In a single line, create a new variable `z` and set it equal to `x` divided the sum of `x` plus `y`\n",
    "    \n",
    "</div>"
   ]
  },
  {
   "cell_type": "code",
   "execution_count": null,
   "id": "5523aef5-5291-4dc7-8eb3-cd3a2ef1c5f7",
   "metadata": {},
   "outputs": [],
   "source": [
    "# Enter code here and execute the cell:\n",
    "\n"
   ]
  },
  {
   "cell_type": "markdown",
   "id": "c5a6d26c-2061-4c7c-9264-1ca1caabf00f",
   "metadata": {},
   "source": [
    "## Strings"
   ]
  },
  {
   "cell_type": "markdown",
   "id": "4762f955-1563-4d5f-81e8-1af2a946afcb",
   "metadata": {},
   "source": [
    "Strings are ordered sequences of characters delimited by either single or double quotes."
   ]
  },
  {
   "cell_type": "code",
   "execution_count": null,
   "id": "1225ab83-af6b-4a5e-ad73-621a0dedf8b5",
   "metadata": {},
   "outputs": [],
   "source": [
    "parrotreturn = \"This parrot is no more! It has ceased to be!\""
   ]
  },
  {
   "cell_type": "markdown",
   "id": "3248858f-e38c-4fb5-a533-61ea0b8a83f1",
   "metadata": {},
   "source": [
    "Nothing was returned above because you only set the value of the `parrotreturn` variable\n",
    "\n",
    "The following will return the string and cause it to be output."
   ]
  },
  {
   "cell_type": "code",
   "execution_count": null,
   "id": "800cb521-8602-420f-8756-815090254bfb",
   "metadata": {},
   "outputs": [],
   "source": [
    "parrotreturn"
   ]
  },
  {
   "cell_type": "code",
   "execution_count": null,
   "id": "1b400eec-3b72-4c32-adef-ff20d3b94692",
   "metadata": {},
   "outputs": [],
   "source": [
    "# You can also explicitly print the string with:\n",
    "print(parrotreturn)"
   ]
  },
  {
   "cell_type": "markdown",
   "id": "3e93b1fa-22e5-4041-9159-9cdbacdcb9b0",
   "metadata": {},
   "source": [
    "In Python, you can get the nth element from an ordered object (like a string) with [n] indexing notation\n",
    "* Key note: Python starts the index with zero, not one"
   ]
  },
  {
   "cell_type": "code",
   "execution_count": null,
   "id": "8312f616-d693-498c-a4a4-090673db45bf",
   "metadata": {},
   "outputs": [],
   "source": [
    "parrotreturn[1]"
   ]
  },
  {
   "cell_type": "code",
   "execution_count": null,
   "id": "b266b839-e924-4671-b5a6-b8a244d1076a",
   "metadata": {},
   "outputs": [],
   "source": [
    "parrotreturn[0]"
   ]
  },
  {
   "cell_type": "markdown",
   "id": "1c7e20d5-2b9f-4f5c-a260-7df831efd8e8",
   "metadata": {},
   "source": [
    "To get more than one character, you can use *slicing*.  Slicing is a way to return subsets and is indicated by `[first, last]`, where `first` is the starting index and `last` is the ending index.\n",
    "\n",
    "* Key note: the element at the ending indexed place will not be included."
   ]
  },
  {
   "cell_type": "code",
   "execution_count": null,
   "id": "146a0c5e-9d25-4e3e-9dfa-d6a46127e903",
   "metadata": {},
   "outputs": [],
   "source": [
    "parrotreturn[0:3]"
   ]
  },
  {
   "cell_type": "code",
   "execution_count": null,
   "id": "97c887a7-0144-402c-ab68-b375cd9e2ec6",
   "metadata": {},
   "outputs": [],
   "source": [
    "parrotreturn[0:4]"
   ]
  },
  {
   "cell_type": "markdown",
   "id": "fc79c489-52de-4a64-a877-4a58d466de66",
   "metadata": {},
   "source": [
    "A Python method can be used to return the indexed location of a character within the string."
   ]
  },
  {
   "cell_type": "code",
   "execution_count": null,
   "id": "402cebd7-d721-4de3-855e-244b13a301df",
   "metadata": {},
   "outputs": [],
   "source": [
    "parrotreturn.index('!')"
   ]
  },
  {
   "cell_type": "markdown",
   "id": "f7784871-72bb-4794-896b-e42f42e4b957",
   "metadata": {},
   "source": [
    "Recall that Python objects can have their own functions.\n",
    "\n",
    "What exactly is \".index\"? -- index is a *method* and the \".\" notifies Python to call the method associated with parrotreturn."
   ]
  },
  {
   "cell_type": "markdown",
   "id": "28db8712-3631-4c5e-b444-a54e160f930d",
   "metadata": {},
   "source": [
    "<div class=\"alert alert-info\">\n",
    "\n",
    "<b>Your turn:</b>\n",
    "\n",
    "Use `parrotreturn.index('!')` and slicing to print out only the first sentence of the string\n",
    "    \n",
    "</div>"
   ]
  },
  {
   "cell_type": "code",
   "execution_count": null,
   "id": "820df409-3d2d-41e3-af75-350d94811910",
   "metadata": {},
   "outputs": [],
   "source": [
    "# Enter code here and execute the cell:\n",
    "\n"
   ]
  },
  {
   "cell_type": "markdown",
   "id": "7197c7a9-d417-41a6-a893-97a6752161a6",
   "metadata": {},
   "source": [
    "## Lists"
   ]
  },
  {
   "cell_type": "markdown",
   "id": "f355d4d3-4feb-4381-8085-885b69c6983c",
   "metadata": {},
   "source": [
    "List are similar in concept to arrays.  They are surrounded by square brackets, and the elements are separated by commas."
   ]
  },
  {
   "cell_type": "code",
   "execution_count": null,
   "id": "7698f76a-32d4-4ec2-8ef1-8bdff7302fd6",
   "metadata": {},
   "outputs": [],
   "source": [
    "holyhandgrenade = [1, 2, 5]"
   ]
  },
  {
   "cell_type": "markdown",
   "id": "a1538a42-5feb-4aa2-a44d-540ccb5251d3",
   "metadata": {},
   "source": [
    "Their indexing is similar to that seen above for strings."
   ]
  },
  {
   "cell_type": "code",
   "execution_count": null,
   "id": "1b6db97f-8b65-4eb5-ab89-868fb58d381c",
   "metadata": {},
   "outputs": [],
   "source": [
    "holyhandgrenade[1]"
   ]
  },
  {
   "cell_type": "code",
   "execution_count": null,
   "id": "ddb8fdd9-18b6-4b33-b8d5-bbaea8d5d756",
   "metadata": {},
   "outputs": [],
   "source": [
    "holyhandgrenade[0]"
   ]
  },
  {
   "cell_type": "code",
   "execution_count": null,
   "id": "8a7ad218-f602-476d-b6be-8435a48df1fa",
   "metadata": {},
   "outputs": [],
   "source": [
    "# This will give an error: lists cannot be indexed outside of their range\n",
    "holyhandgrenade[3]"
   ]
  },
  {
   "cell_type": "markdown",
   "id": "f02e28ec-883e-4d97-8f92-ffc46e1c69d7",
   "metadata": {},
   "source": [
    "But... they can be indexed with negative numbers -- this counts from the end of the array, starting with -1 for the last element."
   ]
  },
  {
   "cell_type": "code",
   "execution_count": null,
   "id": "a9832006-bb7e-44be-9df5-da1b20c5a970",
   "metadata": {},
   "outputs": [],
   "source": [
    "holyhandgrenade[-1]"
   ]
  },
  {
   "cell_type": "code",
   "execution_count": null,
   "id": "03fb2d39-0f3f-4e96-825b-64fba062da94",
   "metadata": {},
   "outputs": [],
   "source": [
    "holyhandgrenade[-3]"
   ]
  },
  {
   "cell_type": "code",
   "execution_count": null,
   "id": "14795d1c-20be-4c7f-8c34-8fedabb0e927",
   "metadata": {},
   "outputs": [],
   "source": [
    "# Indexing too far in the negative direction will also give an error\n",
    "holyhandgrenade[-4]"
   ]
  },
  {
   "cell_type": "markdown",
   "id": "99269719-6d59-4dd7-ab92-d1726e56c566",
   "metadata": {},
   "source": [
    "Slices hold for negative indexing."
   ]
  },
  {
   "cell_type": "code",
   "execution_count": null,
   "id": "38a5b020-dbc6-4280-88af-0e02aadb0fc4",
   "metadata": {},
   "outputs": [],
   "source": [
    "holyhandgrenade[-3:-1]"
   ]
  },
  {
   "cell_type": "code",
   "execution_count": null,
   "id": "e804c647-2463-496c-acfc-52851ab8478f",
   "metadata": {},
   "outputs": [],
   "source": [
    "holyhandgrenade[-3:0]"
   ]
  },
  {
   "cell_type": "markdown",
   "id": "c2d983ac-451e-4b1b-a305-65bf06311860",
   "metadata": {},
   "source": [
    "If you leave one index out (or both), Python assumes you want to go to the beginning and/or end of the array."
   ]
  },
  {
   "cell_type": "code",
   "execution_count": null,
   "id": "8f6a413f-1302-4a36-ad3e-75b048f73fb5",
   "metadata": {},
   "outputs": [],
   "source": [
    "holyhandgrenade[-3:]"
   ]
  },
  {
   "cell_type": "code",
   "execution_count": null,
   "id": "44afeb52-3ef9-4e65-b0fd-8c6e40292bc7",
   "metadata": {},
   "outputs": [],
   "source": [
    "holyhandgrenade[:]"
   ]
  },
  {
   "cell_type": "code",
   "execution_count": null,
   "id": "23ecf9ff-9043-4090-b853-e0bc92516150",
   "metadata": {},
   "outputs": [],
   "source": [
    "holyhandgrenade[2]"
   ]
  },
  {
   "cell_type": "markdown",
   "id": "bc581a21-5bd9-490e-ad62-2edfcaa49d0e",
   "metadata": {},
   "source": [
    "List are mutable, so you can reassign the value of individual elements."
   ]
  },
  {
   "cell_type": "code",
   "execution_count": null,
   "id": "ae9f4efb-35f9-42a1-aba2-e668a61f896a",
   "metadata": {},
   "outputs": [],
   "source": [
    "holyhandgrenade[2] = 3"
   ]
  },
  {
   "cell_type": "code",
   "execution_count": null,
   "id": "a2f49d92-f663-4bb3-9be5-b59388f5ab74",
   "metadata": {},
   "outputs": [],
   "source": [
    "holyhandgrenade[:]"
   ]
  },
  {
   "cell_type": "markdown",
   "id": "73d150aa-c7b3-42ad-8f7f-905e0de62d91",
   "metadata": {},
   "source": [
    "Lists can also hold other data types such as strings."
   ]
  },
  {
   "cell_type": "code",
   "execution_count": null,
   "id": "dd9df80d-abf4-42bb-a285-b6b86a516e28",
   "metadata": {},
   "outputs": [],
   "source": [
    "holyhandgrenade = ['one','two','five']"
   ]
  },
  {
   "cell_type": "code",
   "execution_count": null,
   "id": "0febc5a2-fc13-407b-bf2d-1861c2f55578",
   "metadata": {},
   "outputs": [],
   "source": [
    "holyhandgrenade"
   ]
  },
  {
   "cell_type": "markdown",
   "id": "2eb032f7-1cd9-46d8-a5b6-980b6b3b53ed",
   "metadata": {},
   "source": [
    "Lists come with their own set of methods."
   ]
  },
  {
   "cell_type": "code",
   "execution_count": null,
   "id": "a0005a22-410f-45e5-9c9b-698b878c3d47",
   "metadata": {},
   "outputs": [],
   "source": [
    "holyhandgrenade.sort()"
   ]
  },
  {
   "cell_type": "code",
   "execution_count": null,
   "id": "aa54ff67-6119-4e9f-960f-8c834aed43c5",
   "metadata": {},
   "outputs": [],
   "source": [
    "# sort is alphabetical for strings\n",
    "holyhandgrenade"
   ]
  },
  {
   "cell_type": "code",
   "execution_count": null,
   "id": "990536d7-20c8-486a-b045-b3d4f688f63d",
   "metadata": {},
   "outputs": [],
   "source": [
    "holyhandgrenade.reverse()"
   ]
  },
  {
   "cell_type": "code",
   "execution_count": null,
   "id": "7aac5ef1-ebea-479d-91bd-b065938361d8",
   "metadata": {},
   "outputs": [],
   "source": [
    "# reverse is also alphabetical for strings\n",
    "holyhandgrenade"
   ]
  },
  {
   "cell_type": "code",
   "execution_count": null,
   "id": "3863d44c-1c7c-4017-bbc4-f478d1d5a474",
   "metadata": {},
   "outputs": [],
   "source": [
    "holyhandgrenade.append('three')"
   ]
  },
  {
   "cell_type": "code",
   "execution_count": null,
   "id": "e39c660d-306f-42e8-b7c6-693f98e9f0f2",
   "metadata": {},
   "outputs": [],
   "source": [
    "holyhandgrenade"
   ]
  },
  {
   "cell_type": "markdown",
   "id": "cb4b7d4c-552a-4c23-92cc-4e9bc3216e39",
   "metadata": {},
   "source": [
    "<div class=\"alert alert-info\">\n",
    "\n",
    "<b>Your turn:</b>\n",
    "\n",
    "1. Make your own list with 5+ elements\n",
    "2. Try out the \"pop\" method to see what it does, then try it with a value between the parentheses\n",
    "\n",
    "</div>"
   ]
  },
  {
   "cell_type": "code",
   "execution_count": null,
   "id": "977b1734-d91c-4396-8368-65581abf3a3a",
   "metadata": {},
   "outputs": [],
   "source": [
    "# Enter your code for #1 here:\n",
    "\n"
   ]
  },
  {
   "cell_type": "code",
   "execution_count": null,
   "id": "f547e4f7-87f7-454e-a342-d79be4dd0e04",
   "metadata": {},
   "outputs": [],
   "source": [
    "# Enter your code for #2 here:\n",
    "\n"
   ]
  },
  {
   "cell_type": "markdown",
   "id": "e3dd32f8-4455-4858-97b8-c83bd44e421c",
   "metadata": {},
   "source": [
    "<div class=\"alert alert-danger\">\n",
    "\n",
    "<b>Help!!</b>\n",
    "\n",
    "</div>"
   ]
  },
  {
   "cell_type": "markdown",
   "id": "3e2eb190-c93c-488d-8d1b-658c53d4715e",
   "metadata": {},
   "source": [
    "Sometimes you may need some help in understanding what a variable really is, what functions are available for it, or accessing some kind of help documentation for it.\n",
    "\n",
    "The following can be useful:\n",
    "* `type`: tells you the data type of the variable\n",
    "* `dir`: shows you a list of the attributes and functions that are a part of the object\n",
    "* `help`: shows help documentation for a function, provided the code author has written something for it"
   ]
  },
  {
   "cell_type": "code",
   "execution_count": null,
   "id": "e7943cd4-ef7b-46ee-95d1-65de15d97d67",
   "metadata": {},
   "outputs": [],
   "source": [
    "type(holyhandgrenade)"
   ]
  },
  {
   "cell_type": "code",
   "execution_count": null,
   "id": "3e3f3b23-5846-4e81-b660-f45b5a26ea9e",
   "metadata": {
    "tags": []
   },
   "outputs": [],
   "source": [
    "dir(holyhandgrenade)"
   ]
  },
  {
   "cell_type": "code",
   "execution_count": null,
   "id": "1501db0a-9811-48b4-a9b1-8055c79c6963",
   "metadata": {},
   "outputs": [],
   "source": [
    "help(holyhandgrenade)"
   ]
  },
  {
   "cell_type": "code",
   "execution_count": null,
   "id": "33d08037-30b8-4ef7-89e2-d0bb71df51fc",
   "metadata": {},
   "outputs": [],
   "source": [
    "help(holyhandgrenade.append)"
   ]
  },
  {
   "cell_type": "code",
   "execution_count": null,
   "id": "6f2576ce-e214-4686-9956-fc74406321b8",
   "metadata": {},
   "outputs": [],
   "source": [
    "print(holyhandgrenade.__doc__)"
   ]
  },
  {
   "cell_type": "code",
   "execution_count": null,
   "id": "b912564a-105c-468d-b984-faaf4ee1ed7b",
   "metadata": {},
   "outputs": [],
   "source": [
    "holyhandgrenade?"
   ]
  },
  {
   "cell_type": "markdown",
   "id": "a81db966-2032-44f3-a927-d6c5adcbd7b4",
   "metadata": {},
   "source": [
    "## Dictionaries"
   ]
  },
  {
   "cell_type": "markdown",
   "id": "459c21be-3bb6-4206-aa89-00801bf3ca0a",
   "metadata": {},
   "source": [
    "Python has several ways to denote collections of elements besides lists.\n",
    "\n",
    "Here we will look at dictionaries.  Dictionaries are surrounded by curly braces, but importantly, they include explicit \"keys\" for referring to \"values\", as opposed to indexing by numerical order like lists."
   ]
  },
  {
   "cell_type": "code",
   "execution_count": null,
   "id": "65729c2b-9220-4167-930b-bfec12338d0e",
   "metadata": {},
   "outputs": [],
   "source": [
    "riddleanswers = {'name':'Lancelot', 'quest':'Holy Grail', 'favorite colour':'blue'}"
   ]
  },
  {
   "cell_type": "code",
   "execution_count": null,
   "id": "4f3f92a5-18ca-4df9-a7b2-7261f05716af",
   "metadata": {},
   "outputs": [],
   "source": [
    "# This gives an error because dictionaries are indexed by their own set of keys\n",
    "riddleanswers[2]"
   ]
  },
  {
   "cell_type": "code",
   "execution_count": null,
   "id": "66e92106-7627-4149-9e75-f1cf7d98dea5",
   "metadata": {},
   "outputs": [],
   "source": [
    "riddleanswers['favorite colour']"
   ]
  },
  {
   "cell_type": "code",
   "execution_count": null,
   "id": "83f87f34-2078-430c-8c93-cba32ff9770e",
   "metadata": {},
   "outputs": [],
   "source": [
    "riddleanswers.keys()"
   ]
  },
  {
   "cell_type": "code",
   "execution_count": null,
   "id": "fc42ee1b-24c4-4e06-978c-a5b3158531b1",
   "metadata": {},
   "outputs": [],
   "source": [
    "riddleanswers.values()"
   ]
  },
  {
   "cell_type": "markdown",
   "id": "94874947-1e7c-4b70-80e9-ebe4a4a0a9af",
   "metadata": {},
   "source": [
    "<div class=\"alert alert-info\">\n",
    "\n",
    "<b>Your turn:</b>\n",
    "\n",
    "1. Add a new key/value pair to riddleanswers\n",
    "2. Do a quick search on Google and see if you can figure out how to remove `\"name\":\"Lancelot\"` from this dictionary\n",
    "\n",
    "</div>"
   ]
  },
  {
   "cell_type": "code",
   "execution_count": null,
   "id": "27cd703b-45a1-4321-9eda-5896439ca3d4",
   "metadata": {},
   "outputs": [],
   "source": [
    "# Enter your code for #1 here:\n",
    "\n"
   ]
  },
  {
   "cell_type": "code",
   "execution_count": null,
   "id": "36df47e4-1163-48c8-a176-96eae6af3873",
   "metadata": {},
   "outputs": [],
   "source": [
    "# Enter your code for #2 here:\n",
    "\n"
   ]
  },
  {
   "cell_type": "markdown",
   "id": "bf94d5b5-414e-4576-a178-14e214d321b7",
   "metadata": {},
   "source": [
    "## Conditionals and Loops"
   ]
  },
  {
   "cell_type": "markdown",
   "id": "cc5c609d-4b40-41d3-8383-abb78a468a61",
   "metadata": {},
   "source": [
    "Mathematical conditions:\n",
    "* Equals: `==`\n",
    "* Does not equal: `!=`\n",
    "* Less than: `<`\n",
    "* Less than or equal to: `<=`\n",
    "* Greater than: `>`\n",
    "* Greater than or equal to: `>=`"
   ]
  },
  {
   "cell_type": "markdown",
   "id": "cc4f2d1c-de71-4077-8b95-68fe2755576a",
   "metadata": {},
   "source": [
    "These are rather straight-forward -- try executing the following cells to check the True and False values."
   ]
  },
  {
   "cell_type": "code",
   "execution_count": null,
   "id": "029e21b0-a524-408c-a4bf-00f1ed5e7184",
   "metadata": {},
   "outputs": [],
   "source": [
    "3 == 4"
   ]
  },
  {
   "cell_type": "code",
   "execution_count": null,
   "id": "fb05b9f5-1d60-45cf-a854-65f497f8266e",
   "metadata": {},
   "outputs": [],
   "source": [
    "3 != 4"
   ]
  },
  {
   "cell_type": "code",
   "execution_count": null,
   "id": "579b2e10-0125-432d-b73a-658a439960a3",
   "metadata": {},
   "outputs": [],
   "source": [
    "3 < 4"
   ]
  },
  {
   "cell_type": "code",
   "execution_count": null,
   "id": "719809a9-4711-4c82-a5ee-37890d88bffc",
   "metadata": {},
   "outputs": [],
   "source": [
    "3 <= 4"
   ]
  },
  {
   "cell_type": "code",
   "execution_count": null,
   "id": "a4d73e3d-080d-41fd-97d0-c6898aed605c",
   "metadata": {},
   "outputs": [],
   "source": [
    "3 > 4"
   ]
  },
  {
   "cell_type": "code",
   "execution_count": null,
   "id": "8665d6b6-4b25-4945-baa8-a7909e320b75",
   "metadata": {},
   "outputs": [],
   "source": [
    "3 >= 4"
   ]
  },
  {
   "cell_type": "markdown",
   "id": "91ad53eb-d568-4941-b431-089746408ac2",
   "metadata": {},
   "source": [
    "### Executing commands based on a condition\n",
    "\n",
    "`if`, `elif`, and `else` allow you to execute Python commands only if some condition is satisfied."
   ]
  },
  {
   "cell_type": "code",
   "execution_count": null,
   "id": "5cea0057-5ba1-4369-9707-d1417f01e1e2",
   "metadata": {},
   "outputs": [],
   "source": [
    "if 3 == 4:\n",
    "    print('3 is equal to 4')"
   ]
  },
  {
   "cell_type": "code",
   "execution_count": null,
   "id": "b6161971-db80-4727-8479-857a263e5c6c",
   "metadata": {},
   "outputs": [],
   "source": [
    "if 4 == 4:\n",
    "    print('This is self-evident')"
   ]
  },
  {
   "cell_type": "markdown",
   "id": "50694582-a0fe-4293-8770-095ad836507c",
   "metadata": {},
   "source": [
    "Python uses indentation to define blocks of code\n",
    "* this is not merely a matter of style in Python\n",
    "* it is *very* important for defining blocks of code\n",
    "* it is up to you how many spaces you want to use for indentation, as long as you are consistent\n",
    "* you can not mix tabs and spaces -- here in Jupyter, the indentation is set automatically to 4 spaces"
   ]
  },
  {
   "cell_type": "code",
   "execution_count": null,
   "id": "8d6aec5e-cd2f-4e26-a444-f13611fb5859",
   "metadata": {},
   "outputs": [],
   "source": [
    "if 3 == 4:\n",
    "    print('3 is equal to 4')\n",
    "elif 3 > 4:\n",
    "    print('3 is greater than 4')"
   ]
  },
  {
   "cell_type": "code",
   "execution_count": null,
   "id": "603c609b-c734-49d2-86de-e33386b7ff74",
   "metadata": {},
   "outputs": [],
   "source": [
    "if 3 == 4:\n",
    "    print('3 is equal to 4')\n",
    "elif 3 < 4:\n",
    "    print('3 is less than 4')"
   ]
  },
  {
   "cell_type": "code",
   "execution_count": null,
   "id": "dd679007-5b8f-4f04-a3ee-79b45f7a7b06",
   "metadata": {},
   "outputs": [],
   "source": [
    "if 3 == 4:\n",
    "    print('3 is equal to 4')\n",
    "elif 3 > 4:\n",
    "    print('3 is greater than 4')\n",
    "else:\n",
    "    print('3 is not equal to or greater than 4')"
   ]
  },
  {
   "cell_type": "markdown",
   "id": "ef8b28d6-8b7f-4af9-b085-3acad0761e29",
   "metadata": {},
   "source": [
    "You can evaluate more than one True/False condition in the statements by combining conditions with `and`, `or`, and `not`"
   ]
  },
  {
   "cell_type": "code",
   "execution_count": null,
   "id": "f0cf9125-c891-43fa-a956-a7ab5ad9257b",
   "metadata": {},
   "outputs": [],
   "source": [
    "(1==1) and (2==2)"
   ]
  },
  {
   "cell_type": "code",
   "execution_count": null,
   "id": "5bd074e7-d700-4dcc-b1c4-73472cd77cac",
   "metadata": {},
   "outputs": [],
   "source": [
    "(1==2) or (2==2)"
   ]
  },
  {
   "cell_type": "code",
   "execution_count": null,
   "id": "497e5bcf-abda-42ce-b2f4-f9236694f094",
   "metadata": {},
   "outputs": [],
   "source": [
    "not(1==2)"
   ]
  },
  {
   "cell_type": "code",
   "execution_count": null,
   "id": "f4d81f90-7a91-4aef-a93e-8c67862556f0",
   "metadata": {},
   "outputs": [],
   "source": [
    "claim = 5\n",
    "if claim == 1 or claim == 2:\n",
    "    print('do not throw the grenade yet')\n",
    "elif claim == 3:\n",
    "    print('throw the grenade')\n",
    "elif claim == 5:\n",
    "    print('Silly Arthur.  3 comes after 2.')\n",
    "else:\n",
    "    print('You are too late - kaboom!')"
   ]
  },
  {
   "cell_type": "markdown",
   "id": "5b86716f-18b8-48ef-b575-acf038edaf7a",
   "metadata": {},
   "source": [
    "<div class=\"alert alert-info\">\n",
    "\n",
    "<b>Your turn:</b>\n",
    "\n",
    "Try assigning different values to `claim` below and re-executing the cell several times to make sure you can follow the logic of the resulting print statement.\n",
    "\n",
    "</div>"
   ]
  },
  {
   "cell_type": "code",
   "execution_count": null,
   "id": "2f53e507-df9a-4190-8c70-8454f9c8dc5e",
   "metadata": {},
   "outputs": [],
   "source": [
    "# Switch the value of claim to check the logic\n",
    "\n",
    "claim = 5\n",
    "if claim == 1 or claim == 2:\n",
    "    print('do not throw the grenade yet')\n",
    "elif claim == 3:\n",
    "    print('throw the grenade')\n",
    "elif claim == 5:\n",
    "    print('Silly Arthur.  3 comes after 2.')\n",
    "else:\n",
    "    print('You are too late - kaboom!')"
   ]
  },
  {
   "cell_type": "markdown",
   "id": "d290b807-db82-480f-be66-5b3fc4e1a8be",
   "metadata": {},
   "source": [
    "### For loops\n",
    "\n",
    "It can be useful to repeat an operation several times.  *For* loops can be used to repeat a command:\n",
    "* a given number of times\n",
    "  * special function `range`\n",
    "    * `range(n)` returns a sequence of numbers from 0 to n (n not included)\n",
    "    * `range(n,m)` returns a sequence of numbers from n to m (m not included)\n",
    "    * `range(n,m,i)` returns a sequence of numbers from n to m (m not included) with an interval of i between numbers\n",
    "* for every element in a list\n",
    "* for every key or value in a dictionary\n",
    "* for some iterable set of values"
   ]
  },
  {
   "cell_type": "code",
   "execution_count": null,
   "id": "7c535b71-f5f5-480c-a531-c3a43f4e8ad9",
   "metadata": {},
   "outputs": [],
   "source": [
    "for disneytrip in range(10):\n",
    "    print(str(disneytrip) + ': Are we there yet?')"
   ]
  },
  {
   "cell_type": "code",
   "execution_count": null,
   "id": "14e726c6-7e0f-47e5-9d2d-e86804c5befc",
   "metadata": {},
   "outputs": [],
   "source": [
    "for letter in parrotreturn:\n",
    "    print(letter)"
   ]
  },
  {
   "cell_type": "markdown",
   "id": "226eb638-7d7a-402a-bb16-cc3c45f3fb06",
   "metadata": {},
   "source": [
    "You can bypass print's inclusion of the newline by specifying the end character to be nothing."
   ]
  },
  {
   "cell_type": "code",
   "execution_count": null,
   "id": "ca9a3317-2c7f-42f2-a2f4-4325c64f5b27",
   "metadata": {},
   "outputs": [],
   "source": [
    "for letter in parrotreturn:\n",
    "    print(letter, end='')"
   ]
  },
  {
   "cell_type": "markdown",
   "id": "0cc6b9ec-a868-473a-a9aa-18a1e75a443f",
   "metadata": {},
   "source": [
    "\"For\" is also useful and very intuitive for iterating over dictionaries."
   ]
  },
  {
   "cell_type": "code",
   "execution_count": null,
   "id": "d2ef2f86-a96f-4175-bf54-05c963834f6f",
   "metadata": {},
   "outputs": [],
   "source": [
    "riddleanswers"
   ]
  },
  {
   "cell_type": "code",
   "execution_count": null,
   "id": "fb244fdd-05b3-4874-a68d-1e4314dd3e79",
   "metadata": {},
   "outputs": [],
   "source": [
    "for k in riddleanswers:\n",
    "    print(k)"
   ]
  },
  {
   "cell_type": "code",
   "execution_count": null,
   "id": "3819eed9-c640-4941-8f9c-e43f0c550e1c",
   "metadata": {},
   "outputs": [],
   "source": [
    "for k in riddleanswers:\n",
    "    print(riddleanswers[k])"
   ]
  },
  {
   "cell_type": "code",
   "execution_count": null,
   "id": "c82daae9-3083-4e9b-b2fc-76cacbfaa2fc",
   "metadata": {},
   "outputs": [],
   "source": [
    "for key, value in riddleanswers.items():\n",
    "    print(key + ': ' + value)"
   ]
  },
  {
   "cell_type": "markdown",
   "id": "842ec0fc-09c1-4d31-bf28-2c9d3c2c89e5",
   "metadata": {},
   "source": [
    "`range` can be useful for iterating over some set of integers."
   ]
  },
  {
   "cell_type": "code",
   "execution_count": null,
   "id": "7f9ae5c4-2a64-484b-808d-e6bd1d9d0130",
   "metadata": {},
   "outputs": [],
   "source": [
    "for i in range(3):\n",
    "    print(i)"
   ]
  },
  {
   "cell_type": "code",
   "execution_count": null,
   "id": "87a3af2c-4176-425f-8710-2691379d4546",
   "metadata": {},
   "outputs": [],
   "source": [
    "for i in range(1,4):\n",
    "    print(i)"
   ]
  },
  {
   "cell_type": "markdown",
   "id": "9758815c-e387-4291-a618-7cdb2c399d0c",
   "metadata": {},
   "source": [
    "<div class=\"alert alert-info\">\n",
    "\n",
    "<b>Your turn:</b>\n",
    "\n",
    "Create a for loop that prints the sequence 1, 2, 5\n",
    "\n",
    "</div>"
   ]
  },
  {
   "cell_type": "code",
   "execution_count": null,
   "id": "cb6446bc-ed4e-4b31-a651-1c6838ff20c9",
   "metadata": {},
   "outputs": [],
   "source": [
    "# Enter code here and execute the cell:\n",
    "\n"
   ]
  },
  {
   "cell_type": "markdown",
   "id": "0a8c0476-8a13-429b-b67f-69499d5caf55",
   "metadata": {},
   "source": [
    "## Functions"
   ]
  },
  {
   "cell_type": "markdown",
   "id": "fc86a268-e919-4ab3-ac99-c24aa6ba54d4",
   "metadata": {},
   "source": [
    "Let's consider a mathematical operation that we wouldn't want to keep typing every time when run it.\n",
    "\n",
    "The following is an equation for calculating compound interest with annual contributions\n",
    "\n",
    "* p = principal\n",
    "* r = annual interest rate in percent\n",
    "* y = year of the balance\n",
    "* c = annual contribution (made at the start of the year)\n",
    "\n",
    "$$\\text{Balance}(y) = p(1 + r)^y + c\\left[\\frac{(1 + r)^{y+1} - (1 + r)}{r} \\right]$$"
   ]
  },
  {
   "cell_type": "markdown",
   "id": "6796db01-5348-414f-96a4-7a528709f058",
   "metadata": {},
   "source": [
    "Ideally we'd like to plug in a bunch of numbers and see what comes out.\n",
    "\n",
    "Functions allow you to collect together a block of code, name it, and run it when called.\n",
    "\n",
    "You can pass data into functions and you can get results returned from functions."
   ]
  },
  {
   "cell_type": "code",
   "execution_count": null,
   "id": "2a9a3329-2e36-4e8e-9931-f6c5efa0bcc0",
   "metadata": {},
   "outputs": [],
   "source": [
    "## Functions start with \"def\",\n",
    "## then the function name, followed immediately by parentheses, the parameter list,\n",
    "## and the function body indented.\n",
    "## The function ends when the indentation stops on a given line\n",
    "\n",
    "def f():\n",
    "    print('Hello World!')"
   ]
  },
  {
   "cell_type": "code",
   "execution_count": null,
   "id": "41e85ee4-e68c-4c4c-a6dc-5e595d694790",
   "metadata": {},
   "outputs": [],
   "source": [
    "f()"
   ]
  },
  {
   "cell_type": "code",
   "execution_count": null,
   "id": "1a7dd410-794a-48a8-ac74-7ed094e3afce",
   "metadata": {},
   "outputs": [],
   "source": [
    "def f2(a):\n",
    "    return a*2"
   ]
  },
  {
   "cell_type": "code",
   "execution_count": null,
   "id": "f6522cad-a9ef-4248-81d9-af902bb2f6ea",
   "metadata": {},
   "outputs": [],
   "source": [
    "f2"
   ]
  },
  {
   "cell_type": "code",
   "execution_count": null,
   "id": "fb68052f-f716-416a-b028-10fa62d7fe5e",
   "metadata": {},
   "outputs": [],
   "source": [
    "f2(3)"
   ]
  },
  {
   "cell_type": "code",
   "execution_count": null,
   "id": "20e5cb6e-a380-442d-b136-5352a66e8cff",
   "metadata": {},
   "outputs": [],
   "source": [
    "f2(a=4)"
   ]
  },
  {
   "cell_type": "code",
   "execution_count": null,
   "id": "5de62f89-7381-4aec-a499-d8913516aa49",
   "metadata": {},
   "outputs": [],
   "source": [
    "def f(p,r,y,c):\n",
    "    return p*(1 + r)**y + c*( ((1 + r)**(y+1) - (1 + r)) / r )"
   ]
  },
  {
   "cell_type": "code",
   "execution_count": null,
   "id": "41a2fd68-3e41-4964-813a-21b498ebef66",
   "metadata": {},
   "outputs": [],
   "source": [
    "year = 1\n",
    "principal = 1000\n",
    "rate = 5\n",
    "annual_contribution = 100\n",
    "f(principal, rate, year, annual_contribution)"
   ]
  },
  {
   "cell_type": "code",
   "execution_count": null,
   "id": "9bdc1248-f280-4c4c-abb9-18ec468066f7",
   "metadata": {},
   "outputs": [],
   "source": [
    "# you can include math operations inside the argument list for the function call\n",
    "year = 1\n",
    "principal = 1000\n",
    "rate = 5\n",
    "annual_contribution = 100\n",
    "f(principal, rate/100, year, annual_contribution)"
   ]
  },
  {
   "cell_type": "code",
   "execution_count": null,
   "id": "6cda39d4-cbc5-49de-a022-d6fac1e8f0dc",
   "metadata": {},
   "outputs": [],
   "source": [
    "# The following shows a function with a two-line body\n",
    "# The 2nd line includes some fancier string formatting\n",
    "def f2digit(p,r,y,c):\n",
    "    r = r/100\n",
    "    return '{:.2f}'.format(p*(1 + r)**y + c*( ((1 + r)**(y+1) - (1 + r)) / r ))"
   ]
  },
  {
   "cell_type": "code",
   "execution_count": null,
   "id": "a8443744-6a0f-4999-a375-cc236da076f1",
   "metadata": {},
   "outputs": [],
   "source": [
    "year = 45\n",
    "principal = 1000\n",
    "rate = 5\n",
    "annual_contribution = 6500\n",
    "f2digit(principal, rate, year, annual_contribution)"
   ]
  },
  {
   "cell_type": "code",
   "execution_count": null,
   "id": "ad2c6f2a-46fd-4129-b700-ff63e1335bf7",
   "metadata": {},
   "outputs": [],
   "source": [
    "# As you might imagine, functions can extend for an arbitrary number of lines\n",
    "# and once you get started, functions can be much longer than this\n",
    "def f2digit(p,r,y,c):\n",
    "    r = r/100\n",
    "    amountsaved = '{:.2f}'.format(p*(1 + r)**y + c*( ((1 + r)**(y+1) - (1 + r)) / r ))\n",
    "    saying = \"If you save for \" + str(y) + \" years, then you'll have $\" + amountsaved + \" in your retirement.\"\n",
    "    return saying"
   ]
  },
  {
   "cell_type": "code",
   "execution_count": null,
   "id": "8f64482a-f5dd-4d17-b685-ea7dd84b0a8e",
   "metadata": {},
   "outputs": [],
   "source": [
    "year = 45\n",
    "principal = 1000\n",
    "rate = 5\n",
    "annual_contribution = 6500\n",
    "f2digit(principal, rate, year, annual_contribution)"
   ]
  },
  {
   "cell_type": "markdown",
   "id": "a3337142-3855-48d6-a06d-d8b037ad3b15",
   "metadata": {},
   "source": [
    "<div class=\"alert alert-danger\">\n",
    "\n",
    "What's happening here with the string formatting??  Is there documentation?!\n",
    "    \n",
    ".... and can I put commas in the number?\n",
    "    \n",
    "</div>"
   ]
  },
  {
   "cell_type": "markdown",
   "id": "813d83c7-4361-45f4-8ac7-22f81d187585",
   "metadata": {},
   "source": [
    "* Google is a fantastic reference for python questions\n",
    "* Many many common questions have already been asked and answered\n",
    "* A quick search may lead you right to the answer you need\n",
    "(https://stackoverflow.com/questions/5180365/python-add-comma-into-number-string)"
   ]
  },
  {
   "cell_type": "markdown",
   "id": "a81b8efa-7906-4bdb-a143-5bf891608283",
   "metadata": {},
   "source": [
    "To follow up on this after class, you may find it interesting to check out the documentation for Python.\n",
    "* The answers on that stackoverflow page have a link for PEP (Python Enhancement Proposal) and thereby to https://www.python.org/\n",
    "* The page also has another link for the official documentation (https://docs.python.org/3/)\n",
    "* You may not immediately appreciate all the points on the documentation site, but that is ok.\n",
    "* It's intended to be a complete reference, and therefore reading through it is like reading through a dictionary -- not necessarily fun, but comprehensive\n"
   ]
  },
  {
   "cell_type": "code",
   "execution_count": null,
   "id": "a07c798b-553f-4599-b0aa-d46514ec90e2",
   "metadata": {},
   "outputs": [],
   "source": [
    "def f2digit(p,r,y,c):\n",
    "    r = r/100\n",
    "    amountsaved = '{:,.2f}'.format(p*(1 + r)**y + c*( ((1 + r)**(y+1) - (1 + r)) / r ))\n",
    "    saying = \"If you save for \" + str(y) + \" years, then you'll have $\" + amountsaved + \" in your retirement.\"\n",
    "    return saying"
   ]
  },
  {
   "cell_type": "code",
   "execution_count": null,
   "id": "fbc03d9c-17ed-4c43-8c00-8d89a3842b89",
   "metadata": {},
   "outputs": [],
   "source": [
    "year = 45\n",
    "principal = 1000\n",
    "rate = 5\n",
    "annual_contribution = 6500\n",
    "f2digit(principal, rate, year, annual_contribution)"
   ]
  },
  {
   "cell_type": "markdown",
   "id": "0669dde9-ecb7-4f4d-a664-2619ed86616e",
   "metadata": {},
   "source": [
    "<div class=\"alert alert-info\">\n",
    "\n",
    "<b>Your turn:</b>\n",
    "\n",
    "1. Write your own function definition\n",
    "2. Call your function several times to make sure it works\n",
    "    \n",
    "</div>"
   ]
  },
  {
   "cell_type": "code",
   "execution_count": null,
   "id": "53eed321-71e1-4935-8cda-93f04d06ec4c",
   "metadata": {},
   "outputs": [],
   "source": [
    "# Enter your code for #1 here:\n",
    "\n"
   ]
  },
  {
   "cell_type": "code",
   "execution_count": null,
   "id": "9bc9ec2c-d8d6-4481-a0a0-e408cf594a0f",
   "metadata": {},
   "outputs": [],
   "source": [
    "# Enter your code for #2 here:\n",
    "\n"
   ]
  },
  {
   "cell_type": "markdown",
   "id": "ccad24a3-8969-4205-82d4-fcf564f91a37",
   "metadata": {},
   "source": [
    "<div class=\"alert alert-info\">\n",
    "\n",
    "<b>When you're finished, go into the Canvas site and try this week's Quiz</b>\n",
    "    \n",
    "</div>"
   ]
  }
 ],
 "metadata": {
  "kernelspec": {
   "display_name": "Python 3 (ipykernel)",
   "language": "python",
   "name": "python3"
  },
  "language_info": {
   "codemirror_mode": {
    "name": "ipython",
    "version": 3
   },
   "file_extension": ".py",
   "mimetype": "text/x-python",
   "name": "python",
   "nbconvert_exporter": "python",
   "pygments_lexer": "ipython3",
   "version": "3.9.6"
  }
 },
 "nbformat": 4,
 "nbformat_minor": 5
}
