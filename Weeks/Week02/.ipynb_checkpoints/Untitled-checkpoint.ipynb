{
 "cells": [
  {
   "cell_type": "markdown",
   "id": "d8915a67-9ef0-45b8-bdcb-c2b6d2520915",
   "metadata": {},
   "source": [
    "# Data & Python Fundamentals\n",
    "\n",
    "* Data \n",
    "  * General data formatting: docx, txt, xlsx, xml, csv, json, html, hdf, db, ...\n",
    "  * Python data: numbers, strings, lists, dicts\n",
    "* Conditions\n",
    "  * if, elif, else\n",
    "* Loops\n",
    "  * while and for\n",
    "* Functions\n",
    "* Modules"
   ]
  },
  {
   "cell_type": "markdown",
   "id": "1fd74336-8dc3-4e20-a5e1-bfebd76ff3fc",
   "metadata": {},
   "source": [
    "<div class=\"alert alert-danger\">\n",
    "\n",
    "Hi\n",
    "\n",
    "</div>"
   ]
  },
  {
   "cell_type": "markdown",
   "id": "480a090a-d3b6-49c6-b0f2-4dcaa2c6274b",
   "metadata": {},
   "source": [
    "<div class=\"alert alert-info\">\n",
    "\n",
    "Hi\n",
    "\n",
    "</div>"
   ]
  },
  {
   "cell_type": "markdown",
   "id": "4b305c0d-f1db-4701-866f-1d578f3aaea9",
   "metadata": {},
   "source": [
    "<div class=\"alert alert-warning\">\n",
    "\n",
    "Hi\n",
    "\n",
    "</div>"
   ]
  },
  {
   "cell_type": "markdown",
   "id": "16f99818-28d6-4c2a-99bb-a0c1af94d1cb",
   "metadata": {},
   "source": [
    "<div class=\"alert alert-success\">\n",
    "\n",
    "Hi\n",
    "\n",
    "</div>"
   ]
  },
  {
   "cell_type": "markdown",
   "id": "8b75b6dc-eff7-4489-8af6-5c59e63b667c",
   "metadata": {},
   "source": [
    "### Data types\n",
    "\n",
    "There are 4 basic *data types* in Python as shown in the table below.\n",
    "\n",
    "| Data type name | Data type            | Example    |\n",
    "| -------------- | -------------------- | ---------- |\n",
    "| `int`          | Whole integer values | `4`        |\n",
    "| `float`        | Decimal values       | `3.1415`   |\n",
    "| `str`          | Character strings    | `'Hot'`    |\n",
    "| `bool`         | True/false values    | `True`     |\n",
    "\n",
    "The data type can be found using the `type()` function."
   ]
  },
  {
   "cell_type": "code",
   "execution_count": 7,
   "id": "37a4e075-84c4-4f84-96ce-2ba0d0d8a69f",
   "metadata": {},
   "outputs": [
    {
     "data": {
      "text/plain": [
       "int"
      ]
     },
     "execution_count": 7,
     "metadata": {},
     "output_type": "execute_result"
    }
   ],
   "source": [
    "type(-4)"
   ]
  },
  {
   "cell_type": "code",
   "execution_count": null,
   "id": "7970b48f-13a0-45a5-b667-8ec155d21724",
   "metadata": {},
   "outputs": [],
   "source": []
  }
 ],
 "metadata": {
  "kernelspec": {
   "display_name": "Python 3 (ipykernel)",
   "language": "python",
   "name": "python3"
  },
  "language_info": {
   "codemirror_mode": {
    "name": "ipython",
    "version": 3
   },
   "file_extension": ".py",
   "mimetype": "text/x-python",
   "name": "python",
   "nbconvert_exporter": "python",
   "pygments_lexer": "ipython3",
   "version": "3.9.6"
  }
 },
 "nbformat": 4,
 "nbformat_minor": 5
}
