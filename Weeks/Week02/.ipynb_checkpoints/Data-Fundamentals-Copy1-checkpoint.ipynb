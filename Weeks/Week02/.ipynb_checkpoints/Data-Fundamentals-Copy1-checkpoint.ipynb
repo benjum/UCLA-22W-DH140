{
 "cells": [
  {
   "cell_type": "markdown",
   "id": "0979fbfc-71b4-41ea-bf02-78838798c9fb",
   "metadata": {},
   "source": [
    "# Data & Python Fundamentals\n",
    "\n",
    "* Data \n",
    "  * General data formatting: docx, txt, xlsx, xml, csv, json, html, hdf, db, ...\n",
    "  * Python data: numbers, strings, lists, dicts\n",
    "* Conditions\n",
    "  * if, elif, else\n",
    "* Loops\n",
    "  * while and for\n",
    "* Functions\n",
    "* Modules"
   ]
  },
  {
   "cell_type": "markdown",
   "id": "6d4fcf37-bbc2-47bf-a860-4b622ec32065",
   "metadata": {},
   "source": [
    "## Simple operations"
   ]
  },
  {
   "cell_type": "markdown",
   "id": "a6f6b955-d128-4cce-ac5d-dc889d63c786",
   "metadata": {},
   "source": [
    "### Math\n",
    "\n",
    "| Operation | Symbol            | Example    | Returned Value |\n",
    "| -------------- | -------------------- | ---------- | ---------- |\n",
    "| addition          | `+` | `2 + 3` | `5`        |\n",
    "| subtraction        | `-`       | `2 - 3` | `-1`   |\n",
    "| multiplication          | `*`    | `2 * 3` | 6    |\n",
    "| division         | `/`   | `2 / 3` | `0.5`    |\n",
    "| exponentation         | `**`    | `2 ** 3` | `8`     |\n"
   ]
  },
  {
   "cell_type": "markdown",
   "id": "403f7a7c-d4ed-46b4-8533-472c78ba2b53",
   "metadata": {},
   "source": [
    "<div class=\"alert alert-info\">\n",
    "\n",
    "<b>Your turn:</b>\n",
    "\n",
    "In a single line, create a new variable `z` and set it equal to `x` divided the sum of `x` plus `y`\n",
    "    \n",
    "</div>"
   ]
  },
  {
   "cell_type": "markdown",
   "id": "6a6370f9-8a44-46e8-83db-9175ebb5dbcf",
   "metadata": {},
   "source": [
    "### Comments\n",
    "\n",
    "Any line of Python code that is prefixed with a `#` is considered a comment.  \n",
    "* It will not get executed when the code runs\n",
    "* It is useful for documenting what the code is doing\n",
    "  * For yourself and for others\n",
    "  \n",
    "All experienced coders agree that code must be well-documented.  It's great if your code achieves fantastic things, but what happens if you come back to it after a month and can't make any sense out of what you wrote?  This is surprisingly easy to do -- you may not rememeber the logic, the caveats, the hours spent trying to figure out how to calculate something.  \n",
    "\n",
    "Document your code!"
   ]
  },
  {
   "cell_type": "code",
   "execution_count": 99,
   "id": "f93b773f-0c70-4b74-ba63-09e243fdf494",
   "metadata": {},
   "outputs": [],
   "source": [
    "# this is a comment. the python interpreter ignores it.\n",
    "# comments are just notes for humans to read to help understand the code\n",
    "# best practice: add a comment for every couple lines of code to explain what's going on and why\n",
    "# you'd be amazed at how quickly you forget your code's logic (at least i always do)"
   ]
  },
  {
   "cell_type": "markdown",
   "id": "2b0da3b1-3ff7-42ae-9fb4-d20977cb8b3e",
   "metadata": {},
   "source": [
    "<div class=\"alert alert-info\">\n",
    "\n",
    "<b>Your turn:</b>\n",
    "\n",
    "In a single line, create a new variable `z` and set it equal to `x` divided the sum of `x` plus `y`\n",
    "    \n",
    "</div>"
   ]
  },
  {
   "cell_type": "markdown",
   "id": "ee49cf5b-339f-4706-b251-889f00bfd172",
   "metadata": {},
   "source": [
    "### Variables\n",
    "\n",
    "**Variables** can be used to store values calculated in expressions and used for other calculations. \n",
    "\n",
    "Assigning values to variables is straightforward. Simply type `variable_name = value`, where `variable_name` is the name of the variable you wish to define."
   ]
  },
  {
   "cell_type": "code",
   "execution_count": 85,
   "id": "b7dd747c-5306-4e9e-9b3e-a5add3987b63",
   "metadata": {},
   "outputs": [],
   "source": [
    "# variables, such as x here, contain values and their values can vary\n",
    "x = 5"
   ]
  },
  {
   "cell_type": "code",
   "execution_count": 86,
   "id": "62e9bc02-0798-4856-8684-1cc2d04253b5",
   "metadata": {},
   "outputs": [
    {
     "data": {
      "text/plain": [
       "5"
      ]
     },
     "execution_count": 86,
     "metadata": {},
     "output_type": "execute_result"
    }
   ],
   "source": [
    "# what is the value of x?\n",
    "x"
   ]
  },
  {
   "cell_type": "code",
   "execution_count": 87,
   "id": "0ab2719a-9dcd-4e6e-a89a-65f049592a96",
   "metadata": {},
   "outputs": [
    {
     "data": {
      "text/plain": [
       "8"
      ]
     },
     "execution_count": 87,
     "metadata": {},
     "output_type": "execute_result"
    }
   ],
   "source": [
    "# you can perform operations on variables, just like you can on two numbers\n",
    "x + 3"
   ]
  },
  {
   "cell_type": "code",
   "execution_count": 88,
   "id": "0627270e-ed0d-4d7e-9b53-4e38837c3d7a",
   "metadata": {},
   "outputs": [
    {
     "data": {
      "text/plain": [
       "5"
      ]
     },
     "execution_count": 88,
     "metadata": {},
     "output_type": "execute_result"
    }
   ],
   "source": [
    "# what is the value of x now?\n",
    "x"
   ]
  },
  {
   "cell_type": "code",
   "execution_count": 89,
   "id": "c38f281e-d085-4baf-a2f7-c07fd566c61e",
   "metadata": {},
   "outputs": [],
   "source": [
    "# to update the value of a variable, you need to do an assignment again\n",
    "x = x + 3"
   ]
  },
  {
   "cell_type": "code",
   "execution_count": 90,
   "id": "da0fd0bc-2948-4f72-8414-b1d5de7bc901",
   "metadata": {},
   "outputs": [
    {
     "data": {
      "text/plain": [
       "8"
      ]
     },
     "execution_count": 90,
     "metadata": {},
     "output_type": "execute_result"
    }
   ],
   "source": [
    "# and now what is the value of x?\n",
    "x"
   ]
  },
  {
   "cell_type": "code",
   "execution_count": 91,
   "id": "4086f0b0-c01d-4566-90ae-0feffd8e8ef7",
   "metadata": {},
   "outputs": [
    {
     "data": {
      "text/plain": [
       "10"
      ]
     },
     "execution_count": 91,
     "metadata": {},
     "output_type": "execute_result"
    }
   ],
   "source": [
    "# create a new variable y from an operation on x\n",
    "x = 5\n",
    "y = x * 2\n",
    "y"
   ]
  },
  {
   "cell_type": "code",
   "execution_count": 92,
   "id": "f7e576a0-58af-4056-b1ff-3a576f3a7c95",
   "metadata": {},
   "outputs": [
    {
     "data": {
      "text/plain": [
       "10"
      ]
     },
     "execution_count": 92,
     "metadata": {},
     "output_type": "execute_result"
    }
   ],
   "source": [
    "# outputting values only displays the last thing output\n",
    "# this is different from printing! it is kinda confusing!\n",
    "x\n",
    "y"
   ]
  },
  {
   "cell_type": "code",
   "execution_count": 93,
   "id": "b8ae55f0-f5c7-46f2-8202-cb91dfc92fb6",
   "metadata": {},
   "outputs": [
    {
     "name": "stdout",
     "output_type": "stream",
     "text": [
      "5\n",
      "10\n"
     ]
    }
   ],
   "source": [
    "# use print to write some value(s) to the \"console\"\n",
    "print(x)\n",
    "print(y)"
   ]
  },
  {
   "cell_type": "code",
   "execution_count": 94,
   "id": "d18d4234-387e-43a8-b722-1e2bd4cd1b4f",
   "metadata": {},
   "outputs": [
    {
     "name": "stdout",
     "output_type": "stream",
     "text": [
      "5 10\n"
     ]
    }
   ],
   "source": [
    "# you can comma-separate values to print multiple values to the console on one line\n",
    "# note that this syntax automatically adds a space between variables\n",
    "print(x, y)"
   ]
  },
  {
   "cell_type": "code",
   "execution_count": 95,
   "id": "68bfffd6-a7e2-4a7d-b1a4-aac5ee1e68a1",
   "metadata": {},
   "outputs": [
    {
     "name": "stdout",
     "output_type": "stream",
     "text": [
      "50\n"
     ]
    }
   ],
   "source": [
    "# you can also print the result of an expression\n",
    "print(x * y)"
   ]
  },
  {
   "cell_type": "markdown",
   "id": "1580dc11-961f-4290-a5a7-5d590e05baf3",
   "metadata": {},
   "source": [
    "<div class=\"alert alert-info\">\n",
    "\n",
    "<b>Your turn:</b>\n",
    "\n",
    "In a single line, create a new variable `z` and set it equal to `x` divided the sum of `x` plus `y`\n",
    "    \n",
    "</div>"
   ]
  },
  {
   "cell_type": "code",
   "execution_count": null,
   "id": "5523aef5-5291-4dc7-8eb3-cd3a2ef1c5f7",
   "metadata": {},
   "outputs": [],
   "source": [
    "# Enter code here and execute the cell:\n",
    "\n"
   ]
  },
  {
   "cell_type": "markdown",
   "id": "fbad12cc-150c-4a2d-b1d7-f023ce6bb18b",
   "metadata": {},
   "source": [
    "### Built-in operations\n",
    "\n",
    "* print\n",
    "* will return to this\n",
    "\n",
    "### Collections of stuff\n",
    "\n",
    "* lists\n",
    "* dictionaries\n",
    "* what are they?\n",
    "* how do you get info from them? (indexing)\n",
    "\n",
    "### they're alive!!!\n",
    "\n",
    "* objects can do things (methods)\n",
    "  * data is a noun, methods are verbs\n",
    "* and everything in python is an object\n",
    "* show for strings\n",
    "\n",
    "### helpful tools\n",
    "\n",
    "* type\n",
    "* dir\n",
    "* help\n",
    "\n",
    "### exercises\n",
    "\n",
    "* create a string, list, and dictionary\n",
    "* look up possible methods for each with dir\n",
    "* try applying some methods until you get an error\n",
    "* use help to try and figure out how to get it to work\n",
    "  * note that for getting help, you should leave the parentheses off\n",
    "  * example with 'print'\n",
    "\n",
    "Strings\n",
    "—Change case\n",
    "—Strip space off the end of a string\n",
    "—Split a string\n",
    "• Integers and decimals\n",
    "—Add and subtract\n",
    "—Simple math\n",
    "• Lists\n",
    "—Add to or subtract from the list\n",
    "—Remove the last item of the list\n",
    "—Reorder the list\n",
    "—Sort the list\n",
    "• Dictionaries\n",
    "—Add a key/value pair\n",
    "—Set a new value to the corresponding key\n",
    "—Look up a value by the key\n",
    "\n",
    "\n",
    "### "
   ]
  },
  {
   "cell_type": "code",
   "execution_count": 136,
   "id": "ce593d1a-d8e0-45fa-8d8f-9be5bec58f19",
   "metadata": {},
   "outputs": [
    {
     "name": "stdout",
     "output_type": "stream",
     "text": [
      "\n",
      "Help on NoneType object:\n",
      "\n",
      "class NoneType(object)\n",
      " |  Methods defined here:\n",
      " |  \n",
      " |  __bool__(self, /)\n",
      " |      self != 0\n",
      " |  \n",
      " |  __repr__(self, /)\n",
      " |      Return repr(self).\n",
      " |  \n",
      " |  ----------------------------------------------------------------------\n",
      " |  Static methods defined here:\n",
      " |  \n",
      " |  __new__(*args, **kwargs) from builtins.type\n",
      " |      Create and return a new object.  See help(type) for accurate signature.\n",
      "\n"
     ]
    }
   ],
   "source": [
    "help(print())"
   ]
  },
  {
   "cell_type": "code",
   "execution_count": 137,
   "id": "1c175cb9-5aa0-45ab-9bfc-1ca1be6d70f5",
   "metadata": {},
   "outputs": [
    {
     "name": "stdout",
     "output_type": "stream",
     "text": [
      "Help on built-in function print in module builtins:\n",
      "\n",
      "print(...)\n",
      "    print(value, ..., sep=' ', end='\\n', file=sys.stdout, flush=False)\n",
      "    \n",
      "    Prints the values to a stream, or to sys.stdout by default.\n",
      "    Optional keyword arguments:\n",
      "    file:  a file-like object (stream); defaults to the current sys.stdout.\n",
      "    sep:   string inserted between values, default a space.\n",
      "    end:   string appended after the last value, default a newline.\n",
      "    flush: whether to forcibly flush the stream.\n",
      "\n"
     ]
    }
   ],
   "source": [
    "help(print)"
   ]
  },
  {
   "cell_type": "code",
   "execution_count": 103,
   "id": "4ea02dff-77af-4fc7-9081-248569e5bde3",
   "metadata": {
    "tags": []
   },
   "outputs": [
    {
     "data": {
      "text/plain": [
       "['__abs__',\n",
       " '__add__',\n",
       " '__and__',\n",
       " '__bool__',\n",
       " '__ceil__',\n",
       " '__class__',\n",
       " '__delattr__',\n",
       " '__dir__',\n",
       " '__divmod__',\n",
       " '__doc__',\n",
       " '__eq__',\n",
       " '__float__',\n",
       " '__floor__',\n",
       " '__floordiv__',\n",
       " '__format__',\n",
       " '__ge__',\n",
       " '__getattribute__',\n",
       " '__getnewargs__',\n",
       " '__gt__',\n",
       " '__hash__',\n",
       " '__index__',\n",
       " '__init__',\n",
       " '__init_subclass__',\n",
       " '__int__',\n",
       " '__invert__',\n",
       " '__le__',\n",
       " '__lshift__',\n",
       " '__lt__',\n",
       " '__mod__',\n",
       " '__mul__',\n",
       " '__ne__',\n",
       " '__neg__',\n",
       " '__new__',\n",
       " '__or__',\n",
       " '__pos__',\n",
       " '__pow__',\n",
       " '__radd__',\n",
       " '__rand__',\n",
       " '__rdivmod__',\n",
       " '__reduce__',\n",
       " '__reduce_ex__',\n",
       " '__repr__',\n",
       " '__rfloordiv__',\n",
       " '__rlshift__',\n",
       " '__rmod__',\n",
       " '__rmul__',\n",
       " '__ror__',\n",
       " '__round__',\n",
       " '__rpow__',\n",
       " '__rrshift__',\n",
       " '__rshift__',\n",
       " '__rsub__',\n",
       " '__rtruediv__',\n",
       " '__rxor__',\n",
       " '__setattr__',\n",
       " '__sizeof__',\n",
       " '__str__',\n",
       " '__sub__',\n",
       " '__subclasshook__',\n",
       " '__truediv__',\n",
       " '__trunc__',\n",
       " '__xor__',\n",
       " 'as_integer_ratio',\n",
       " 'bit_length',\n",
       " 'conjugate',\n",
       " 'denominator',\n",
       " 'from_bytes',\n",
       " 'imag',\n",
       " 'numerator',\n",
       " 'real',\n",
       " 'to_bytes']"
      ]
     },
     "execution_count": 103,
     "metadata": {},
     "output_type": "execute_result"
    }
   ],
   "source": [
    "dir(1)"
   ]
  },
  {
   "cell_type": "code",
   "execution_count": 123,
   "id": "0f7cff4e-b5fa-4d53-8923-4536dd04712b",
   "metadata": {},
   "outputs": [
    {
     "data": {
      "text/plain": [
       "1"
      ]
     },
     "execution_count": 123,
     "metadata": {},
     "output_type": "execute_result"
    }
   ],
   "source": [
    "(1).denominator"
   ]
  },
  {
   "cell_type": "code",
   "execution_count": 124,
   "id": "d19bd56e-aff4-401e-9f84-136eb95d3b18",
   "metadata": {},
   "outputs": [
    {
     "data": {
      "text/plain": [
       "1"
      ]
     },
     "execution_count": 124,
     "metadata": {},
     "output_type": "execute_result"
    }
   ],
   "source": [
    "(1).numerator"
   ]
  },
  {
   "cell_type": "code",
   "execution_count": 125,
   "id": "5d4c6880-4fc2-4c46-843d-14d3140e8186",
   "metadata": {},
   "outputs": [
    {
     "data": {
      "text/plain": [
       "1"
      ]
     },
     "execution_count": 125,
     "metadata": {},
     "output_type": "execute_result"
    }
   ],
   "source": [
    "(3).denominator"
   ]
  },
  {
   "cell_type": "code",
   "execution_count": 126,
   "id": "17651594-84d5-4583-96c4-4094aa6ce7a1",
   "metadata": {},
   "outputs": [
    {
     "data": {
      "text/plain": [
       "3"
      ]
     },
     "execution_count": 126,
     "metadata": {},
     "output_type": "execute_result"
    }
   ],
   "source": [
    "(3).numerator"
   ]
  },
  {
   "cell_type": "code",
   "execution_count": 127,
   "id": "f1a23c5e-59a7-4255-8bda-5cf561affc58",
   "metadata": {},
   "outputs": [
    {
     "data": {
      "text/plain": [
       "2"
      ]
     },
     "execution_count": 127,
     "metadata": {},
     "output_type": "execute_result"
    }
   ],
   "source": [
    "(3).bit_length()"
   ]
  },
  {
   "cell_type": "code",
   "execution_count": 128,
   "id": "d06028e9-1b89-4f11-b923-bbf398d0e08a",
   "metadata": {},
   "outputs": [
    {
     "data": {
      "text/plain": [
       "b'\\x00\\x03'"
      ]
     },
     "execution_count": 128,
     "metadata": {},
     "output_type": "execute_result"
    }
   ],
   "source": [
    "(3).to_bytes(2,'big')"
   ]
  },
  {
   "cell_type": "code",
   "execution_count": 129,
   "id": "749439a7-8822-488c-8e39-d04ae8e924f1",
   "metadata": {},
   "outputs": [
    {
     "data": {
      "text/plain": [
       "['__add__',\n",
       " '__class__',\n",
       " '__contains__',\n",
       " '__delattr__',\n",
       " '__dir__',\n",
       " '__doc__',\n",
       " '__eq__',\n",
       " '__format__',\n",
       " '__ge__',\n",
       " '__getattribute__',\n",
       " '__getitem__',\n",
       " '__getnewargs__',\n",
       " '__gt__',\n",
       " '__hash__',\n",
       " '__init__',\n",
       " '__init_subclass__',\n",
       " '__iter__',\n",
       " '__le__',\n",
       " '__len__',\n",
       " '__lt__',\n",
       " '__mod__',\n",
       " '__mul__',\n",
       " '__ne__',\n",
       " '__new__',\n",
       " '__reduce__',\n",
       " '__reduce_ex__',\n",
       " '__repr__',\n",
       " '__rmod__',\n",
       " '__rmul__',\n",
       " '__setattr__',\n",
       " '__sizeof__',\n",
       " '__str__',\n",
       " '__subclasshook__',\n",
       " 'capitalize',\n",
       " 'casefold',\n",
       " 'center',\n",
       " 'count',\n",
       " 'encode',\n",
       " 'endswith',\n",
       " 'expandtabs',\n",
       " 'find',\n",
       " 'format',\n",
       " 'format_map',\n",
       " 'index',\n",
       " 'isalnum',\n",
       " 'isalpha',\n",
       " 'isascii',\n",
       " 'isdecimal',\n",
       " 'isdigit',\n",
       " 'isidentifier',\n",
       " 'islower',\n",
       " 'isnumeric',\n",
       " 'isprintable',\n",
       " 'isspace',\n",
       " 'istitle',\n",
       " 'isupper',\n",
       " 'join',\n",
       " 'ljust',\n",
       " 'lower',\n",
       " 'lstrip',\n",
       " 'maketrans',\n",
       " 'partition',\n",
       " 'removeprefix',\n",
       " 'removesuffix',\n",
       " 'replace',\n",
       " 'rfind',\n",
       " 'rindex',\n",
       " 'rjust',\n",
       " 'rpartition',\n",
       " 'rsplit',\n",
       " 'rstrip',\n",
       " 'split',\n",
       " 'splitlines',\n",
       " 'startswith',\n",
       " 'strip',\n",
       " 'swapcase',\n",
       " 'title',\n",
       " 'translate',\n",
       " 'upper',\n",
       " 'zfill']"
      ]
     },
     "execution_count": 129,
     "metadata": {},
     "output_type": "execute_result"
    }
   ],
   "source": [
    "dir('a')"
   ]
  },
  {
   "cell_type": "code",
   "execution_count": 130,
   "id": "5d92d251-7216-4758-97d2-2c2f44922986",
   "metadata": {},
   "outputs": [
    {
     "data": {
      "text/plain": [
       "'A'"
      ]
     },
     "execution_count": 130,
     "metadata": {},
     "output_type": "execute_result"
    }
   ],
   "source": [
    "'a'.upper()"
   ]
  },
  {
   "cell_type": "code",
   "execution_count": 131,
   "id": "43b73cf2-dc38-4c82-9d3b-50fec3f3c47e",
   "metadata": {},
   "outputs": [
    {
     "data": {
      "text/plain": [
       "'a    '"
      ]
     },
     "execution_count": 131,
     "metadata": {},
     "output_type": "execute_result"
    }
   ],
   "source": [
    "'a    '"
   ]
  },
  {
   "cell_type": "code",
   "execution_count": 133,
   "id": "2e0b30db-4cab-4093-ba33-c5166bd273c7",
   "metadata": {},
   "outputs": [
    {
     "data": {
      "text/plain": [
       "'a'"
      ]
     },
     "execution_count": 133,
     "metadata": {},
     "output_type": "execute_result"
    }
   ],
   "source": [
    "'a   '.strip()"
   ]
  },
  {
   "cell_type": "code",
   "execution_count": 105,
   "id": "79b396c1-5c0a-4dd3-a190-b4cb762e4e4a",
   "metadata": {},
   "outputs": [
    {
     "data": {
      "text/plain": [
       "1"
      ]
     },
     "execution_count": 105,
     "metadata": {},
     "output_type": "execute_result"
    }
   ],
   "source": [
    "(1).real"
   ]
  },
  {
   "cell_type": "code",
   "execution_count": 108,
   "id": "70e2b7ca-fdc6-4904-9b63-d3f352b0541e",
   "metadata": {},
   "outputs": [
    {
     "name": "stdout",
     "output_type": "stream",
     "text": [
      "Help on built-in function to_bytes:\n",
      "\n",
      "to_bytes(length, byteorder, *, signed=False) method of builtins.int instance\n",
      "    Return an array of bytes representing an integer.\n",
      "    \n",
      "    length\n",
      "      Length of bytes object to use.  An OverflowError is raised if the\n",
      "      integer is not representable with the given number of bytes.\n",
      "    byteorder\n",
      "      The byte order used to represent the integer.  If byteorder is 'big',\n",
      "      the most significant byte is at the beginning of the byte array.  If\n",
      "      byteorder is 'little', the most significant byte is at the end of the\n",
      "      byte array.  To request the native byte order of the host system, use\n",
      "      `sys.byteorder' as the byte order value.\n",
      "    signed\n",
      "      Determines whether two's complement is used to represent the integer.\n",
      "      If signed is False and a negative integer is given, an OverflowError\n",
      "      is raised.\n",
      "\n"
     ]
    }
   ],
   "source": [
    "help((1).to_bytes)"
   ]
  },
  {
   "cell_type": "code",
   "execution_count": 112,
   "id": "bbd11d2a-93f5-4e83-b3e2-7af68ac332f0",
   "metadata": {},
   "outputs": [
    {
     "data": {
      "text/plain": [
       "b'\\x00\\x00\\x00\\x00\\x00\\x00\\x00\\x01'"
      ]
     },
     "execution_count": 112,
     "metadata": {},
     "output_type": "execute_result"
    }
   ],
   "source": [
    "(1).to_bytes(8,'big',signed=False)"
   ]
  },
  {
   "cell_type": "code",
   "execution_count": 121,
   "id": "9f4fc209-6987-4ad0-9cdd-0d78d11eee9b",
   "metadata": {},
   "outputs": [
    {
     "data": {
      "text/plain": [
       "b'\\x00\\x00\\x00\\x00\\x00\\x0c8y'"
      ]
     },
     "execution_count": 121,
     "metadata": {},
     "output_type": "execute_result"
    }
   ],
   "source": [
    "(800889).to_bytes(8,'big',signed=False)"
   ]
  },
  {
   "cell_type": "code",
   "execution_count": null,
   "id": "3ed0aa7a-624c-47ea-8d9a-5c2057e644fc",
   "metadata": {},
   "outputs": [],
   "source": []
  },
  {
   "cell_type": "markdown",
   "id": "2c86ce0a-e3bc-4333-92d7-1ae950a2bdf5",
   "metadata": {},
   "source": [
    "#### Notebook Notes"
   ]
  },
  {
   "cell_type": "code",
   "execution_count": null,
   "id": "29596131-85c7-47ba-8208-2cc243deb2b5",
   "metadata": {},
   "outputs": [],
   "source": []
  },
  {
   "cell_type": "code",
   "execution_count": null,
   "id": "e6068a37-ca81-41e2-b892-3fc9063199ca",
   "metadata": {},
   "outputs": [],
   "source": []
  },
  {
   "cell_type": "code",
   "execution_count": null,
   "id": "7cdb0486-6c4b-48af-a17a-9dbc2359b8cb",
   "metadata": {},
   "outputs": [],
   "source": []
  },
  {
   "cell_type": "markdown",
   "id": "7fbd4d69-1206-4b47-b78b-02ddc1253713",
   "metadata": {},
   "source": [
    "### Data types\n",
    "\n",
    "There are 4 basic *data types* in Python as shown in the table below.\n",
    "\n",
    "| Data type name | Data type            | Example    |\n",
    "| -------------- | -------------------- | ---------- |\n",
    "| `int`          | Whole integer values | `4`        |\n",
    "| `float`        | Decimal values       | `3.1415`   |\n",
    "| `str`          | Character strings    | `'Hot'`    |\n",
    "| `bool`         | True/false values    | `True`     |\n",
    "\n",
    "The data type can be found using the `type()` function."
   ]
  },
  {
   "cell_type": "code",
   "execution_count": 84,
   "id": "3214cad8-0e99-4fdf-82d5-91bb5e55d2cc",
   "metadata": {},
   "outputs": [
    {
     "data": {
      "text/plain": [
       "8"
      ]
     },
     "execution_count": 84,
     "metadata": {},
     "output_type": "execute_result"
    }
   ],
   "source": [
    "2 ** 3"
   ]
  },
  {
   "cell_type": "code",
   "execution_count": null,
   "id": "40b951df-a707-4844-922f-453abdaf09d9",
   "metadata": {},
   "outputs": [],
   "source": []
  },
  {
   "cell_type": "code",
   "execution_count": null,
   "id": "127c7617-c399-417b-8173-129a5b0b9177",
   "metadata": {},
   "outputs": [],
   "source": []
  },
  {
   "cell_type": "code",
   "execution_count": null,
   "id": "be5531bd-bb57-4ded-964d-372e47f11e7e",
   "metadata": {},
   "outputs": [],
   "source": []
  },
  {
   "cell_type": "code",
   "execution_count": null,
   "id": "8778ddfa-361b-481b-838c-176e6277f484",
   "metadata": {},
   "outputs": [],
   "source": []
  },
  {
   "cell_type": "code",
   "execution_count": null,
   "id": "e973ac7d-3efe-4641-8805-cd8c9bfa558f",
   "metadata": {},
   "outputs": [],
   "source": []
  },
  {
   "cell_type": "code",
   "execution_count": null,
   "id": "110794b9-e4c5-4bc0-b107-8d15d0f8cabf",
   "metadata": {},
   "outputs": [],
   "source": []
  },
  {
   "cell_type": "code",
   "execution_count": null,
   "id": "7002efd2-c545-460f-a2a1-0c47482ad273",
   "metadata": {},
   "outputs": [],
   "source": []
  },
  {
   "cell_type": "code",
   "execution_count": null,
   "id": "45e8f0b6-6e0b-4a78-9125-3e337f702846",
   "metadata": {},
   "outputs": [],
   "source": []
  },
  {
   "cell_type": "code",
   "execution_count": 1,
   "id": "255cd2e6-b0d8-4423-bb02-5aeab6528b3d",
   "metadata": {},
   "outputs": [
    {
     "ename": "ModuleNotFoundError",
     "evalue": "No module named 'docx'",
     "output_type": "error",
     "traceback": [
      "\u001b[0;31m---------------------------------------------------------------------------\u001b[0m",
      "\u001b[0;31mModuleNotFoundError\u001b[0m                       Traceback (most recent call last)",
      "\u001b[0;32m/tmp/ipykernel_189/964457360.py\u001b[0m in \u001b[0;36m<module>\u001b[0;34m\u001b[0m\n\u001b[0;32m----> 1\u001b[0;31m \u001b[0;32mimport\u001b[0m \u001b[0mdocx\u001b[0m\u001b[0;34m\u001b[0m\u001b[0;34m\u001b[0m\u001b[0m\n\u001b[0m",
      "\u001b[0;31mModuleNotFoundError\u001b[0m: No module named 'docx'"
     ]
    }
   ],
   "source": [
    "import docx"
   ]
  },
  {
   "cell_type": "code",
   "execution_count": 3,
   "id": "36cf9844-e416-4b63-9620-c8657d6d2c35",
   "metadata": {},
   "outputs": [
    {
     "data": {
      "text/plain": [
       "60"
      ]
     },
     "execution_count": 3,
     "metadata": {},
     "output_type": "execute_result"
    }
   ],
   "source": [
    "2019-1960+1"
   ]
  },
  {
   "cell_type": "code",
   "execution_count": 4,
   "id": "f49add6b-b63f-4207-a24e-26e1b82f73b2",
   "metadata": {},
   "outputs": [
    {
     "data": {
      "text/plain": [
       "3000"
      ]
     },
     "execution_count": 4,
     "metadata": {},
     "output_type": "execute_result"
    }
   ],
   "source": [
    "50*60"
   ]
  },
  {
   "cell_type": "code",
   "execution_count": 30,
   "id": "e1c5c397-db8d-4ac2-8380-2df072553c9e",
   "metadata": {},
   "outputs": [],
   "source": [
    "import pandas as pd"
   ]
  },
  {
   "cell_type": "code",
   "execution_count": 79,
   "id": "be64cc0c-c5d1-45b1-8d25-49ae7503197b",
   "metadata": {},
   "outputs": [],
   "source": [
    "df = pd.read_csv('classics.csv')"
   ]
  },
  {
   "cell_type": "code",
   "execution_count": 80,
   "id": "45ce0a38-22c6-4eaf-b917-f3bd364f64a1",
   "metadata": {},
   "outputs": [
    {
     "data": {
      "text/html": [
       "<div>\n",
       "<style scoped>\n",
       "    .dataframe tbody tr th:only-of-type {\n",
       "        vertical-align: middle;\n",
       "    }\n",
       "\n",
       "    .dataframe tbody tr th {\n",
       "        vertical-align: top;\n",
       "    }\n",
       "\n",
       "    .dataframe thead th {\n",
       "        text-align: right;\n",
       "    }\n",
       "</style>\n",
       "<table border=\"1\" class=\"dataframe\">\n",
       "  <thead>\n",
       "    <tr style=\"text-align: right;\">\n",
       "      <th></th>\n",
       "      <th>bibliography.congress classifications</th>\n",
       "      <th>bibliography.languages</th>\n",
       "      <th>bibliography.subjects</th>\n",
       "      <th>bibliography.title</th>\n",
       "      <th>bibliography.type</th>\n",
       "      <th>metadata.downloads</th>\n",
       "      <th>metadata.id</th>\n",
       "      <th>metadata.rank</th>\n",
       "      <th>metadata.url</th>\n",
       "      <th>bibliography.author.birth</th>\n",
       "      <th>...</th>\n",
       "      <th>metrics.sentiments.polarity</th>\n",
       "      <th>metrics.sentiments.subjectivity</th>\n",
       "      <th>metrics.statistics.average letter per word</th>\n",
       "      <th>metrics.statistics.average sentence length</th>\n",
       "      <th>metrics.statistics.average sentence per word</th>\n",
       "      <th>metrics.statistics.characters</th>\n",
       "      <th>metrics.statistics.polysyllables</th>\n",
       "      <th>metrics.statistics.sentences</th>\n",
       "      <th>metrics.statistics.syllables</th>\n",
       "      <th>metrics.statistics.words</th>\n",
       "    </tr>\n",
       "  </thead>\n",
       "  <tbody>\n",
       "    <tr>\n",
       "      <th>0</th>\n",
       "      <td>PR</td>\n",
       "      <td>en</td>\n",
       "      <td>Sisters -- Fiction,Courtship -- Fiction,Social...</td>\n",
       "      <td>Pride and Prejudice</td>\n",
       "      <td>Text</td>\n",
       "      <td>36576</td>\n",
       "      <td>1342</td>\n",
       "      <td>1</td>\n",
       "      <td>https://www.gutenberg.org/ebooks/1342</td>\n",
       "      <td>1775</td>\n",
       "      <td>...</td>\n",
       "      <td>0.136713</td>\n",
       "      <td>0.522239</td>\n",
       "      <td>4.83</td>\n",
       "      <td>18.0</td>\n",
       "      <td>0.05</td>\n",
       "      <td>586794</td>\n",
       "      <td>4603</td>\n",
       "      <td>6511</td>\n",
       "      <td>170648.1</td>\n",
       "      <td>121533</td>\n",
       "    </tr>\n",
       "    <tr>\n",
       "      <th>1</th>\n",
       "      <td>PS</td>\n",
       "      <td>en</td>\n",
       "      <td>Mentally ill women -- Fiction,Feminist fiction...</td>\n",
       "      <td>The Yellow Wallpaper</td>\n",
       "      <td>Text</td>\n",
       "      <td>26363</td>\n",
       "      <td>1952</td>\n",
       "      <td>2</td>\n",
       "      <td>https://www.gutenberg.org/ebooks/1952</td>\n",
       "      <td>1860</td>\n",
       "      <td>...</td>\n",
       "      <td>0.054174</td>\n",
       "      <td>0.534787</td>\n",
       "      <td>4.41</td>\n",
       "      <td>15.0</td>\n",
       "      <td>0.06</td>\n",
       "      <td>26769</td>\n",
       "      <td>102</td>\n",
       "      <td>385</td>\n",
       "      <td>7686.9</td>\n",
       "      <td>6067</td>\n",
       "    </tr>\n",
       "    <tr>\n",
       "      <th>2</th>\n",
       "      <td>PZ,PR</td>\n",
       "      <td>en</td>\n",
       "      <td>Fantasy</td>\n",
       "      <td>Alice's Adventures in Wonderland</td>\n",
       "      <td>Text</td>\n",
       "      <td>18882</td>\n",
       "      <td>11</td>\n",
       "      <td>3</td>\n",
       "      <td>https://www.gutenberg.org/ebooks/11</td>\n",
       "      <td>1832</td>\n",
       "      <td>...</td>\n",
       "      <td>0.041079</td>\n",
       "      <td>0.497276</td>\n",
       "      <td>4.65</td>\n",
       "      <td>17.0</td>\n",
       "      <td>0.06</td>\n",
       "      <td>122719</td>\n",
       "      <td>339</td>\n",
       "      <td>1501</td>\n",
       "      <td>33810.3</td>\n",
       "      <td>26389</td>\n",
       "    </tr>\n",
       "    <tr>\n",
       "      <th>3</th>\n",
       "      <td>PR</td>\n",
       "      <td>en</td>\n",
       "      <td>Monsters -- Fiction;Frankenstein's monster (Fi...</td>\n",
       "      <td>Frankenstein; Or, The Modern Prometheus</td>\n",
       "      <td>Text</td>\n",
       "      <td>17128</td>\n",
       "      <td>84</td>\n",
       "      <td>4</td>\n",
       "      <td>https://www.gutenberg.org/ebooks/84</td>\n",
       "      <td>1797</td>\n",
       "      <td>...</td>\n",
       "      <td>0.100902</td>\n",
       "      <td>0.539516</td>\n",
       "      <td>4.77</td>\n",
       "      <td>23.0</td>\n",
       "      <td>0.04</td>\n",
       "      <td>357604</td>\n",
       "      <td>2604</td>\n",
       "      <td>3239</td>\n",
       "      <td>106802.1</td>\n",
       "      <td>74959</td>\n",
       "    </tr>\n",
       "    <tr>\n",
       "      <th>4</th>\n",
       "      <td>PT</td>\n",
       "      <td>en</td>\n",
       "      <td>Psychological fiction,Metamorphosis -- Fiction</td>\n",
       "      <td>Metamorphosis</td>\n",
       "      <td>Text</td>\n",
       "      <td>15683</td>\n",
       "      <td>5200</td>\n",
       "      <td>5</td>\n",
       "      <td>https://www.gutenberg.org/ebooks/5200</td>\n",
       "      <td>1883</td>\n",
       "      <td>...</td>\n",
       "      <td>0.041997</td>\n",
       "      <td>0.479019</td>\n",
       "      <td>4.56</td>\n",
       "      <td>27.0</td>\n",
       "      <td>0.04</td>\n",
       "      <td>100372</td>\n",
       "      <td>397</td>\n",
       "      <td>800</td>\n",
       "      <td>28752.3</td>\n",
       "      <td>22022</td>\n",
       "    </tr>\n",
       "    <tr>\n",
       "      <th>...</th>\n",
       "      <td>...</td>\n",
       "      <td>...</td>\n",
       "      <td>...</td>\n",
       "      <td>...</td>\n",
       "      <td>...</td>\n",
       "      <td>...</td>\n",
       "      <td>...</td>\n",
       "      <td>...</td>\n",
       "      <td>...</td>\n",
       "      <td>...</td>\n",
       "      <td>...</td>\n",
       "      <td>...</td>\n",
       "      <td>...</td>\n",
       "      <td>...</td>\n",
       "      <td>...</td>\n",
       "      <td>...</td>\n",
       "      <td>...</td>\n",
       "      <td>...</td>\n",
       "      <td>...</td>\n",
       "      <td>...</td>\n",
       "      <td>...</td>\n",
       "    </tr>\n",
       "    <tr>\n",
       "      <th>1001</th>\n",
       "      <td>NaN</td>\n",
       "      <td>en</td>\n",
       "      <td>NaN</td>\n",
       "      <td>The Reluctant Heroes</td>\n",
       "      <td>Text</td>\n",
       "      <td>0</td>\n",
       "      <td>51483</td>\n",
       "      <td>1002</td>\n",
       "      <td>https://www.gutenberg.org/ebooks/51483</td>\n",
       "      <td>1926</td>\n",
       "      <td>...</td>\n",
       "      <td>0.076203</td>\n",
       "      <td>0.451757</td>\n",
       "      <td>4.68</td>\n",
       "      <td>11.0</td>\n",
       "      <td>0.09</td>\n",
       "      <td>32354</td>\n",
       "      <td>112</td>\n",
       "      <td>618</td>\n",
       "      <td>8824.5</td>\n",
       "      <td>6913</td>\n",
       "    </tr>\n",
       "    <tr>\n",
       "      <th>1002</th>\n",
       "      <td>NaN</td>\n",
       "      <td>en</td>\n",
       "      <td>NaN</td>\n",
       "      <td>Film Truth; September, 1920</td>\n",
       "      <td>Text</td>\n",
       "      <td>0</td>\n",
       "      <td>51484</td>\n",
       "      <td>1003</td>\n",
       "      <td>https://www.gutenberg.org/ebooks/51484</td>\n",
       "      <td>0</td>\n",
       "      <td>...</td>\n",
       "      <td>0.143879</td>\n",
       "      <td>0.485782</td>\n",
       "      <td>5.02</td>\n",
       "      <td>17.0</td>\n",
       "      <td>0.06</td>\n",
       "      <td>45970</td>\n",
       "      <td>312</td>\n",
       "      <td>536</td>\n",
       "      <td>13080.6</td>\n",
       "      <td>9153</td>\n",
       "    </tr>\n",
       "    <tr>\n",
       "      <th>1003</th>\n",
       "      <td>NaN</td>\n",
       "      <td>en</td>\n",
       "      <td>NaN</td>\n",
       "      <td>Othmar</td>\n",
       "      <td>Text</td>\n",
       "      <td>0</td>\n",
       "      <td>51487</td>\n",
       "      <td>1004</td>\n",
       "      <td>https://www.gutenberg.org/ebooks/51487</td>\n",
       "      <td>1839</td>\n",
       "      <td>...</td>\n",
       "      <td>0.099478</td>\n",
       "      <td>0.548289</td>\n",
       "      <td>4.66</td>\n",
       "      <td>21.0</td>\n",
       "      <td>0.05</td>\n",
       "      <td>890918</td>\n",
       "      <td>4808</td>\n",
       "      <td>8921</td>\n",
       "      <td>258091.2</td>\n",
       "      <td>191182</td>\n",
       "    </tr>\n",
       "    <tr>\n",
       "      <th>1004</th>\n",
       "      <td>NaN</td>\n",
       "      <td>en</td>\n",
       "      <td>NaN</td>\n",
       "      <td>Church History (Volumes 1-3)</td>\n",
       "      <td>Text</td>\n",
       "      <td>0</td>\n",
       "      <td>51491</td>\n",
       "      <td>1005</td>\n",
       "      <td>https://www.gutenberg.org/ebooks/51491</td>\n",
       "      <td>1809</td>\n",
       "      <td>...</td>\n",
       "      <td>0.112242</td>\n",
       "      <td>0.440014</td>\n",
       "      <td>5.31</td>\n",
       "      <td>17.0</td>\n",
       "      <td>0.06</td>\n",
       "      <td>3883244</td>\n",
       "      <td>46730</td>\n",
       "      <td>41950</td>\n",
       "      <td>1083170.7</td>\n",
       "      <td>730715</td>\n",
       "    </tr>\n",
       "    <tr>\n",
       "      <th>1005</th>\n",
       "      <td>NaN</td>\n",
       "      <td>en</td>\n",
       "      <td>NaN</td>\n",
       "      <td>The Uncensored Letters of a Canteen Girl</td>\n",
       "      <td>Text</td>\n",
       "      <td>0</td>\n",
       "      <td>51495</td>\n",
       "      <td>1006</td>\n",
       "      <td>https://www.gutenberg.org/ebooks/51495</td>\n",
       "      <td>0</td>\n",
       "      <td>...</td>\n",
       "      <td>0.059623</td>\n",
       "      <td>0.435443</td>\n",
       "      <td>4.73</td>\n",
       "      <td>17.0</td>\n",
       "      <td>0.06</td>\n",
       "      <td>451687</td>\n",
       "      <td>2595</td>\n",
       "      <td>5580</td>\n",
       "      <td>130093.2</td>\n",
       "      <td>95496</td>\n",
       "    </tr>\n",
       "  </tbody>\n",
       "</table>\n",
       "<p>1006 rows × 38 columns</p>\n",
       "</div>"
      ],
      "text/plain": [
       "     bibliography.congress classifications bibliography.languages  \\\n",
       "0                                       PR                     en   \n",
       "1                                       PS                     en   \n",
       "2                                    PZ,PR                     en   \n",
       "3                                       PR                     en   \n",
       "4                                       PT                     en   \n",
       "...                                    ...                    ...   \n",
       "1001                                   NaN                     en   \n",
       "1002                                   NaN                     en   \n",
       "1003                                   NaN                     en   \n",
       "1004                                   NaN                     en   \n",
       "1005                                   NaN                     en   \n",
       "\n",
       "                                  bibliography.subjects  \\\n",
       "0     Sisters -- Fiction,Courtship -- Fiction,Social...   \n",
       "1     Mentally ill women -- Fiction,Feminist fiction...   \n",
       "2                                               Fantasy   \n",
       "3     Monsters -- Fiction;Frankenstein's monster (Fi...   \n",
       "4        Psychological fiction,Metamorphosis -- Fiction   \n",
       "...                                                 ...   \n",
       "1001                                                NaN   \n",
       "1002                                                NaN   \n",
       "1003                                                NaN   \n",
       "1004                                                NaN   \n",
       "1005                                                NaN   \n",
       "\n",
       "                            bibliography.title bibliography.type  \\\n",
       "0                          Pride and Prejudice              Text   \n",
       "1                         The Yellow Wallpaper              Text   \n",
       "2             Alice's Adventures in Wonderland              Text   \n",
       "3      Frankenstein; Or, The Modern Prometheus              Text   \n",
       "4                                Metamorphosis              Text   \n",
       "...                                        ...               ...   \n",
       "1001                      The Reluctant Heroes              Text   \n",
       "1002               Film Truth; September, 1920              Text   \n",
       "1003                                    Othmar              Text   \n",
       "1004              Church History (Volumes 1-3)              Text   \n",
       "1005  The Uncensored Letters of a Canteen Girl              Text   \n",
       "\n",
       "      metadata.downloads  metadata.id  metadata.rank  \\\n",
       "0                  36576         1342              1   \n",
       "1                  26363         1952              2   \n",
       "2                  18882           11              3   \n",
       "3                  17128           84              4   \n",
       "4                  15683         5200              5   \n",
       "...                  ...          ...            ...   \n",
       "1001                   0        51483           1002   \n",
       "1002                   0        51484           1003   \n",
       "1003                   0        51487           1004   \n",
       "1004                   0        51491           1005   \n",
       "1005                   0        51495           1006   \n",
       "\n",
       "                                metadata.url  bibliography.author.birth  ...  \\\n",
       "0      https://www.gutenberg.org/ebooks/1342                       1775  ...   \n",
       "1      https://www.gutenberg.org/ebooks/1952                       1860  ...   \n",
       "2        https://www.gutenberg.org/ebooks/11                       1832  ...   \n",
       "3        https://www.gutenberg.org/ebooks/84                       1797  ...   \n",
       "4      https://www.gutenberg.org/ebooks/5200                       1883  ...   \n",
       "...                                      ...                        ...  ...   \n",
       "1001  https://www.gutenberg.org/ebooks/51483                       1926  ...   \n",
       "1002  https://www.gutenberg.org/ebooks/51484                          0  ...   \n",
       "1003  https://www.gutenberg.org/ebooks/51487                       1839  ...   \n",
       "1004  https://www.gutenberg.org/ebooks/51491                       1809  ...   \n",
       "1005  https://www.gutenberg.org/ebooks/51495                          0  ...   \n",
       "\n",
       "      metrics.sentiments.polarity metrics.sentiments.subjectivity  \\\n",
       "0                        0.136713                        0.522239   \n",
       "1                        0.054174                        0.534787   \n",
       "2                        0.041079                        0.497276   \n",
       "3                        0.100902                        0.539516   \n",
       "4                        0.041997                        0.479019   \n",
       "...                           ...                             ...   \n",
       "1001                     0.076203                        0.451757   \n",
       "1002                     0.143879                        0.485782   \n",
       "1003                     0.099478                        0.548289   \n",
       "1004                     0.112242                        0.440014   \n",
       "1005                     0.059623                        0.435443   \n",
       "\n",
       "      metrics.statistics.average letter per word  \\\n",
       "0                                           4.83   \n",
       "1                                           4.41   \n",
       "2                                           4.65   \n",
       "3                                           4.77   \n",
       "4                                           4.56   \n",
       "...                                          ...   \n",
       "1001                                        4.68   \n",
       "1002                                        5.02   \n",
       "1003                                        4.66   \n",
       "1004                                        5.31   \n",
       "1005                                        4.73   \n",
       "\n",
       "     metrics.statistics.average sentence length  \\\n",
       "0                                          18.0   \n",
       "1                                          15.0   \n",
       "2                                          17.0   \n",
       "3                                          23.0   \n",
       "4                                          27.0   \n",
       "...                                         ...   \n",
       "1001                                       11.0   \n",
       "1002                                       17.0   \n",
       "1003                                       21.0   \n",
       "1004                                       17.0   \n",
       "1005                                       17.0   \n",
       "\n",
       "      metrics.statistics.average sentence per word  \\\n",
       "0                                             0.05   \n",
       "1                                             0.06   \n",
       "2                                             0.06   \n",
       "3                                             0.04   \n",
       "4                                             0.04   \n",
       "...                                            ...   \n",
       "1001                                          0.09   \n",
       "1002                                          0.06   \n",
       "1003                                          0.05   \n",
       "1004                                          0.06   \n",
       "1005                                          0.06   \n",
       "\n",
       "     metrics.statistics.characters  metrics.statistics.polysyllables  \\\n",
       "0                           586794                              4603   \n",
       "1                            26769                               102   \n",
       "2                           122719                               339   \n",
       "3                           357604                              2604   \n",
       "4                           100372                               397   \n",
       "...                            ...                               ...   \n",
       "1001                         32354                               112   \n",
       "1002                         45970                               312   \n",
       "1003                        890918                              4808   \n",
       "1004                       3883244                             46730   \n",
       "1005                        451687                              2595   \n",
       "\n",
       "      metrics.statistics.sentences metrics.statistics.syllables  \\\n",
       "0                             6511                     170648.1   \n",
       "1                              385                       7686.9   \n",
       "2                             1501                      33810.3   \n",
       "3                             3239                     106802.1   \n",
       "4                              800                      28752.3   \n",
       "...                            ...                          ...   \n",
       "1001                           618                       8824.5   \n",
       "1002                           536                      13080.6   \n",
       "1003                          8921                     258091.2   \n",
       "1004                         41950                    1083170.7   \n",
       "1005                          5580                     130093.2   \n",
       "\n",
       "      metrics.statistics.words  \n",
       "0                       121533  \n",
       "1                         6067  \n",
       "2                        26389  \n",
       "3                        74959  \n",
       "4                        22022  \n",
       "...                        ...  \n",
       "1001                      6913  \n",
       "1002                      9153  \n",
       "1003                    191182  \n",
       "1004                    730715  \n",
       "1005                     95496  \n",
       "\n",
       "[1006 rows x 38 columns]"
      ]
     },
     "execution_count": 80,
     "metadata": {},
     "output_type": "execute_result"
    }
   ],
   "source": [
    "df"
   ]
  },
  {
   "cell_type": "code",
   "execution_count": 82,
   "id": "ce481e8a-6eaf-4b60-948f-3d2bad6b4046",
   "metadata": {},
   "outputs": [
    {
     "data": {
      "text/plain": [
       "array([[<AxesSubplot:title={'center':'metadata.downloads'}>]],\n",
       "      dtype=object)"
      ]
     },
     "execution_count": 82,
     "metadata": {},
     "output_type": "execute_result"
    },
    {
     "data": {
      "image/png": "[encoded data removed]",
      "text/plain": [
       "<Figure size 432x288 with 1 Axes>"
      ]
     },
     "metadata": {
      "needs_background": "light"
     },
     "output_type": "display_data"
    }
   ],
   "source": [
    "df.hist('metadata.downloads',bins=100)"
   ]
  },
  {
   "cell_type": "code",
   "execution_count": 33,
   "id": "65512264-148c-42fa-9b90-4dc97240ebf1",
   "metadata": {},
   "outputs": [],
   "source": [
    "df = pd.read_json('classics.json')"
   ]
  },
  {
   "cell_type": "code",
   "execution_count": 34,
   "id": "c8cfaa36-c15e-441a-85b3-c4e211cb6b96",
   "metadata": {},
   "outputs": [
    {
     "data": {
      "text/html": [
       "<div>\n",
       "<style scoped>\n",
       "    .dataframe tbody tr th:only-of-type {\n",
       "        vertical-align: middle;\n",
       "    }\n",
       "\n",
       "    .dataframe tbody tr th {\n",
       "        vertical-align: top;\n",
       "    }\n",
       "\n",
       "    .dataframe thead th {\n",
       "        text-align: right;\n",
       "    }\n",
       "</style>\n",
       "<table border=\"1\" class=\"dataframe\">\n",
       "  <thead>\n",
       "    <tr style=\"text-align: right;\">\n",
       "      <th></th>\n",
       "      <th>bibliography</th>\n",
       "      <th>metadata</th>\n",
       "      <th>metrics</th>\n",
       "    </tr>\n",
       "  </thead>\n",
       "  <tbody>\n",
       "    <tr>\n",
       "      <th>0</th>\n",
       "      <td>{'congress classifications': 'PR', 'languages'...</td>\n",
       "      <td>{'downloads': 36576, 'id': 1342, 'rank': 1, 'u...</td>\n",
       "      <td>{'difficulty': {'automated readability index':...</td>\n",
       "    </tr>\n",
       "    <tr>\n",
       "      <th>1</th>\n",
       "      <td>{'congress classifications': 'PS', 'languages'...</td>\n",
       "      <td>{'downloads': 26363, 'id': 1952, 'rank': 2, 'u...</td>\n",
       "      <td>{'difficulty': {'automated readability index':...</td>\n",
       "    </tr>\n",
       "    <tr>\n",
       "      <th>2</th>\n",
       "      <td>{'congress classifications': 'PZ,PR', 'languag...</td>\n",
       "      <td>{'downloads': 18882, 'id': 11, 'rank': 3, 'url...</td>\n",
       "      <td>{'difficulty': {'automated readability index':...</td>\n",
       "    </tr>\n",
       "    <tr>\n",
       "      <th>3</th>\n",
       "      <td>{'congress classifications': 'PR', 'languages'...</td>\n",
       "      <td>{'downloads': 17128, 'id': 84, 'rank': 4, 'url...</td>\n",
       "      <td>{'difficulty': {'automated readability index':...</td>\n",
       "    </tr>\n",
       "    <tr>\n",
       "      <th>4</th>\n",
       "      <td>{'congress classifications': 'PT', 'languages'...</td>\n",
       "      <td>{'downloads': 15683, 'id': 5200, 'rank': 5, 'u...</td>\n",
       "      <td>{'difficulty': {'automated readability index':...</td>\n",
       "    </tr>\n",
       "    <tr>\n",
       "      <th>...</th>\n",
       "      <td>...</td>\n",
       "      <td>...</td>\n",
       "      <td>...</td>\n",
       "    </tr>\n",
       "    <tr>\n",
       "      <th>1001</th>\n",
       "      <td>{'congress classifications': '', 'languages': ...</td>\n",
       "      <td>{'downloads': 0, 'id': 51483, 'rank': 1002, 'u...</td>\n",
       "      <td>{'difficulty': {'automated readability index':...</td>\n",
       "    </tr>\n",
       "    <tr>\n",
       "      <th>1002</th>\n",
       "      <td>{'congress classifications': '', 'languages': ...</td>\n",
       "      <td>{'downloads': 0, 'id': 51484, 'rank': 1003, 'u...</td>\n",
       "      <td>{'difficulty': {'automated readability index':...</td>\n",
       "    </tr>\n",
       "    <tr>\n",
       "      <th>1003</th>\n",
       "      <td>{'congress classifications': '', 'languages': ...</td>\n",
       "      <td>{'downloads': 0, 'id': 51487, 'rank': 1004, 'u...</td>\n",
       "      <td>{'difficulty': {'automated readability index':...</td>\n",
       "    </tr>\n",
       "    <tr>\n",
       "      <th>1004</th>\n",
       "      <td>{'congress classifications': '', 'languages': ...</td>\n",
       "      <td>{'downloads': 0, 'id': 51491, 'rank': 1005, 'u...</td>\n",
       "      <td>{'difficulty': {'automated readability index':...</td>\n",
       "    </tr>\n",
       "    <tr>\n",
       "      <th>1005</th>\n",
       "      <td>{'congress classifications': '', 'languages': ...</td>\n",
       "      <td>{'downloads': 0, 'id': 51495, 'rank': 1006, 'u...</td>\n",
       "      <td>{'difficulty': {'automated readability index':...</td>\n",
       "    </tr>\n",
       "  </tbody>\n",
       "</table>\n",
       "<p>1006 rows × 3 columns</p>\n",
       "</div>"
      ],
      "text/plain": [
       "                                           bibliography  \\\n",
       "0     {'congress classifications': 'PR', 'languages'...   \n",
       "1     {'congress classifications': 'PS', 'languages'...   \n",
       "2     {'congress classifications': 'PZ,PR', 'languag...   \n",
       "3     {'congress classifications': 'PR', 'languages'...   \n",
       "4     {'congress classifications': 'PT', 'languages'...   \n",
       "...                                                 ...   \n",
       "1001  {'congress classifications': '', 'languages': ...   \n",
       "1002  {'congress classifications': '', 'languages': ...   \n",
       "1003  {'congress classifications': '', 'languages': ...   \n",
       "1004  {'congress classifications': '', 'languages': ...   \n",
       "1005  {'congress classifications': '', 'languages': ...   \n",
       "\n",
       "                                               metadata  \\\n",
       "0     {'downloads': 36576, 'id': 1342, 'rank': 1, 'u...   \n",
       "1     {'downloads': 26363, 'id': 1952, 'rank': 2, 'u...   \n",
       "2     {'downloads': 18882, 'id': 11, 'rank': 3, 'url...   \n",
       "3     {'downloads': 17128, 'id': 84, 'rank': 4, 'url...   \n",
       "4     {'downloads': 15683, 'id': 5200, 'rank': 5, 'u...   \n",
       "...                                                 ...   \n",
       "1001  {'downloads': 0, 'id': 51483, 'rank': 1002, 'u...   \n",
       "1002  {'downloads': 0, 'id': 51484, 'rank': 1003, 'u...   \n",
       "1003  {'downloads': 0, 'id': 51487, 'rank': 1004, 'u...   \n",
       "1004  {'downloads': 0, 'id': 51491, 'rank': 1005, 'u...   \n",
       "1005  {'downloads': 0, 'id': 51495, 'rank': 1006, 'u...   \n",
       "\n",
       "                                                metrics  \n",
       "0     {'difficulty': {'automated readability index':...  \n",
       "1     {'difficulty': {'automated readability index':...  \n",
       "2     {'difficulty': {'automated readability index':...  \n",
       "3     {'difficulty': {'automated readability index':...  \n",
       "4     {'difficulty': {'automated readability index':...  \n",
       "...                                                 ...  \n",
       "1001  {'difficulty': {'automated readability index':...  \n",
       "1002  {'difficulty': {'automated readability index':...  \n",
       "1003  {'difficulty': {'automated readability index':...  \n",
       "1004  {'difficulty': {'automated readability index':...  \n",
       "1005  {'difficulty': {'automated readability index':...  \n",
       "\n",
       "[1006 rows x 3 columns]"
      ]
     },
     "execution_count": 34,
     "metadata": {},
     "output_type": "execute_result"
    }
   ],
   "source": [
    "df"
   ]
  },
  {
   "cell_type": "code",
   "execution_count": 35,
   "id": "ed4b787c-5a8d-403f-ab52-e99b8fd7eee8",
   "metadata": {},
   "outputs": [],
   "source": [
    "import classics"
   ]
  },
  {
   "cell_type": "code",
   "execution_count": 48,
   "id": "1f4a88ff-19a4-4ebe-a56e-c3b9d79cee3e",
   "metadata": {},
   "outputs": [],
   "source": [
    "book = classics.get_book()"
   ]
  },
  {
   "cell_type": "code",
   "execution_count": 49,
   "id": "df06b36a-8b46-4b1e-b1f5-d2809ccc010e",
   "metadata": {},
   "outputs": [
    {
     "data": {
      "text/plain": [
       "dict_keys(['bibliography', 'metadata', 'metrics'])"
      ]
     },
     "execution_count": 49,
     "metadata": {},
     "output_type": "execute_result"
    }
   ],
   "source": [
    "book[0].keys()"
   ]
  },
  {
   "cell_type": "code",
   "execution_count": 59,
   "id": "17685b25-0451-4798-8fc7-3fe08e397b35",
   "metadata": {
    "collapsed": true,
    "jupyter": {
     "outputs_hidden": true
    },
    "tags": []
   },
   "outputs": [
    {
     "name": "stdout",
     "output_type": "stream",
     "text": [
      "36576: Pride and Prejudice\n",
      "26363: The Yellow Wallpaper\n",
      "18882: Alice's Adventures in Wonderland\n",
      "17128: Frankenstein; Or, The Modern Prometheus\n",
      "15683: Metamorphosis\n",
      "15347: Adventures of Huckleberry Finn\n",
      "13638: The Importance of Being Earnest: A Trivial Comedy for Serious People\n",
      "13237: The Adventures of Tom Sawyer\n",
      "12794: Narrative of the Life of Frederick Douglass, an American Slave\n",
      "11625: A Doll's House : a play\n",
      "11270: Moby Dick; Or, The Whale\n",
      "11125: The Adventures of Sherlock Holmes\n",
      "11068: Great Expectations\n",
      "10568: Ulysses\n",
      "10312: A Tale of Two Cities\n",
      "10014: A Modest Proposal: For preventing the children of poor people in Ireland, from being a burden on their parents or country, and for making them beneficial to the publick\n",
      "9852: Dracula\n",
      "9690: The Prince\n",
      "9681: The Picture of Dorian Gray\n",
      "9580: War and Peace\n",
      "9016: Grimms' Fairy Tales\n",
      "8559: The Kama Sutra of Vatsyayana: Translated From the Sanscrit in Seven Parts With Preface, Introduction and Concluding Remarks\n",
      "8513: Emma\n",
      "8199: Beowulf: An Anglo-Saxon Epic Poem\n",
      "7900: Les Misérables\n",
      "7458: The Romance of Lust: A Classic Victorian erotic novel\n",
      "7449: Jane Eyre: An Autobiography\n",
      "6899: Leaves of Grass\n",
      "6879: Dubliners\n",
      "6503: Sense and Sensibility\n",
      "6411: Leviathan\n",
      "6410: The Strange Case of Dr. Jekyll and Mr. Hyde\n",
      "6396: Treasure Island\n",
      "6237: Wuthering Heights\n",
      "5875: Heart of Darkness\n",
      "5861: The Count of Monte Cristo, Illustrated\n",
      "5752: Gulliver's Travels into Several Remote Nations of the World\n",
      "5702: The Awakening, and Selected Short Stories\n",
      "5657: Peter Pan\n",
      "5483: Siddhartha\n",
      "5360: The Republic\n",
      "5169: Autobiography of Benjamin Franklin\n",
      "5140: The Life and Adventures of Robinson Crusoe\n",
      "5115: Songs of Innocence, and Songs of Experience\n",
      "5056: Essays of Michel de Montaigne — Complete\n",
      "4973: The Divine Comedy by Dante, Illustrated\n",
      "4741: A Christmas Carol in Prose; Being a Ghost Story of Christmas\n",
      "4703: A Study in Scarlet\n",
      "4526: The Jungle Book\n",
      "4483: Crime and Punishment\n",
      "4443: The Iliad\n",
      "4347: Beyond Good and Evil\n",
      "4339: Candide\n",
      "4297: Steam, Its Generation and Use\n",
      "4287: Pygmalion\n",
      "4166: The Complete Works of William Shakespeare\n",
      "4066: Oliver Twist\n",
      "3957: Heart of Darkness\n",
      "3933: English Literature: Its History and Its Significance for the Life of the English-Speaking World\n",
      "3850: An Occurrence at Owl Creek Bridge\n",
      "3842: Second Treatise of Government\n",
      "3776: The King James Version of the Bible\n",
      "3765: My Secret Life, Volumes I. to III.: 1888 Edition\n",
      "3704: The Wonderful Wizard of Oz\n",
      "3683: On Liberty\n",
      "3677: The Hound of the Baskervilles\n",
      "3647: Three Men in a Boat\n",
      "3626: Through the Looking-Glass\n",
      "3599: The Time Machine\n",
      "3526: The Interesting Narrative of the Life of Olaudah Equiano, Or Gustavus Vassa, The African: Written By Himself\n",
      "3522: The Jungle\n",
      "3506: Josefine Mutzenbacher: oder Die Geschichte einer Wienerischen Dirne von ihr selbst erzählt\n",
      "3501: Walden, and On The Duty Of Civil Disobedience\n",
      "3494: Hard Times\n",
      "3478: The Brothers Karamazov\n",
      "3455: Democracy in America — Volume 1\n",
      "3437: Complete Original Short Stories of Guy De Maupassant\n",
      "3434: Practical Grammar and Composition\n",
      "3427: David Copperfield\n",
      "3389: Narrative of the Captivity and Restoration of Mrs. Mary Rowlandson\n",
      "3336: Uncle Tom's Cabin\n",
      "3334: How to Analyze People on Sight: Through the Science of Human Analysis: The Five Human Types\n",
      "3287: The Legend of Sleepy Hollow\n",
      "3248: Around the World in Eighty Days\n",
      "3208: Anna Karenina\n",
      "3192: The Mysterious Affair at Styles\n",
      "3141: The Call of the Wild\n",
      "3089: Anne of Green Gables\n",
      "3079: Persuasion\n",
      "3043: Don Quixote\n",
      "3023: Democracy and Education: An Introduction to the Philosophy of Education\n",
      "2979: A Portrait of the Artist as a Young Man\n",
      "2963: The Tragical History of Doctor Faustus: From the Quarto of 1604\n",
      "2951: Ethan Frome\n",
      "2942: Paradise Lost\n",
      "2938: The Tragedy of Romeo and Juliet\n",
      "2933: Utopia\n",
      "2924: Myths and Legends of Ancient Greece and Rome\n",
      "2905: Forbidden Fruit: Luscious and exciting story and More forbidden fruit or; Master Percy's progress in and beyond the domestic circle\n",
      "2884: Common Sense\n",
      "2871: Northanger Abbey\n",
      "2861: The Scarlet Letter\n",
      "2856: The Communist Manifesto\n",
      "2850: The Turn of the Screw\n",
      "2849: Lysistrata\n",
      "2793: The Souls of Black Folk\n",
      "2744: Madame Bovary\n",
      "2741: The Reign of Greed\n",
      "2713: Hedda Gabler\n",
      "2669: The Return of Sherlock Holmes\n",
      "2638: Le Morte d'Arthur: Volume 1\n",
      "2613: The Works of Edgar Allan Poe — Volume 1\n",
      "2572: Don Juan\n",
      "2546: The War of the Worlds\n",
      "2537: Mansfield Park\n",
      "2526: Just So Stories\n",
      "2461: Middlemarch\n",
      "2454: Thus Spake Zarathustra: A Book for All and None\n",
      "2452: Meditations\n",
      "2449: On the Origin of Species By Means of Natural Selection: Or, the Preservation of Favoured Races in the Struggle for Life\n",
      "2439: Faust\n",
      "2407: An Inquiry into the Nature and Causes of the Wealth of Nations\n",
      "2371: The Tale of Peter Rabbit\n",
      "2351: The Ladies' Book of Etiquette, and Manual of Politeness: A Complete Hand Book for the Use of the Lady in Polite Society\n",
      "2345: A Treatise of Human Nature\n",
      "2340: Little Women\n",
      "2332: The Problems of Philosophy\n",
      "2330: Bleak House\n",
      "2307: The Works of Edgar Allan Poe — Volume 2\n",
      "2287: The Devil's Dictionary\n",
      "2270: The Art of War\n",
      "2252: The Critique of Pure Reason\n",
      "2210: Memoirs Of Fanny Hill: A New and Genuine Edition from the Original Text (London, 1749)\n",
      "2209: The Practice and Science of Drawing\n",
      "2200: The Sign of the Four\n",
      "2199: The Odyssey: Rendered into English prose for the use of those who cannot read the original\n",
      "2190: A Princess of Mars\n",
      "2187: Myths and Legends of China\n",
      "2162: The Three Musketeers\n",
      "2144: 2 B R 0 2 B\n",
      "2130: The Sorrows of Young Werther\n",
      "2127: The Woman in White\n",
      "2125: Notes from the Underground\n",
      "2116: Latin for Beginners\n",
      "2115: The Memoirs of Sherlock Holmes\n",
      "2105: The History Of The Decline And Fall Of The Roman Empire: Table of Contents with links in the HTML file to the two; Project Gutenberg editions (12 volumes)\n",
      "2099: The Trial\n",
      "2092: Hamlet, Prince of Denmark\n",
      "2069: A Concise Dictionary of Middle English from A.D. 1150 to 1580\n",
      "2046: Journal of Small Things\n",
      "2019: The Wind in the Willows\n",
      "2014: Tess of the d'Urbervilles: A Pure Woman\n",
      "2012: Macbeth\n",
      "2000: The Elements of Style\n",
      "1980: An Ideal Husband\n",
      "1975: Don Quijote\n",
      "1955: The Prince and the Pauper\n",
      "1948: North and South\n",
      "1947: Childe Harold's Pilgrimage\n",
      "1939: The Anatomy of Melancholy\n",
      "1927: The Notebooks of Leonardo Da Vinci — Complete\n",
      "1924: Andersen's Fairy Tales\n",
      "1904: Great Disasters and Horrors in the World's History\n",
      "1897: Plays\n",
      "1896: Dead End\n",
      "1895: Philosophiae Naturalis Principia Mathematica\n",
      "1890: The Confessions of St. Augustine\n",
      "1877: Swann's Way\n",
      "1868: Twelve Years a Slave: Narrative of Solomon Northup, a Citizen of New-York, Kidnapped in Washington City in 1841, and Rescued in 1853, from a Cotton Plantation near the Red River in Louisiana\n",
      "1856: The Sea-Gull\n",
      "1846: Spacemen Die at Home\n",
      "1825: The Secret Adversary\n",
      "1823: The Ten Books on Architecture\n",
      "1822: The vision of hell.: By Dante Alighieri.; Translated by Rev. Henry Francis Cary, M.A.; and illustrated with the seventy-five designs of Gustave Doré.\n",
      "1819: Noli Me Tangere\n",
      "1801: Beasts, Men and Gods\n",
      "1797: The Castle of Otranto\n",
      "1793: Lyrical Ballads, With a Few Other Poems (1798)\n",
      "1770: The Moonstone\n",
      "1739: The Fall of the House of Usher\n",
      "1737: The Age of Innocence\n",
      "1723: The Aeneid\n",
      "1692: The Monkey's Paw: The Lady of the Barge and Others, Part 2.\n",
      "1660: Alice's Adventures in Wonderland\n",
      "1621: The Secret Garden\n",
      "1605: The History of the Peloponnesian War\n",
      "1605: A Connecticut Yankee in King Arthur's Court\n",
      "1601: The Livestock Producer and Armour\n",
      "1583: Carmilla\n",
      "1553: Eve's Diary, Complete\n",
      "1552: Ethics\n",
      "1551: Anthem\n",
      "1546: A Room with a View\n",
      "1545: The Divine Comedy by Dante, Illustrated, Paradise, Complete\n",
      "1544: The Mechanical Properties of Wood: Including a Discussion of the Factors Affecting the Mechanical Properties, and Methods of Timber Testing\n",
      "1541: Pamela, or Virtue Rewarded\n",
      "1536: This Side of Paradise\n",
      "1530: The Happy Prince, and Other Tales\n",
      "1523: The Innocents Abroad\n",
      "1517: An Essay on Man; Moral Essays and Satires\n",
      "1511: The Tragedy of Pudd'nhead Wilson\n",
      "1511: Symposium\n",
      "1510: The Gentlemen's Book of Etiquette and Manual of Politeness: Being a Complete Guide for a Gentleman's Conduct in All His Relations Towards Society\n",
      "1501: The Man Who Was Six\n",
      "1496: Plays of Sophocles: Oedipus the King; Oedipus at Colonus; Antigone\n",
      "1496: The Red Badge of Courage: An Episode of the American Civil War\n",
      "1489: The Condition of the Working-Class in England in 1844: with a Preface written in 1892\n",
      "1487: Divine Comedy, Longfellow's Translation, Hell\n",
      "1486: Cyrano de Bergerac\n",
      "1481: Hamlet\n",
      "1476: Discourse on the Method of Rightly Conducting One's Reason and of Seeking Truth in the Sciences\n",
      "1470: Maggie: A Girl of the Streets\n",
      "1466: The Library of Entertainment Handbook\n",
      "1459: Twenty Thousand Leagues under the Sea\n",
      "1453: The King in Yellow\n",
      "1452: The World as Will and Idea (Vol. 1 of 3)\n",
      "1448: The American Occupation of the Philippines 1898-1912\n",
      "1447: The Canterbury Tales, and Other Poems\n",
      "1444: My Man Jeeves\n",
      "1443: Spenser's The Faerie Queene, Book I\n",
      "1441: Mrs. Warren's Profession\n",
      "1435: Pascal's Pensées\n",
      "1425: Venus in Furs\n",
      "1421: The Legends of King Arthur and His Knights\n",
      "1412: The Satyricon — Complete\n",
      "1402: The Pilgrim's Progress from this world to that which is to come: Delivered under the similitude of a dream, by John Bunyan\n",
      "1402: Kidnapped\n",
      "1399: On War — Volume 1\n",
      "1397: The Confessions of Jean Jacques Rousseau — Complete\n",
      "1389: Die Verwandlung\n",
      "1386: The Idiot\n",
      "1381: Famous Impostors\n",
      "1380: The Strange Case of Dr. Jekyll and Mr. Hyde\n",
      "1379: The Addicts\n",
      "1378: The Lost World\n",
      "1368: Life on the Mississippi\n",
      "1350: An Enquiry Concerning Human Understanding\n",
      "1349: The Marching Morons\n",
      "1339: The Decameron of Giovanni Boccaccio\n",
      "1339: A Vindication of the Rights of Woman: With Strictures on Political and Moral Subjects\n",
      "1336: Tarzan of the Apes\n",
      "1333: Southern Horrors: Lynch Law in All Its Phases\n",
      "1333: Uncle Vanya: Scenes from Country Life in Four Acts\n",
      "1333: The Social Cancer: A Complete English Version of Noli Me Tangere\n",
      "1328: Gargantua and Pantagruel\n",
      "1328: The Pursuit of God\n",
      "1327: The Federalist Papers\n",
      "1326: The Life and Opinions of Tristram Shandy, Gentleman\n",
      "1322: The Ladies Delight\n",
      "1317: The Lives of the Twelve Caesars, Complete\n",
      "1313: Roughing It\n",
      "1308: Second Variety\n",
      "1308: Bridge Crossing\n",
      "1307: The Thousand and One Nights, Vol. I.: Commonly Called the Arabian Nights' Entertainments\n",
      "1306: The Consolation of Philosophy\n",
      "1306: A Complete Guide to Heraldry\n",
      "1302: Max und Moritz: Eine Bubengeschichte in sieben Streichen\n",
      "1300: The Poetics of Aristotle\n",
      "1295: Ghosts\n",
      "1290: Struwwelpeter: Merry Stories and Funny Pictures\n",
      "1287: Youth\n",
      "1284: Plain Tales from the Hills\n",
      "1283: The Invisible Man: A Grotesque Romance\n",
      "1282: Utilitarianism\n",
      "1277: Novo dicionário da língua portuguesa\n",
      "1276: Beasts and Super-Beasts\n",
      "1267: The History of Prostitution: Its Extent, Causes, and Effects throughout the World\n",
      "1263: A Journey to the Centre of the Earth\n",
      "1244: A Classification and Subject Index for Cataloguing and Arranging the Books and Pamphlets of a Library\n",
      "1244: The Theory of the Leisure Class\n",
      "1241: Ivanhoe: A Romance\n",
      "1239: Notre-Dame De Paris\n",
      "1239: Lineage, Life and Labors of José Rizal, Philippine Patriot\n",
      "1230: The Valley of Fear\n",
      "1229: The Island of Doctor Moreau\n",
      "1229: Alice's Adventures in Wonderland: Illustrated by Arthur Rackham. With a Proem by Austin Dobson\n",
      "1218: The Man Outside\n",
      "1215: The Last of the Mohicans; A narrative of 1757\n",
      "1214: The Adventures of Pinocchio\n",
      "1207: The Spectator, Volumes 1, 2 and 3: With Translations and Index for the Series\n",
      "1207: The Jungle Book\n",
      "1207: The Sense of Wonder\n",
      "1201: China and Pottery Marks\n",
      "1199: Aesop's Fables; a new translation\n",
      "1194: Essays by Ralph Waldo Emerson\n",
      "1194: Encyclopedia of Needlework\n",
      "1176: Chaucer's Works, Volume 4 (of 7) — The Canterbury Tales\n",
      "1174: White Fang\n",
      "1173: Mosses from an Old Manse, and Other Stories\n",
      "1172: The Mayor of Casterbridge\n",
      "1171: Shakespearean Tragedy: Lectures on Hamlet, Othello, King Lear, Macbeth\n",
      "1169: The Waste Land\n",
      "1169: My Antonia\n",
      "1165: Florante at Laura\n",
      "1165: Apology\n",
      "1163: Bartleby, the Scrivener: A Story of Wall-Street\n",
      "1158: Far from the Madding Crowd\n",
      "1156: History of the Decline and Fall of the Roman Empire — Volume 1\n",
      "1151: The Lady with the Dog and Other Stories\n",
      "1151: Filipino Popular Tales\n",
      "1148: Antiquities of the Jews\n",
      "1142: The Secret Agent: A Simple Tale\n",
      "1140: The Raven\n",
      "1134: The Iliad\n",
      "1133: The Mysterious Stranger, and Other Stories\n",
      "1131: How?: or Spare Hours Made Profitable for Boys and Girls\n",
      "1129: Laura Middleton; Her Brother and her Lover\n",
      "1129: Biographia Literaria\n",
      "1128: Incidents in the Life of a Slave Girl, Written by Herself\n",
      "1125: How To Write Special Feature Articles: A Handbook for Reporters, Correspondents and Free-Lance Writers Who Desire to Contribute to Popular Magazines and Magazine Sections of Newspapers\n",
      "1121: The Pickwick Papers\n",
      "1119: The House of Mirth\n",
      "1112: A Little Princess: Being the whole story of Sara Crewe now told for the first time\n",
      "1106: My Lady Greensleeves\n",
      "1102: 1000 Mythological Characters Briefly Described: Adapted to Private Schools, High Schools and Academies\n",
      "1098: Women in Love\n",
      "1093: An Enemy of the People\n",
      "1089: Palmistry for All\n",
      "1088: The Person and Work of The Holy Spirit\n",
      "1085: Best Russian Short Stories\n",
      "1085: Faust: Der Tragödie erster Teil\n",
      "1082: The Thirty-Nine Steps\n",
      "1076: Webster's Unabridged Dictionary\n",
      "1075: Flatland: A Romance of Many Dimensions (Illustrated)\n",
      "1073: What Is Man? and Other Essays\n",
      "1071: The History of Don Quixote, Volume 1, Complete\n",
      "1068: Right Ho, Jeeves\n",
      "1066: Dr. Kometevsky's Day\n",
      "1064: The Best American Humorous Short Stories\n",
      "1064: Silas Marner\n",
      "1060: The Vampyre; a Tale\n",
      "1053: Relativity : the Special and General Theory\n",
      "1052: The Doré Bible Gallery, Complete: Containing One Hundred Superb Illustrations, and a Page of Explanatory Letter-press Facing Each\n",
      "1047: The Literary World Seventh Reader\n",
      "1045: The Innocence of Father Brown\n",
      "1039: Electricity in Locomotion: An Account of its Mechanism, its Achievements, and its Prospects\n",
      "1038: Kim\n",
      "1036: Irish Fairy Tales\n",
      "1034: My Bondage and My Freedom\n",
      "1020: Captain Cook's Journal During His First Voyage Round the World: Made in H. M. Bark \"Endeavour\", 1768-71\n",
      "1015: Black Beauty\n",
      "1012: De Profundis\n",
      "1008: A Discourse Upon the Origin and the Foundation of the Inequality Among Mankind\n",
      "1007: The Middle-Class Gentleman\n",
      "1002: The Alchemist\n",
      "1002: Poems\n",
      "999: The Rape of the Lock and Other Poems\n",
      "997: Aesop's Fables: Translated by George Fyler Townsend\n",
      "993: Democracy in America — Volume 2\n",
      "989: The Story of My Life: With her letters (1887-1901) and a supplementary account of her education, including passages from the reports and letters of her teacher, Anne Mansfield Sullivan, by John Albert Macy\n",
      "988: She Stoops to Conquer; Or, The Mistakes of a Night: A Comedy\n",
      "988: The Scarlet Pimpernel\n",
      "987: The Poems and Prose Poems of Charles Baudelaire: with an Introductory Preface by James Huneker\n",
      "985: The Rime of the Ancient Mariner\n",
      "985: The Frontier in American History\n",
      "984: Moby Dick\n",
      "984: Buddenbrooks: Verfall einer Familie\n",
      "984: A Little Journey\n",
      "984: Vanity Fair\n",
      "979: Birds of a Feather\n",
      "975: Autobiography of a Yogi\n",
      "969: Nine Thousand Miles On A Pullman Train: An Account of a Tour of Railroad Conductors From; Philadelphia to the Pacific Coast an Return\n",
      "957: Dream Psychology: Psychoanalysis for Beginners\n",
      "957: The Pilot and the Bushman\n",
      "951: Beautiful Stories from Shakespeare\n",
      "951: The Works of Edgar Allan Poe — Volume 3\n",
      "949: Daisy Miller: A Study\n",
      "949: Peter and Wendy\n",
      "949: Personal Memoirs of U. S. Grant, Complete\n",
      "949: Trial of the Major War Criminals Before the International Military Tribunal, Vol. I: Nuremburg 14 November 1945-1 October 1946: Vol. I\n",
      "947: The Black Man, the Father of Civilization, Proven by Biblical History\n",
      "947: The Autobiography of a Super-Tramp\n",
      "944: The Enchiridion\n",
      "935: History  of the World War: An Authentic Narrative of the World's Greatest War\n",
      "932: Confidence Game\n",
      "929: Confessions of an English Opium-Eater\n",
      "928: The Antichrist\n",
      "928: A Short History of the World\n",
      "926: The Phantom of the Opera\n",
      "924: Three Contributions to the Theory of Sex\n",
      "923: The Varieties of Religious Experience: A Study in Human Nature\n",
      "922: She\n",
      "921: 1811 Dictionary of the Vulgar Tongue\n",
      "920: Poems by Emily Dickinson, Three Series, Complete\n",
      "920: Poems\n",
      "919: On Heroes, Hero-Worship, and the Heroic in History\n",
      "918: Ang Liham ni Dr. Jose Rizal sa mga Kadalagahan sa Malolos, Bulakan\n",
      "918: Patty's Fortune\n",
      "917: The Wars of the Jews; Or, The History of the Destruction of Jerusalem\n",
      "916: The Origin of Species by Means of Natural Selection: Or, the Preservation of Favoured Races in the Struggle for Life, 6th Edition\n",
      "915: The Tempest: The Works of William Shakespeare [Cambridge Edition] [9 vols.]\n",
      "915: The Ignoble Savages\n",
      "915: On the Nature of Things\n",
      "913: The Outline of Science, Vol. 1 (of 4): A Plain Story Simply Told\n",
      "912: Pride and Prejudice\n",
      "910: Medea of Euripides\n",
      "905: Volpone; Or, The Fox\n",
      "902: The life of Midhat Pasha; a record of his services, political reforms, banishment, and judicial murder\n",
      "896: Othello\n",
      "896: The Pride of Jennico: Being a Memoir of Captain Basil Jennico\n",
      "894: Make Me An Offer\n",
      "894: People Soup\n",
      "892: The Mantle, and Other Stories\n",
      "891: Gorgias\n",
      "887: The Playboy of the Western World: A Comedy in Three Acts\n",
      "887: Sea Legs\n",
      "885: Phaedo\n",
      "879: Der Tod in Venedig\n",
      "879: Our Mutual Friend\n",
      "878: The Spicy Sound of Success\n",
      "877: Boy Scouts Handbook: The First Edition, 1911\n",
      "877: The Ethics of Aristotle\n",
      "876: The Great God Pan\n",
      "871: The Writings of Thomas Paine — Volume 4 (1794-1796): The Age of Reason\n",
      "869: The Works of the Right Honourable Edmund Burke, Vol. 01 (of 12)\n",
      "869: Pragmatism: A New Name for Some Old Ways of Thinking\n",
      "868: Angel's Egg\n",
      "867: The Man Who Was Thursday: A Nightmare\n",
      "866: A Woman of No Importance\n",
      "864: The History of Herodotus — Volume 1\n",
      "864: Arms and the Man\n",
      "863: The Republic\n",
      "863: Plays by Anton Chekhov, Second Series\n",
      "862: The Duchess of Malfi\n",
      "862: Submarines, Mines and Torpedoes in the War\n",
      "859: Survival Type\n",
      "851: A Touch of E Flat\n",
      "851: Fresh Air Fiend\n",
      "846: The Eyes Have It\n",
      "840: King Solomon's Mines\n",
      "840: Beyond the Door\n",
      "836: What Men Live By, and Other Tales\n",
      "835: Der Struwwelpeter: oder lustige Geschichten und drollige Bilder\n",
      "834: The Aesop for Children: With pictures by Milo Winter\n",
      "834: The Possessed (The Devils)\n",
      "832: The Fairy Tales of Charles Perrault\n",
      "830: The Secret Garden\n",
      "829: The National Geographic Magazine, Vol. II., No. 2, May, 1890\n",
      "829: The Journals of Lewis and Clark, 1804-1806\n",
      "828: An Enquiry Concerning the Principles of Morals\n",
      "827: The Iron Heel\n",
      "826: A Journal of the Plague Year: Written by a Citizen Who Continued All the While in London\n",
      "825: Bede's Ecclesiastical History of England\n",
      "825: As a Man Thinketh\n",
      "825: Inside Earth\n",
      "821: Bushido, the Soul of Japan\n",
      "821: The Red Room\n",
      "821: The Blue Fairy Book\n",
      "821: Citizen Jell\n",
      "820: Nationalism\n",
      "819: Anne of the Island\n",
      "819: Villette\n",
      "814: The Poetical Works of William Wordsworth — Volume 3\n",
      "813: The Mysterious Island\n",
      "812: The Canterville Ghost\n",
      "810: Prime Difference\n",
      "809: Adventures of Sherlock Holmes: Illustrated\n",
      "808: The Man in the Iron Mask\n",
      "807: Poems and Songs of Robert Burns\n",
      "804: Man in a Quandary\n",
      "802: Opticks: Or, A Treatise of the Reflections, Refractions, Inflections, and Colours of Light\n",
      "800: The Gilded Age: A Tale of Today\n",
      "799: Memoirs of Extraordinary Popular Delusions and the Madness of Crowds\n",
      "798: The House of the Seven Gables\n",
      "797: Simple Sabotage Field Manual\n",
      "796: Life in the Iron-Mills; Or, The Korl Woman\n",
      "794: Time In the Round\n",
      "793: Anne of Avonlea\n",
      "792: Japanese Fairy Tales\n",
      "791: The Monk: A Romance\n",
      "791: Indian Fairy Tales\n",
      "789: Historia de Venezuela, Tomo I\n",
      "789: Public School Life: Boys Masters Parents\n",
      "789: The Campaign in Russian Poland\n",
      "789: Also sprach Zarathustra: Ein Buch für Alle und Keinen\n",
      "788: Double Standard\n",
      "786: The Red Record: Tabulated Statistics and Alleged Causes of Lynching in the United States\n",
      "786: The Elementary Forms of the Religious Life\n",
      "784: The Works of Edgar Allan Poe — Volume 5\n",
      "784: Paradise Lost\n",
      "782: On the Sublime\n",
      "782: Break a Leg\n",
      "782: The Grand Inquisitor\n",
      "781: Woodwork Joints: How they are Set Out, How Made and Where Used.\n",
      "781: To The Fore With the Tanks!\n",
      "780: Memories of the Kaiser's Court\n",
      "778: I Am A Nucleus\n",
      "777: Turkey; the Awakening of Turkey; the Turkish Revolution of 1908\n",
      "777: Not a Creature Was Stirring\n",
      "776: My Life and Work\n",
      "770: Siddhartha: eine indische Dichtung\n",
      "769: The Portrait of a Lady — Volume 1\n",
      "767: Lord of the World\n",
      "766: Nature\n",
      "766: Fundamental Principles of the Metaphysic of Morals\n",
      "764: The Shunned House\n",
      "763: Up from Slavery: An Autobiography\n",
      "763: The Memoirs of Jacques Casanova de Seingalt, 1725-1798. Complete\n",
      "762: A Tramp Abroad\n",
      "760: Letters of Pliny\n",
      "760: Helps to Latin Translation at Sight\n",
      "760: Erotica Romana\n",
      "759: Voyage to Far N'jurd\n",
      "758: History of Tom Jones, a Foundling\n",
      "757: Micrographia: Some Physiological Descriptions of Minute Bodies Made by Magnifying Glasses with Observations and Inquiries Thereupon\n",
      "757: ...So They Baked a Cake\n",
      "757: Little Dorrit\n",
      "756: The Railway Children\n",
      "755: The Beast in the Jungle\n",
      "755: The Autobiography of Benjamin Franklin\n",
      "749: Politics: A Treatise on Government\n",
      "748: Little Black Sambo\n",
      "748: The Metamorphoses of Ovid, Books I-VII\n",
      "746: Reflections; or Sentences and Moral Maxims\n",
      "744: The Man That Corrupted Hadleyburg\n",
      "743: The Anglo-Saxon Chronicle\n",
      "742: Amusements in Mathematics\n",
      "741: The Travels of Marco Polo — Volume 1\n",
      "740: Herland\n",
      "739: Etiquette\n",
      "738: Darkwater: Voices from Within the Veil\n",
      "736: Poems Every Child Should Know: The What-Every-Child-Should-Know-Library\n",
      "736: The History of the Highland Clearances: Second Edition, Altered and Revised\n",
      "736: Prisoner of the Mill: or, Captain Hayward's \"Body Guard\"\n",
      "736: Lex\n",
      "735: The Rámáyan of Válmíki, translated into English verse\n",
      "735: Human, All Too Human: A Book for Free Spirits\n",
      "735: The Girls From Earth\n",
      "734: Father Goriot\n",
      "732: Le Morte d'Arthur: Volume 2\n",
      "730: The Analysis of Mind\n",
      "729: The Power of Mesmerism: A Highly Erotic Narrative of Voluptuous Facts and Fancies\n",
      "729: No Substitutions\n",
      "729: Growing Up On Big Muddy\n",
      "724: Omens and Superstitions of Southern India\n",
      "724: Lady Windermere's Fan\n",
      "723: Shakespeare's Sonnets\n",
      "723: The Mentor: The Metropolitan Museum of Art, Vol. 6, Num. 9, Serial No. 157, June 15, 1918\n",
      "722: Tender Buttons: Objects—Food—Rooms\n",
      "721: The Underground Railroad: A Record of Facts, Authentic Narratives, Letters, &c., Narrating the Hardships, Hair-Breadth Escapes and Death Struggles of the Slaves in Their Efforts for Freedom, As Related by Themselves and Others, or Witnessed by the Author.\n",
      "721: Nicholas Nickleby\n",
      "720: Jude the Obscure\n",
      "718: Daddy-Long-Legs\n",
      "718: The Tenant of Wildfell Hall\n",
      "717: Fifteen Thousand Useful Phrases: A Practical Handbook Of Pertinent Expressions, Striking Similes, Literary, Commercial, Conversational, And Oratorical Terms, For The Embellishment Of Speech And Literature, And The Improvement Of The Vocabulary Of Those Persons Who Read, Write, And Speak English\n",
      "717: Plain Living: A Bush Idyll\n",
      "717: On the Duty of Civil Disobedience\n",
      "714: The Man Who Would Be King\n",
      "713: Orthodoxy\n",
      "712: The Tragedy of Macbeth\n",
      "712: Boswell's Life of Johnson: Abridged and edited, with an introduction by Charles Grosvenor Osgood\n",
      "710: License to Steal\n",
      "709: A Queen of Tears, vol. 1 of 2: Caroline Matilda, Queen of Denmark and Norway and Princess; of Great Britain and Ireland\n",
      "704: The Music Master of Babylon\n",
      "696: Sonnets from the Portuguese\n",
      "693: Essays of Schopenhauer\n",
      "692: A Midsummer Night's Dream\n",
      "691: The Principles of Chemistry Volume I (of 2)\n",
      "689: The Tragedy of Julius Caesar\n",
      "688: Grimm's Fairy Stories\n",
      "688: Memoirs of Napoleon Bonaparte — Complete\n",
      "687: The Influence of Sea Power Upon History, 1660-1783\n",
      "686: The Wendigo\n",
      "686: Swenson, Dispatcher\n",
      "685: A Dog Day: or The Angel in the House\n",
      "684: In Praise of Folly: Illustrated with Many Curious Cuts\n",
      "681: Cautionary Tales for Children\n",
      "681: Cookery and Dining in Imperial Rome\n",
      "680: Famous Modern Ghost Stories\n",
      "679: The Book of Household Management\n",
      "679: The Economic Consequences of the Peace\n",
      "677: A General History of the Pyrates:: from their first rise and settlement in the island of Providence, to the present time\n",
      "676: Stories from The Arabian Nights\n",
      "675: The Story of Doctor Dolittle\n",
      "674: Manners, Customs, and Dress During the Middle Ages and During the Renaissance Period\n",
      "674: Cicero's Tusculan Disputations: Also, Treatises On The Nature Of The Gods, And On The Commonwealth\n",
      "671: The Complete Plays of Gilbert and Sullivan\n",
      "669: Sir Gawayne and the Green Knight: An Alliterative Romance-Poem (c. 1360 A.D.)\n",
      "667: The Book of the Thousand Nights and a Night — Volume 01\n",
      "667: Composition\n",
      "666: The Ballad of the White Horse\n",
      "665: Phaedra\n",
      "665: Man of Distinction\n",
      "663: The Mill on the Floss\n",
      "662: Lord Jim\n",
      "659: The Piazza Tales\n",
      "659: A Treatise on Painting\n",
      "658: A Christmas Carol\n",
      "658: A Shropshire Lad\n",
      "655: The Will to Believe, and Other Essays in Popular Philosophy\n",
      "654: Love and Freindship [sic]\n",
      "654: Slaveholding: Weighed in the Balance of Truth\n",
      "652: Oedipus King of Thebes: Translated into English Rhyming Verse with Explanatory Notes\n",
      "652: Bullet With His Name\n",
      "652: Emile\n",
      "650: Myths of the Norsemen: From the Eddas and Sagas\n",
      "650: The Golden Bough: A Study of Magic and Religion\n",
      "649: How the Other Half Lives: Studies Among the Tenements of New York\n",
      "648: Romeo and Juliet\n",
      "648: Mark Twain's Speeches\n",
      "648: The Man with Two Left Feet, and Other Stories\n",
      "645: Märchen für Kinder\n",
      "645: Sense and Sensibility\n",
      "645: Fairy Tales of Hans Christian Andersen\n",
      "644: Illustrated History of Furniture: From the Earliest to the Present Time\n",
      "644: End as a Hero\n",
      "644: Hafiz in London\n",
      "643: The Gods of Mars\n",
      "642: The Pencil of Nature\n",
      "642: My Own Story\n",
      "641: Salomé: A Tragedy in One Act\n",
      "641: An Advanced English Grammar with Exercises\n",
      "637: What is Posat?\n",
      "636: His Last Bow: An Epilogue of Sherlock Holmes\n",
      "634: Mysticism and Logic and Other Essays\n",
      "632: The Memoirs of the Conquistador Bernal Diaz del Castillo, Vol 1 (of 2): Written by Himself Containing a True and Full Account of the Discovery and Conquest of Mexico and New Spain.\n",
      "632: The Dunwich Horror\n",
      "630: Anabasis\n",
      "629: The Younger Edda; Also called Snorre's Edda, or The Prose Edda\n",
      "629: The Arabian Nights: Their Best-known Tales\n",
      "628: Dr. Montessori's Own Handbook\n",
      "626: The Works of Edgar Allan Poe — Volume 4\n",
      "626: The Mysteries of Udolpho\n",
      "625: In the path of the alphabet: an historical account of the ancient beginnings and; evolution of the modern alphabet\n",
      "624: The Declaration of Independence of the United States of America\n",
      "623: A Bad Day for Vermin\n",
      "623: Anne's House of Dreams\n",
      "622: The Tribes and Castes of the Central Provinces of India, Volume 1\n",
      "621: The Romance of Tristan and Iseult\n",
      "621: In Stahlgewittern, aus dem Tagebuch eines Stoßtruppführers\n",
      "621: Lady Susan\n",
      "620: The Return of the Native\n",
      "620: Idylls of the King\n",
      "619: Beowulf\n",
      "618: Selected Sermons of Jonathan Edwards\n",
      "617: Tartuffe; Or, The Hypocrite\n",
      "615: Beyond Lies the Wub\n",
      "615: English Translations Of Works Of Emile Zola: An Index to the Project Gutenberg Works of Zola in English\n",
      "613: A Text-Book of the History of Painting\n",
      "613: Tales of the Jazz Age\n",
      "613: Lady Audley's Secret\n",
      "612: Far from the Madding Crowd\n",
      "610: How to Live on 24 Hours a Day\n",
      "609: The Tragedy of King Lear\n",
      "609: Myths of Babylonia and Assyria\n",
      "607: Dead Souls\n",
      "606: The Mahabharata of Krishna-Dwaipayana Vyasa, Volume 1: Books 1, 2 and 3\n",
      "606: Doctor Thorne\n",
      "603: Library of the World's Best Mystery and Detective Stories\n",
      "603: Mechanical Drawing Self-Taught: Comprising instructions in the selection and preparation of drawing instruments, elementary instruction in practical mechanical drawing; together with examples in simple geometry and elementary mechanism, including screw threads, gear wheels, mechanical motions, engines and boilers\n",
      "601: The Return of Sherlock Holmes\n",
      "601: Dombey and Son\n",
      "600: History of Egypt, Chaldea, Syria, Babylonia, and Assyria in the Light of Recent Discovery\n",
      "600: The Tao Teh King, or the Tao and its Characteristics\n",
      "599: Alice's Abenteuer im Wunderland\n",
      "599: The Variable Man\n",
      "599: Pen Pal\n",
      "599: Warlord of Mars\n",
      "598: Household Stories by the Brothers Grimm\n",
      "598: How to Tell a Story, and Other Essays\n",
      "598: My Strange Rescue: and other stories of Sport and Adventure in Canada\n",
      "597: English Synonyms and Antonyms: With Notes on the Correct Use of Prepositions\n",
      "597: The Big Trip Up Yonder\n",
      "597: The Ways of the Planets\n",
      "597: Gutenberg, and the Art of Printing\n",
      "596: The Life and Amours of the Beautiful, Gay and Dashing Kate Percival: The Belle of the Delaware\n",
      "594: Meno\n",
      "594: Das Unheimliche\n",
      "593: The Art of Public Speaking\n",
      "593: Laughter: An Essay on the Meaning of the Comic\n",
      "592: The History of Rome, Books 01 to 08\n",
      "591: Looking Backward, 2000 to 1887\n",
      "589: The Art Of Writing & Speaking The English Language: Word-Study and Composition & Rhetoric\n",
      "589: Heidi: (Gift Edition)\n",
      "589: New Atlantis\n",
      "589: The Fortunes and Misfortunes of the Famous Moll Flanders\n",
      "588: Apology, Crito, and Phaedo of Socrates\n",
      "586: The School for Scandal\n",
      "586: The Letters of Wolfgang Amadeus Mozart — Volume 01\n",
      "586: The Art of Money Getting; Or, Golden Rules for Making Money\n",
      "585: An Essay Concerning Humane Understanding, Volume 1: MDCXC, Based on the 2nd Edition, Books 1 and 2\n",
      "584: Four Arthurian Romances\n",
      "583: The Mentor: The Incas, vol. 6, num. 3, Serial No. 151, March 15, 1918\n",
      "581: Twice Told Tales\n",
      "579: Sex-linked Inheritance in Drosophila\n",
      "578: Slave Narratives: A Folk History of Slavery in the United States From Interviews with Former Slaves: Volume I, Alabama Narratives\n",
      "575: How We Think\n",
      "574: The Arabian Nights Entertainments\n",
      "574: Nostromo: A Tale of the Seaboard\n",
      "574: The Business, As Usual\n",
      "573: McTeague: A Story of San Francisco\n",
      "571: The Taming of the Shrew\n",
      "571: Sons and Lovers\n",
      "570: A Brief Account of the Destruction of the Indies: Or, a faithful NARRATIVE OF THE Horrid and Unexampled Massacres, Butcheries, and all manner of Cruelties, that Hell and Malice could invent, committed by the Popish Spanish Party on the inhabitants of West-India, TOGETHER With the Devastations of several Kingdoms in America by Fire and Sword, for the space of Forty and Two Years, from the time of its first Discovery by them.\n",
      "570: The Seven Lamps of Architecture\n",
      "569: The History of Don Quixote, Volume 2, Complete\n",
      "568: Les misérables Tome I: Fantine\n",
      "568: Jesus the Christ: A Study of the Messiah and His Mission According to Holy; Scriptures Both Ancient and Modern\n",
      "568: Considerations on Representative Government\n",
      "567: Following the Equator: A Journey Around the World\n",
      "566: The Sea-Wolf\n",
      "565: Babbitt\n",
      "565: The Last Man\n",
      "563: The Wind in the Willows\n",
      "562: The Hand Phrenologically Considered: Being a Glimpse at the Relation of the Mind with the Organisation of the Body\n",
      "560: Human, All-Too-Human: A Book For Free Spirits; Part II\n",
      "560: Frankenstein; Or, The Modern Prometheus\n",
      "559: The Oxford Book of American Essays\n",
      "559: Memoirs of General William T. Sherman — Complete\n",
      "558: The Merry Adventures of Robin Hood\n",
      "558: Dr. Elsie Inglis\n",
      "557: The Tenniel Illustrations for Carroll's Alice in Wonderland\n",
      "557: Principles Of Political Economy: Abridged with Critical, Bibliographical, and Explanatory Notes, and a Sketch of the History of Political Economy\n",
      "557: The Mysteries of London, v. 2/4\n",
      "556: All Things Considered\n",
      "556: The Iliads of Homer: Translated according to the Greek\n",
      "555: Le roman de la rose - Tome I\n",
      "555: The Merchant of Venice\n",
      "555: All About Coffee\n",
      "553: Là-bas\n",
      "553: A Husband for My Wife\n",
      "551: The Way of the World\n",
      "551: English Coins and Tokens: With A Chapter on Greek and Roman Coins\n",
      "550: The Forsyte Saga - Complete\n",
      "550: The Sleeping Beauty and other fairy tales\n",
      "548: The Willows\n",
      "548: In Bad Company and other stories\n",
      "547: The Birth of Tragedy: or Hellenism and Pessimism\n",
      "547: The Jew of Malta\n",
      "546: The House on the Borderland\n",
      "546: Major Barbara\n",
      "546: The Song of Roland\n",
      "545: Life Is a Dream\n",
      "544: The Game of Logic\n",
      "544: The Marvelous Land of Oz\n",
      "543: The Wisdom of Father Brown\n",
      "543: Cawnpore\n",
      "541: Astounding Stories of Super-Science January 1930\n",
      "541: Nice Girl With 5 Husbands\n",
      "539: A First Spanish Reader\n",
      "539: The Essays of \"George Eliot\": Complete\n",
      "539: De Nederlandsche Geslachtsnamen in Oorsprong, Geschiedenis en Beteekenis\n",
      "539: American Fairy Tales\n",
      "539: The Social Contract & Discourses\n",
      "538: Home Geography for Primary Grades\n",
      "537: Bahnwärter Thiel\n",
      "536: Phaedrus\n",
      "535: Ibrahim Pasha: Grand Vizir of Suleiman the Magnificent\n",
      "534: Pollyanna\n",
      "534: The Letters of Cicero, Volume 1: The Whole Extant Correspodence in Chronological Order\n",
      "534: The Good Soldier\n",
      "534: The Practice of the Presence of God\n",
      "534: The Old Curiosity Shop\n",
      "533: Man and Superman: A Comedy and a Philosophy\n",
      "533: Moral Equivalent\n",
      "532: Ibong Adarna: Corrido at Buhay na Pinagdaanan nang tatlong Principeng Magcacapatid na Anac nang Haring Fernando at nang Reina Valeriana sa Cahariang Berbania\n",
      "531: Madame Bovary\n",
      "531: The Anabasis of Alexander: or, The History of the Wars and Conquests of Alexander the Great\n",
      "531: The Princess and the Goblin\n",
      "529: The Odyssey\n",
      "529: That Which Hath Wings\n",
      "528: Spoon River Anthology\n",
      "528: Stories from Tagore\n",
      "528: The Divine Comedy by Dante, Illustrated, Purgatory, Complete\n",
      "527: Cicero: Letters to Atticus, Volume III (of 3)\n",
      "525: McGuffey's First Eclectic Reader, Revised Edition\n",
      "525: Hawaiian Folk Tales: A Collection of Native Legends\n",
      "525: The Second Jungle Book\n",
      "524: The Hound of the Baskervilles\n",
      "524: Plutarch: Lives of the noble Grecians and Romans\n",
      "523: The Story of the Three Little Pigs\n",
      "522: The Crowd: A Study of the Popular Mind\n",
      "522: The Cool War\n",
      "521: The Iliad of Homer: Translated into English Blank Verse by William Cowper\n",
      "520: The Imitation of Christ\n",
      "519: Fifty Famous Stories Retold\n",
      "519: \"Everyman,\" with other interludes, including eight miracle plays\n",
      "519: The Fight Against Lynching: Anti-Lynching Work of the National Association for the Advancement of Colored People for the Year Nineteen Eighteen\n",
      "518: The Boy Mechanic: Volume 1: 700 Things for Boys to Do\n",
      "518: The Lock and Key Library: Classic Mystery and Detective Stories: Modern English\n",
      "518: Motor Matt's Reverse: or, Caught in a Losing Cause\n",
      "517: White Nights and Other Stories: The Novels of Fyodor Dostoevsky, Volume X\n",
      "517: The Satyricon — Volume 02: Dinner of Trimalchio\n",
      "515: Hunt the Hunter\n",
      "514: The Complete Project Gutenberg Works of Jane Austen: A Linked Index of all PG Editions of Jane Austen\n",
      "513: Poems\n",
      "513: Advance Agent\n",
      "512: The Life of Reason: The Phases of Human Progress\n",
      "511: Twenty Thousand Leagues Under the Seas: An Underwater Tour of the World\n",
      "510: Tamburlaine the Great — Part 1\n",
      "510: Symbolic Logic\n",
      "510: The Master Builder\n",
      "509: Poem Outlines\n",
      "508: The Expression of the Emotions in Man and Animals\n",
      "508: A Doll's House\n",
      "507: Sartor Resartus: The Life and Opinions of Herr Teufelsdröckh\n",
      "506: An Old Babylonian Version of the Gilgamesh Epic\n",
      "505: Autobiography of Andrew Carnegie\n",
      "503: The Beggar's Opera; to Which is Prefixed the Musick to Each Song\n",
      "503: The Elements of Drawing, in Three Letters to Beginners\n",
      "502: The Virginian: A Horseman of the Plains\n",
      "502: The Germany and the Agricola of Tacitus\n",
      "501: Common Sense\n",
      "500: Letters to His Son, Complete: On the Fine Art of Becoming a Man of the World and a Gentleman\n",
      "500: Chain Reaction\n",
      "499: The Border and the Buffalo: An Untold Story of the Southwest Plains\n",
      "499: The Beautiful and Damned\n",
      "497: The Picture of Dorian Gray\n",
      "497: Franklin's Way to Wealth: or, 'Poor Richard Improved'\n",
      "497: The Gift of the Magi\n",
      "496: 1001 zadacha dlia umstvennogo scheta\n",
      "493: The Golden Gems of Life: Gathered Jewels for the Home Circle\n",
      "491: Sordman the Protector\n",
      "490: Of Human Bondage\n",
      "489: French Mediaeval Romances from the Lays of Marie de France\n",
      "489: Against the Grain\n",
      "489: Browning's Shorter Poems\n",
      "489: Mr. Spaceship\n",
      "488: Ambition\n",
      "487: Captain Blood\n",
      "487: Jane's All the World's Aircraft. 1913\n",
      "487: \"1812\" Napoleon I in Russia\n",
      "487: The Voyage of the Beagle\n",
      "486: Howards End\n",
      "486: Modern Essays\n",
      "486: The Essays or Counsels, Civil and Moral\n",
      "485: The Sketch-Book of Geoffrey Crayon\n",
      "484: What's Wrong with the World\n",
      "484: Fox's Book of Martyrs: Or A History of the Lives, Sufferings, and Triumphant; Deaths of the Primitive Protestant Martyrs\n",
      "484: Hamlet, Prince of Denmark\n",
      "483: The Night Land\n",
      "483: Three Ghost Stories\n",
      "483: The Skull\n",
      "483: The Story of Elizabeth Canning Considered\n",
      "482: The Voyage Out\n",
      "482: The Golden Asse\n",
      "482: Letters of Abelard and Heloise: To which is prefix'd a particular account of their lives, amours, and misfortunes\n",
      "482: The Montessori Method: Scientific Pedagogy as Applied to Child Education in 'The Children's Houses' with Additions and Revisions by the Author\n",
      "482: The German Classics from the Fourth to the Nineteenth Century, Vol. 1 (of 2)\n",
      "481: Night and Day\n",
      "481: The Scarlet Letter\n",
      "480: The Mystery of the Yellow Room\n",
      "478: \"De Bello Gallico\" and Other Commentaries\n",
      "478: Myths & Legends of the Celtic Race\n",
      "478: The 2010 CIA World Factbook\n",
      "478: The Inspector-General\n",
      "478: Toadstools, mushrooms, fungi, edible and poisonous; one thousand American fungi\n",
      "477: The Garden Party, and Other Stories\n",
      "477: Micromegas\n",
      "476: Platero y yo\n",
      "475: The Analects of Confucius (from the Chinese Classics)\n",
      "475: English Fairy Tales\n",
      "474: The Ambassadors\n",
      "473: A Pail of Air\n",
      "473: Hung Lou Meng, or, the Dream of the Red Chamber, a Chinese Novel, Book I\n",
      "472: The Red House Mystery\n",
      "472: The Mystery of Edwin Drood\n",
      "471: Theresa Raquin\n",
      "471: The Prisoner of Zenda\n",
      "470: Orthodoxy\n",
      "469: The Swiss Family Robinson; or Adventures in a Desert Island\n",
      "469: New Latin Grammar\n",
      "469: Gulliver's Travels into Several Remote Regions of the World\n",
      "468: A History of Indian Philosophy, Volume 1\n",
      "468: Little Men\n",
      "468: Clarissa Harlowe; or the history of a young lady — Volume 1\n",
      "467: The Chemistry of Food and Nutrition\n",
      "467: Flappers and Philosophers\n",
      "467: La chanson des vieux époux\n",
      "466: Euthyphro\n",
      "466: Hesiod, the Homeric Hymns, and Homerica\n",
      "466: The Furious Rose\n",
      "465: The Writings of Thomas Paine — Volume 2 (1779-1792): The Rights of Man\n",
      "465: Nursing as Caring: A Model for Transforming Practice\n",
      "463: The Secret Sharer\n",
      "463: The Common Law\n",
      "463: The Luck of Roaring Camp and Other Tales: With Condensed Novels, Spanish and American Legends, and Earlier Papers\n",
      "462: The Soul of Man under Socialism\n",
      "462: The French Revolution: A History\n",
      "461: O Pioneers!\n",
      "461: The Lady of the Lake\n",
      "461: The Story of Mankind\n",
      "460: A Boy's Will\n",
      "460: Les Fleurs du Mal\n",
      "459: Studies in the Psychology of Sex, Volume 1: The Evolution of Modesty; The Phenomena of Sexual Periodicity; Auto-Erotism\n",
      "458: The Art of War\n",
      "458: Sketches New and Old\n",
      "458: Hegel's Philosophy of Mind\n",
      "458: The Madman: His Parables and Poems\n",
      "457: Nicolo Paganini: His Life and Work\n",
      "457: The Imaginary Invalid\n",
      "455: Rilla of Ingleside\n",
      "454: The Tale of Benjamin Bunny\n",
      "454: Line and Form (1900)\n",
      "454: American Notes\n",
      "453: Laws\n",
      "453: Demian: Die Geschichte von Emil Sinclairs Jugend\n",
      "452: The Autobiography of an Ex-Colored Man\n",
      "451: The Complete Poetical Works of Edgar Allan Poe: Including Essays on Poetry\n",
      "451: The Diary of a Nobody\n",
      "451: Bradford's History of 'Plimoth Plantation': From the Original Manuscript. With a Report of the Proceedings Incident to the Return of the Manuscript to Massachusetts\n",
      "450: The Real Mother Goose\n",
      "450: Uncle Remus and Brer Rabbit\n",
      "450: The Rubaiyat of Omar Khayyam\n",
      "450: A Dictionary of Cebuano Visayan\n",
      "450: Lords and Lovers: and Other Dramas\n",
      "449: The Slang Dictionary: Etymological, Historical and Andecdotal\n",
      "449: Tales of Terror and Mystery\n",
      "448: Martin Eden\n",
      "448: The Tragical History of Doctor Faustus: From the Quarto of 1616\n",
      "447: The Arabian Nights Entertainments\n",
      "445: Four Weird Tales\n",
      "443: Daemonologie.\n",
      "443: A Beginner's Psychology\n",
      "442: The History of Mary Prince, a West Indian Slave\n",
      "442: Mary Barton\n",
      "441: The Little White Bird; Or, Adventures in Kensington Gardens\n",
      "441: Capture and Escape: A Narrative of Army and Prison Life\n",
      "441: The Critique of Practical Reason\n",
      "440: The Poetical Works of John Milton\n",
      "440: The Complete Poems of Paul Laurence Dunbar\n",
      "440: The Flowers of Evil\n",
      "439: Woodcraft and Camping\n",
      "439: Woyzeck\n",
      "438: Hamewith\n",
      "437: Die Leiden des jungen Werther — Band 1\n",
      "437: Narrative and Critical History of America, Vol. IV (of 8): French Explorations and Settlements in North America and Those of the Portuguese, Dutch, and Swedes 1500-1700\n",
      "436: The Zen Experience\n",
      "436: An Elephant for the Prinkip\n",
      "435: Pennsylvania Dutch Cooking\n",
      "435: The Hanging Stranger\n",
      "435: The Coral Island: A Tale of the Pacific Ocean\n",
      "434: The Wonderful Wizard of Oz\n",
      "432: The World Set Free\n",
      "432: The Religion of the Ancient Celts\n",
      "432: Short Stories\n",
      "432: Wives and Daughters\n",
      "432: A Defence of Poetry and Other Essays\n",
      "431: Hunger\n",
      "430: The Return of Tarzan\n",
      "429: Prufrock and Other Observations\n",
      "429: Heretics\n",
      "427: The Great English Short-Story Writers, Volume 1\n",
      "427: Thought-Forms\n",
      "427: The Divine Comedy of Dante Alighieri: The Inferno\n",
      "426: The Elder Eddas of Saemund Sigfusson; and the Younger Eddas of Snorre Sturleson\n",
      "425: The Crystal Crypt\n",
      "425: Public Opinion\n",
      "425: The Gardener\n",
      "425: The Kreutzer Sonata and Other Stories\n",
      "424: The Jolly Corner\n",
      "424: Mission Furniture: How to Make It, Part 3\n",
      "424: The Yoga Sutras of Patanjali: The Book of the Spiritual Man\n",
      "423: The Door in the Wall, and Other Stories\n",
      "422: Plutarch's Lives, Volume I\n",
      "422: Le comte de Monte-Cristo, Tome I\n",
      "422: The Book of Tea\n",
      "421: Rasselas, Prince of Abyssinia\n",
      "421: The Argonautica\n",
      "417: La Divina Commedia di Dante\n",
      "417: The Works of Aphra Behn: Volume V\n",
      "416: King Richard III\n",
      "416: The Adventure of the Cardboard Box\n",
      "414: Foods That Will Win The War And How To Cook Them (1918)\n",
      "414: The Entire Project Gutenberg Works of Mark Twain\n",
      "414: Woodcraft Boys at Sunset Island\n",
      "413: The Moon and Sixpence\n",
      "411: Moby Word Lists\n",
      "411: Riders to the Sea\n",
      "410: Ancient and Modern Ships, Part 1: Wooden Sailing Ships\n",
      "409: The New Life (La Vita Nuova)\n",
      "407: As You Like It\n",
      "406: Viking Tales\n",
      "404: Aeneidos\n",
      "402: L'autre monde ou Histoire comique des Etats et Empires de la Lune\n",
      "401: Theodicy: Essays on the Goodness of God, the Freedom of Man and the Origin of Evil\n",
      "401: The St. Gregory Hymnal and Catholic Choir Book\n",
      "400: Beeton's Book of Needlework\n",
      "400: Ghost Stories of an Antiquary\n",
      "400: Martin Chuzzlewit\n",
      "398: Boy of My Heart\n",
      "397: The Scarecrow of Oz\n",
      "394: Henry D. Thoreau\n",
      "393: The Ballad of Reading Gaol\n",
      "390: The Analysis of Beauty: Written with a view of fixing the fluctuating ideas of taste\n",
      "388: The Professor\n",
      "379: Russian Fairy Tales: A Choice Collection of Muscovite Folk-lore\n",
      "377: Beethoven, the Man and the Artist, as Revealed in His Own Words\n",
      "375: Triplanetary\n",
      "364: Ben-Hur; a tale of the Christ\n",
      "364: Claudian, volume 1 (of 2): With an English translation by Maurice Platnauer\n",
      "287: The Love of Monsieur\n",
      "201: Self-Control Its Kingship and Majesty\n",
      "104: Beach Scene\n",
      "97: Dumbwaiter\n",
      "92: Kreativity For Kats\n",
      "88: East In The Morning\n",
      "72: The Donkey, the Elephant, and the Goat: At a Public Meeting\n",
      "66: A Garden Diary: September 1899—September 1900\n",
      "3: Flying Machines Today\n",
      "0: Perfect Answer\n",
      "0: The Reluctant Heroes\n",
      "0: Film Truth; September, 1920\n",
      "0: Othmar\n",
      "0: Church History (Volumes 1-3)\n",
      "0: The Uncensored Letters of a Canteen Girl\n"
     ]
    }
   ],
   "source": [
    "for i in book:\n",
    "    print(str(i['metadata']['downloads']) + ': ' + i['bibliography']['title'])"
   ]
  },
  {
   "cell_type": "markdown",
   "id": "a3628105-3aa2-4159-bd97-92095fea77b0",
   "metadata": {},
   "source": [
    "We don't know what `book` is yet, so let's find out"
   ]
  },
  {
   "cell_type": "code",
   "execution_count": 60,
   "id": "1b8f56ed-ea64-4a98-ae6c-30d1cb1c2518",
   "metadata": {},
   "outputs": [
    {
     "data": {
      "text/plain": [
       "list"
      ]
     },
     "execution_count": 60,
     "metadata": {},
     "output_type": "execute_result"
    }
   ],
   "source": [
    "type(book)"
   ]
  },
  {
   "cell_type": "markdown",
   "id": "391a2ed4-95f1-467c-8a86-1b8a463e6fd0",
   "metadata": {},
   "source": [
    "And let's get some more info"
   ]
  },
  {
   "cell_type": "code",
   "execution_count": 61,
   "id": "cf638641-79c2-46cb-9895-c4dcacba78cc",
   "metadata": {},
   "outputs": [
    {
     "data": {
      "text/plain": [
       "1006"
      ]
     },
     "execution_count": 61,
     "metadata": {},
     "output_type": "execute_result"
    }
   ],
   "source": [
    "len(book)"
   ]
  },
  {
   "cell_type": "code",
   "execution_count": 62,
   "id": "fabad856-b9b3-4f77-b9a6-8fc0ed71c67e",
   "metadata": {},
   "outputs": [
    {
     "data": {
      "text/plain": [
       "{'bibliography': {'congress classifications': 'PR',\n",
       "  'languages': 'en',\n",
       "  'subjects': 'Sisters -- Fiction,Courtship -- Fiction,Social classes -- Fiction,England -- Fiction,Domestic fiction,Young women -- Fiction,Love stories',\n",
       "  'title': 'Pride and Prejudice',\n",
       "  'type': 'Text',\n",
       "  'author': {'birth': 1775, 'death': 1817, 'name': 'Austen, Jane'},\n",
       "  'publication': {'day': 1,\n",
       "   'full': 'June, 1998',\n",
       "   'month': 6,\n",
       "   'month name': 'June',\n",
       "   'year': 1998}},\n",
       " 'metadata': {'downloads': 36576,\n",
       "  'id': 1342,\n",
       "  'rank': 1,\n",
       "  'url': 'https://www.gutenberg.org/ebooks/1342',\n",
       "  'formats': {'total': 8,\n",
       "   'types': 'text/plain,text/plain; charset=us-ascii,application/pdf,application/x-mobipocket-ebook,application/zip,application/rdf+xml,application/epub+zip,text/html; charset=us-ascii'}},\n",
       " 'metrics': {'difficulty': {'automated readability index': 10.7,\n",
       "   'coleman liau index': 10.73,\n",
       "   'dale chall readability score': 5.7,\n",
       "   'difficult words': 9032,\n",
       "   'flesch kincaid grade': 7.9,\n",
       "   'flesch reading ease': 70.13,\n",
       "   'gunning fog': 9.200000000000001,\n",
       "   'linsear write formula': 13.5,\n",
       "   'smog index': 3.1},\n",
       "  'sentiments': {'polarity': 0.13671337760500446,\n",
       "   'subjectivity': 0.5222391494704692},\n",
       "  'statistics': {'average letter per word': 4.83,\n",
       "   'average sentence length': 18.0,\n",
       "   'average sentence per word': 0.05,\n",
       "   'characters': 586794,\n",
       "   'polysyllables': 4603,\n",
       "   'sentences': 6511,\n",
       "   'syllables': 170648.1,\n",
       "   'words': 121533}}}"
      ]
     },
     "execution_count": 62,
     "metadata": {},
     "output_type": "execute_result"
    }
   ],
   "source": [
    "book[0]"
   ]
  },
  {
   "cell_type": "markdown",
   "id": "dca45cc7-e8b3-4469-bc38-9051a89f68c5",
   "metadata": {},
   "source": [
    "That's kinda hard to chew off, so let's pretty print it"
   ]
  },
  {
   "cell_type": "code",
   "execution_count": 72,
   "id": "7dcf47b1-0c6c-4101-934c-b1368c8d27f0",
   "metadata": {},
   "outputs": [],
   "source": [
    "from pprint import pprint as prettyprint"
   ]
  },
  {
   "cell_type": "code",
   "execution_count": 73,
   "id": "ab1de810-3f5c-4f45-b974-a6404a3fe534",
   "metadata": {},
   "outputs": [
    {
     "name": "stdout",
     "output_type": "stream",
     "text": [
      "{'bibliography': {'author': {'birth': 1775,\n",
      "                             'death': 1817,\n",
      "                             'name': 'Austen, Jane'},\n",
      "                  'congress classifications': 'PR',\n",
      "                  'languages': 'en',\n",
      "                  'publication': {'day': 1,\n",
      "                                  'full': 'June, 1998',\n",
      "                                  'month': 6,\n",
      "                                  'month name': 'June',\n",
      "                                  'year': 1998},\n",
      "                  'subjects': 'Sisters -- Fiction,Courtship -- Fiction,Social '\n",
      "                              'classes -- Fiction,England -- Fiction,Domestic '\n",
      "                              'fiction,Young women -- Fiction,Love stories',\n",
      "                  'title': 'Pride and Prejudice',\n",
      "                  'type': 'Text'},\n",
      " 'metadata': {'downloads': 36576,\n",
      "              'formats': {'total': 8,\n",
      "                          'types': 'text/plain,text/plain; '\n",
      "                                   'charset=us-ascii,application/pdf,application/x-mobipocket-ebook,application/zip,application/rdf+xml,application/epub+zip,text/html; '\n",
      "                                   'charset=us-ascii'},\n",
      "              'id': 1342,\n",
      "              'rank': 1,\n",
      "              'url': 'https://www.gutenberg.org/ebooks/1342'},\n",
      " 'metrics': {'difficulty': {'automated readability index': 10.7,\n",
      "                            'coleman liau index': 10.73,\n",
      "                            'dale chall readability score': 5.7,\n",
      "                            'difficult words': 9032,\n",
      "                            'flesch kincaid grade': 7.9,\n",
      "                            'flesch reading ease': 70.13,\n",
      "                            'gunning fog': 9.200000000000001,\n",
      "                            'linsear write formula': 13.5,\n",
      "                            'smog index': 3.1},\n",
      "             'sentiments': {'polarity': 0.13671337760500446,\n",
      "                            'subjectivity': 0.5222391494704692},\n",
      "             'statistics': {'average letter per word': 4.83,\n",
      "                            'average sentence length': 18.0,\n",
      "                            'average sentence per word': 0.05,\n",
      "                            'characters': 586794,\n",
      "                            'polysyllables': 4603,\n",
      "                            'sentences': 6511,\n",
      "                            'syllables': 170648.1,\n",
      "                            'words': 121533}}}\n"
     ]
    }
   ],
   "source": [
    "prettyprint(book[0])"
   ]
  },
  {
   "cell_type": "code",
   "execution_count": 77,
   "id": "0a79561c-491d-47c7-b785-4d7bd738fae2",
   "metadata": {},
   "outputs": [],
   "source": [
    "downloads = []\n",
    "for i in range(len(book)):\n",
    "    # data to plot\n",
    "    data_to_plot = book[i]['metadata']['downloads']\n",
    "    downloads.append(data_to_plot)"
   ]
  },
  {
   "cell_type": "code",
   "execution_count": 78,
   "id": "0b009b9b-5562-45ec-86af-0c23adecd879",
   "metadata": {},
   "outputs": [
    {
     "ename": "AttributeError",
     "evalue": "module 'pandas' has no attribute 'hist'",
     "output_type": "error",
     "traceback": [
      "\u001b[0;31m---------------------------------------------------------------------------\u001b[0m",
      "\u001b[0;31mAttributeError\u001b[0m                            Traceback (most recent call last)",
      "\u001b[0;32m/tmp/ipykernel_189/1085639970.py\u001b[0m in \u001b[0;36m<module>\u001b[0;34m\u001b[0m\n\u001b[0;32m----> 1\u001b[0;31m \u001b[0mpd\u001b[0m\u001b[0;34m.\u001b[0m\u001b[0mhist\u001b[0m\u001b[0;34m(\u001b[0m\u001b[0mdownloads\u001b[0m\u001b[0;34m)\u001b[0m\u001b[0;34m\u001b[0m\u001b[0;34m\u001b[0m\u001b[0m\n\u001b[0m",
      "\u001b[0;32m/opt/conda/lib/python3.9/site-packages/pandas/__init__.py\u001b[0m in \u001b[0;36m__getattr__\u001b[0;34m(name)\u001b[0m\n\u001b[1;32m    242\u001b[0m         \u001b[0;32mreturn\u001b[0m \u001b[0m_SparseArray\u001b[0m\u001b[0;34m\u001b[0m\u001b[0;34m\u001b[0m\u001b[0m\n\u001b[1;32m    243\u001b[0m \u001b[0;34m\u001b[0m\u001b[0m\n\u001b[0;32m--> 244\u001b[0;31m     \u001b[0;32mraise\u001b[0m \u001b[0mAttributeError\u001b[0m\u001b[0;34m(\u001b[0m\u001b[0;34mf\"module 'pandas' has no attribute '{name}'\"\u001b[0m\u001b[0;34m)\u001b[0m\u001b[0;34m\u001b[0m\u001b[0;34m\u001b[0m\u001b[0m\n\u001b[0m\u001b[1;32m    245\u001b[0m \u001b[0;34m\u001b[0m\u001b[0m\n\u001b[1;32m    246\u001b[0m \u001b[0;34m\u001b[0m\u001b[0m\n",
      "\u001b[0;31mAttributeError\u001b[0m: module 'pandas' has no attribute 'hist'"
     ]
    }
   ],
   "source": [
    "pd.hist(downloads)"
   ]
  },
  {
   "cell_type": "code",
   "execution_count": 1,
   "id": "2666caca-aed5-4cab-8b32-e630ea84705b",
   "metadata": {},
   "outputs": [
    {
     "data": {
      "text/plain": [
       "3"
      ]
     },
     "execution_count": 1,
     "metadata": {},
     "output_type": "execute_result"
    }
   ],
   "source": [
    "sum([1,2])\n"
   ]
  },
  {
   "cell_type": "code",
   "execution_count": 2,
   "id": "352f04b4-7f8e-4a1c-9517-3cbdb07b5e88",
   "metadata": {},
   "outputs": [
    {
     "name": "stdout",
     "output_type": "stream",
     "text": [
      "Help on built-in function sum in module builtins:\n",
      "\n",
      "sum(iterable, /, start=0)\n",
      "    Return the sum of a 'start' value (default: 0) plus an iterable of numbers\n",
      "    \n",
      "    When the iterable is empty, return the start value.\n",
      "    This function is intended specifically for use with numeric values and may\n",
      "    reject non-numeric types.\n",
      "\n"
     ]
    }
   ],
   "source": [
    "help(sum)"
   ]
  },
  {
   "cell_type": "code",
   "execution_count": 3,
   "id": "5f9acefb-773a-4660-8c5d-2b77ccfbc88a",
   "metadata": {},
   "outputs": [
    {
     "data": {
      "text/plain": [
       "10"
      ]
     },
     "execution_count": 3,
     "metadata": {},
     "output_type": "execute_result"
    }
   ],
   "source": [
    "sum([1,2], 7)"
   ]
  },
  {
   "cell_type": "code",
   "execution_count": 4,
   "id": "7a40b462-c071-421e-be6c-96530666e903",
   "metadata": {},
   "outputs": [
    {
     "ename": "TypeError",
     "evalue": "sum() takes at most 2 arguments (3 given)",
     "output_type": "error",
     "traceback": [
      "\u001b[0;31m---------------------------------------------------------------------------\u001b[0m",
      "\u001b[0;31mTypeError\u001b[0m                                 Traceback (most recent call last)",
      "\u001b[0;32m/tmp/ipykernel_268/3935441321.py\u001b[0m in \u001b[0;36m<module>\u001b[0;34m\u001b[0m\n\u001b[0;32m----> 1\u001b[0;31m \u001b[0msum\u001b[0m\u001b[0;34m(\u001b[0m\u001b[0;36m1\u001b[0m\u001b[0;34m,\u001b[0m\u001b[0;36m2\u001b[0m\u001b[0;34m,\u001b[0m\u001b[0;36m3\u001b[0m\u001b[0;34m)\u001b[0m\u001b[0;34m\u001b[0m\u001b[0;34m\u001b[0m\u001b[0m\n\u001b[0m",
      "\u001b[0;31mTypeError\u001b[0m: sum() takes at most 2 arguments (3 given)"
     ]
    }
   ],
   "source": [
    "\n",
    "sum(1,2,3)"
   ]
  },
  {
   "cell_type": "code",
   "execution_count": 17,
   "id": "3e539241-dd86-4e07-91b7-f8ed83bbfe67",
   "metadata": {},
   "outputs": [],
   "source": [
    "a=[1,2,3]\n",
    "b = a.reverse()"
   ]
  },
  {
   "cell_type": "code",
   "execution_count": 18,
   "id": "00782898-616e-4a61-8962-03715e3dfee3",
   "metadata": {},
   "outputs": [],
   "source": [
    "b"
   ]
  },
  {
   "cell_type": "code",
   "execution_count": 19,
   "id": "bbc6276f-8a5a-460a-93ce-a5a677770e99",
   "metadata": {},
   "outputs": [
    {
     "data": {
      "text/plain": [
       "[3, 2, 1]"
      ]
     },
     "execution_count": 19,
     "metadata": {},
     "output_type": "execute_result"
    }
   ],
   "source": [
    "a"
   ]
  },
  {
   "cell_type": "code",
   "execution_count": 21,
   "id": "7a83e8be-cc59-4d01-8194-a837ec1993ac",
   "metadata": {},
   "outputs": [
    {
     "data": {
      "text/plain": [
       "'HELLO'"
      ]
     },
     "execution_count": 21,
     "metadata": {},
     "output_type": "execute_result"
    }
   ],
   "source": [
    "\"hello\".upper()"
   ]
  },
  {
   "cell_type": "code",
   "execution_count": 22,
   "id": "a61d6efd-3ba0-4087-b95a-94e942949eee",
   "metadata": {},
   "outputs": [
    {
     "data": {
      "text/plain": [
       "True"
      ]
     },
     "execution_count": 22,
     "metadata": {},
     "output_type": "execute_result"
    }
   ],
   "source": [
    "bool(1)"
   ]
  },
  {
   "cell_type": "code",
   "execution_count": 24,
   "id": "c5a0d4f3-1675-42bf-a2e9-34050a0e11b0",
   "metadata": {},
   "outputs": [
    {
     "name": "stdout",
     "output_type": "stream",
     "text": [
      "All seems right.\n"
     ]
    }
   ],
   "source": [
    "if (4 > 5):\n",
    "    print('What a weird place.')\n",
    "elif (4 == 5):\n",
    "    print('Even stranger!')\n",
    "else:\n",
    "    print('All seems right.')"
   ]
  },
  {
   "cell_type": "code",
   "execution_count": 25,
   "id": "876f374e-994b-4940-aeb9-1d5d7d1f3fb9",
   "metadata": {},
   "outputs": [
    {
     "name": "stdout",
     "output_type": "stream",
     "text": [
      "1\n",
      "2\n",
      "5\n"
     ]
    }
   ],
   "source": [
    "for element in [1,2,5]:\n",
    "    print(element)"
   ]
  },
  {
   "cell_type": "code",
   "execution_count": null,
   "id": "74f0ed27-8596-4ab6-b00f-15787862ef85",
   "metadata": {},
   "outputs": [],
   "source": []
  }
 ],
 "metadata": {
  "kernelspec": {
   "display_name": "Python 3 (ipykernel)",
   "language": "python",
   "name": "python3"
  },
  "language_info": {
   "codemirror_mode": {
    "name": "ipython",
    "version": 3
   },
   "file_extension": ".py",
   "mimetype": "text/x-python",
   "name": "python",
   "nbconvert_exporter": "python",
   "pygments_lexer": "ipython3",
   "version": "3.9.6"
  }
 },
 "nbformat": 4,
 "nbformat_minor": 5
}
