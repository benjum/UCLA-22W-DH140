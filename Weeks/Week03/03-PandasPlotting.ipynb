{
 "cells": [
  {
   "cell_type": "markdown",
   "id": "df5a0a45-21b4-4404-a935-fda25ab3d651",
   "metadata": {},
   "source": [
    "# Now for the Pandas plotting!"
   ]
  },
  {
   "cell_type": "code",
   "execution_count": null,
   "id": "4a0e662a-982e-4960-8464-8b3fd71541e7",
   "metadata": {},
   "outputs": [],
   "source": [
    "import pandas as pd\n",
    "import matplotlib.pyplot as plt"
   ]
  },
  {
   "cell_type": "markdown",
   "id": "2b0559f6-2d47-494a-8502-5ae7f313289b",
   "metadata": {},
   "source": [
    "Let's start off with plotting the Anscombe's data I showed at the very beginning."
   ]
  },
  {
   "cell_type": "code",
   "execution_count": null,
   "id": "4931d636-54e7-40df-8347-c8e5343cb6ea",
   "metadata": {},
   "outputs": [],
   "source": [
    "df = pd.read_csv('anscombe.csv')"
   ]
  },
  {
   "cell_type": "code",
   "execution_count": null,
   "id": "92a9ead3-a033-48c8-98bb-20e8f76e942c",
   "metadata": {},
   "outputs": [],
   "source": [
    "df"
   ]
  },
  {
   "cell_type": "markdown",
   "id": "ecb72089-ae29-4344-8d20-7eeda6bbd685",
   "metadata": {},
   "source": [
    "We can use indexing with `loc` to look at just dataset I."
   ]
  },
  {
   "cell_type": "code",
   "execution_count": null,
   "id": "988f5d54-7d36-4eee-80bb-448fc58a1376",
   "metadata": {},
   "outputs": [],
   "source": [
    "a = df.loc[df['dataset'] == 'I']"
   ]
  },
  {
   "cell_type": "code",
   "execution_count": null,
   "id": "54669a1f-ce7e-49af-a294-e00a51e326fe",
   "metadata": {},
   "outputs": [],
   "source": [
    "a"
   ]
  },
  {
   "cell_type": "code",
   "execution_count": null,
   "id": "300aeabc-4de5-4bc6-8962-f49ea6409b37",
   "metadata": {},
   "outputs": [],
   "source": [
    "a.plot(x='x', y='y')"
   ]
  },
  {
   "cell_type": "markdown",
   "id": "c0519df4-96c1-4ed1-a78a-b7f326bb1017",
   "metadata": {},
   "source": [
    "What's with the zig-zags?\n",
    "\n",
    "The default is to do a line plot connecting the points, and since the points are plotted out of numerical order, the connecting lines zigs back and forth in the x and y direction."
   ]
  },
  {
   "cell_type": "markdown",
   "id": "5852d757-6dc0-4c55-8fee-79728b855802",
   "metadata": {},
   "source": [
    "We actually want to plot this as a scatter plot instead of a line plot."
   ]
  },
  {
   "cell_type": "code",
   "execution_count": null,
   "id": "17deb2af-bc79-4799-b7f8-247cd39efe75",
   "metadata": {},
   "outputs": [],
   "source": [
    "a.plot(kind='scatter', x='x', y='y')"
   ]
  },
  {
   "cell_type": "markdown",
   "id": "e1e2d400-fb39-4b46-9306-0d325ae54637",
   "metadata": {},
   "source": [
    "The `kind` parameter makes it very easy to make a variety of different elementary plots:\n",
    "\n",
    "* `line` : line plot\n",
    "* `bar` : vertical bar plot\n",
    "* `barh` : horizontal bar plot\n",
    "* `hist` : histogram\n",
    "* `box` : boxplot\n",
    "* `kde` : kernel density estimation plot\n",
    "* `density` : same as kde\n",
    "* `area` : area plot\n",
    "* `pie` : pie plot\n",
    "* `scatter` : scatter plot\n",
    "* `hexbin` : hexbin plot"
   ]
  },
  {
   "cell_type": "code",
   "execution_count": null,
   "id": "26a08b74-e0be-4478-b9d2-47ca57b12543",
   "metadata": {},
   "outputs": [],
   "source": [
    "a.plot(kind='bar', x='x', y='y')"
   ]
  },
  {
   "cell_type": "markdown",
   "id": "ea841a59-0993-4b26-bf7c-e8a6204a2160",
   "metadata": {},
   "source": [
    "Note that pandas does not necessarily try to order the x-axis here for us."
   ]
  },
  {
   "cell_type": "code",
   "execution_count": null,
   "id": "80da74d2-c1bf-47b7-a5db-6e889a5ec19d",
   "metadata": {},
   "outputs": [],
   "source": [
    "a"
   ]
  },
  {
   "cell_type": "code",
   "execution_count": null,
   "id": "cce9d327-f8a2-4c6c-9562-031240048a10",
   "metadata": {},
   "outputs": [],
   "source": [
    "a.sort_values(by='x')"
   ]
  },
  {
   "cell_type": "code",
   "execution_count": null,
   "id": "07217b29-a030-4bee-9bcb-013a382e2a81",
   "metadata": {},
   "outputs": [],
   "source": [
    "a.sort_values(by='x').plot()"
   ]
  },
  {
   "cell_type": "code",
   "execution_count": null,
   "id": "ae44bedc-9db6-4d55-a484-1b841833999d",
   "metadata": {},
   "outputs": [],
   "source": [
    "a.sort_values(by='x').plot(kind='bar', x='x', y='y')"
   ]
  },
  {
   "cell_type": "markdown",
   "id": "748d74a6-8f90-42a7-a12b-c8fbd86ca19e",
   "metadata": {},
   "source": [
    "And if we try to plot the whole dataframe?"
   ]
  },
  {
   "cell_type": "code",
   "execution_count": null,
   "id": "65313fab-e949-44de-9205-4836763bd09e",
   "metadata": {},
   "outputs": [],
   "source": [
    "df.plot(kind='bar', x='x', y='y')"
   ]
  },
  {
   "cell_type": "markdown",
   "id": "29451316-7d52-4e67-baa2-e9921e3cfcac",
   "metadata": {},
   "source": [
    "It can be useful to group the dataframe by common values in a certain column.\n",
    "\n",
    "Here it would be useful to generate a plot for each of the different values contained in the `dataset` column.\n",
    "\n",
    "We can do this with `groupby`."
   ]
  },
  {
   "cell_type": "code",
   "execution_count": null,
   "id": "eb79c36d-39fb-4dbe-a2d5-f0735cb72578",
   "metadata": {},
   "outputs": [],
   "source": [
    "df.groupby('dataset').plot(kind='bar', x='x', y='y')"
   ]
  },
  {
   "cell_type": "code",
   "execution_count": null,
   "id": "6d5311dd-aed1-41a7-8783-822268663113",
   "metadata": {},
   "outputs": [],
   "source": [
    "df.groupby('dataset').plot(kind='scatter', x='x', y='y')"
   ]
  },
  {
   "cell_type": "markdown",
   "id": "2ea815cf-284c-416e-b405-fec0cbb8caf5",
   "metadata": {},
   "source": [
    "`groupby` is useful as well for doing analysis broken down by subgroups within the dataframe."
   ]
  },
  {
   "cell_type": "code",
   "execution_count": null,
   "id": "4b700384-3fc5-4f59-9a3e-ab58f0e852b8",
   "metadata": {},
   "outputs": [],
   "source": [
    "df.groupby('dataset').count()"
   ]
  },
  {
   "cell_type": "markdown",
   "id": "64fe5765-5d03-4b4d-beda-22ec513c6141",
   "metadata": {},
   "source": [
    "And the grouping can be used to analyze just a single column"
   ]
  },
  {
   "cell_type": "code",
   "execution_count": null,
   "id": "60550aa3-8f69-4e02-ae29-43106e4ee028",
   "metadata": {},
   "outputs": [],
   "source": [
    "df.groupby('dataset')['x'].count()"
   ]
  },
  {
   "cell_type": "markdown",
   "id": "9fe43a77-9680-445a-bfeb-1c1cfac61f14",
   "metadata": {},
   "source": [
    "There are several aggregate functions that can provide useful summary info when used with the `groupby`"
   ]
  },
  {
   "cell_type": "code",
   "execution_count": null,
   "id": "b8168408-b3d0-4346-a059-9c6e296a224e",
   "metadata": {},
   "outputs": [],
   "source": [
    "df.groupby('dataset')[['x','y']].mean()"
   ]
  },
  {
   "cell_type": "markdown",
   "id": "202d6e5a-6e53-44e9-b441-670292f7b816",
   "metadata": {},
   "source": [
    "The aggregate functions can get applied via the `agg` method.  `agg(Mean='mean')` implies that the `mean` function will get applied to the subgroups, and the resulting column that is return will have a label of `Mean`"
   ]
  },
  {
   "cell_type": "code",
   "execution_count": null,
   "id": "279dea38-4ca7-4b88-81f3-233c7210ee94",
   "metadata": {},
   "outputs": [],
   "source": [
    "df.groupby('dataset')['x'].agg(Mean='mean')"
   ]
  },
  {
   "cell_type": "code",
   "execution_count": null,
   "id": "dd8a5621-108c-4994-85c9-8528d0de0743",
   "metadata": {},
   "outputs": [],
   "source": [
    "df.groupby('dataset').agg(MeanX=('x','mean'),MeanY=('y','mean'),\n",
    "                          StdX=('x','std'),StdY=('y','std'))"
   ]
  },
  {
   "cell_type": "markdown",
   "id": "4673b506-89da-46c1-bfc5-b065c10dc82b",
   "metadata": {},
   "source": [
    "# Dream Speech"
   ]
  },
  {
   "cell_type": "markdown",
   "id": "36f253d5-e9fe-41dd-b0d7-2c8206354be6",
   "metadata": {},
   "source": [
    "Let's return to the Dream speech and put the data into a dataframe."
   ]
  },
  {
   "cell_type": "code",
   "execution_count": null,
   "id": "7ab2ca55-f7c4-4d92-85e0-e0f4dd9f4e3e",
   "metadata": {},
   "outputs": [],
   "source": [
    "df = pd.read_csv('dreamspeechpd.csv')"
   ]
  },
  {
   "cell_type": "code",
   "execution_count": null,
   "id": "c65da20e-1b9c-47f9-ab61-c37ebcc9a1fd",
   "metadata": {},
   "outputs": [],
   "source": [
    "df"
   ]
  },
  {
   "cell_type": "markdown",
   "id": "b015cb26-d9ee-414c-9330-c4502d78a074",
   "metadata": {},
   "source": [
    "It is easy to use pandas to generate a plot"
   ]
  },
  {
   "cell_type": "code",
   "execution_count": null,
   "id": "b55484ad-f4db-4d0d-a758-ea4bb4a64d3c",
   "metadata": {},
   "outputs": [],
   "source": [
    "df.plot()"
   ]
  },
  {
   "cell_type": "markdown",
   "id": "7931fdcd-94ec-427a-893c-2dc339f1a7c2",
   "metadata": {},
   "source": [
    "And to label the x-axis by the word column... though here that's not terribly useful"
   ]
  },
  {
   "cell_type": "code",
   "execution_count": null,
   "id": "41e43c5e-8a70-413c-9dff-73d10d964ed9",
   "metadata": {},
   "outputs": [],
   "source": [
    "df.plot(x='word')"
   ]
  },
  {
   "cell_type": "code",
   "execution_count": null,
   "id": "07b58506-0ed6-46dd-bdf3-bb638519dc08",
   "metadata": {},
   "outputs": [],
   "source": [
    "df.plot(kind='bar', x='word')"
   ]
  },
  {
   "cell_type": "markdown",
   "id": "122ef0c2-dc70-4e95-b5ea-6fa219bba08e",
   "metadata": {},
   "source": [
    "That x-axis gets swamped, and really we may only be interested in the first 30 words or so.  Let's narrow down the range."
   ]
  },
  {
   "cell_type": "code",
   "execution_count": null,
   "id": "01a0a972-f664-4d71-a300-12b0d835829e",
   "metadata": {},
   "outputs": [],
   "source": [
    "df.iloc[:30].plot(kind='bar', x='word')"
   ]
  },
  {
   "cell_type": "markdown",
   "id": "50ad2e97-6307-43a6-b398-cbb48544e34a",
   "metadata": {},
   "source": [
    "We can make the horizontal bar plot to make the words easier to read."
   ]
  },
  {
   "cell_type": "code",
   "execution_count": null,
   "id": "61f97eda-1dd4-4003-abfa-60e9143ae092",
   "metadata": {},
   "outputs": [],
   "source": [
    "df.iloc[:30].plot(kind='barh', x='word')"
   ]
  },
  {
   "cell_type": "markdown",
   "id": "6e649836-2f92-4d72-9637-683289db921d",
   "metadata": {},
   "source": [
    "By the way, you can include extra spaces and return characters inside a function's list of arguments.  This can make things cleaner and easier to read."
   ]
  },
  {
   "cell_type": "code",
   "execution_count": null,
   "id": "ec89917f-d15f-4a8a-94ff-dd4a1555e075",
   "metadata": {},
   "outputs": [],
   "source": [
    "df.iloc[:30].plot(kind='barh',\n",
    "                  x='word')"
   ]
  },
  {
   "cell_type": "markdown",
   "id": "fa61c708-aab1-48a5-bb7b-d275c2c16d4b",
   "metadata": {},
   "source": [
    "We'll improve the look by increasing figure size."
   ]
  },
  {
   "cell_type": "code",
   "execution_count": null,
   "id": "545034c6-951f-48db-8006-4f28bc84c1de",
   "metadata": {},
   "outputs": [],
   "source": [
    "df.iloc[:30].plot(kind='barh',\n",
    "                  x='word',\n",
    "                  figsize=(12,5))"
   ]
  },
  {
   "cell_type": "markdown",
   "id": "89695959-3042-4fdb-b8a9-67d1dec3f5e9",
   "metadata": {},
   "source": [
    "Let's highlight the bars for the words in \"I Have a Dream\".  To do that, we generate a list of color-words that are all 'grey' with the exception of being 'blue' in the locations of the target words."
   ]
  },
  {
   "cell_type": "code",
   "execution_count": null,
   "id": "8c17b1e0-9d7c-44f4-9767-c6ce72969c61",
   "metadata": {},
   "outputs": [],
   "source": [
    "barcolors = []\n",
    "for i in df[:30].index:\n",
    "    if df.loc[i,'word'] in ['i','have','a','dream']:\n",
    "        barcolors.append('blue')\n",
    "    else:\n",
    "        barcolors.append('grey')\n",
    "print(barcolors)"
   ]
  },
  {
   "cell_type": "code",
   "execution_count": null,
   "id": "5e062f77-5798-4535-8c52-36f38215521e",
   "metadata": {},
   "outputs": [],
   "source": [
    "df.iloc[:30].plot(kind='barh',\n",
    "                  x='word',\n",
    "                  figsize=(12,5),\n",
    "                  color=barcolors)"
   ]
  },
  {
   "cell_type": "markdown",
   "id": "2e7a07ba-c6ad-4cb0-b00e-458e42698a89",
   "metadata": {},
   "source": [
    "This didn't work!\n",
    "\n",
    "1. You have to be careful and very detailed while plotting.  Data viz can be very fun work but also the source of hours of headache."
   ]
  },
  {
   "cell_type": "code",
   "execution_count": null,
   "id": "968d1465-940c-483e-a8e1-225d672d98c3",
   "metadata": {},
   "outputs": [],
   "source": [
    "df[:30].plot(kind='barh',\n",
    "             x='word',\n",
    "             y='count',   # <------ this line has to be included\n",
    "             figsize=(12,5),\n",
    "             color=barcolors)"
   ]
  },
  {
   "cell_type": "markdown",
   "id": "1cc82b73-9b6f-406e-ae4f-f38415f6f350",
   "metadata": {},
   "source": [
    "2. While Pandas makes plotting easy, you may find that you need the lower-level control of Matplotlib if you really want to get more control over the aesthetics.\n",
    "\n",
    "And... you can use both of them together!!"
   ]
  },
  {
   "cell_type": "code",
   "execution_count": null,
   "id": "65f46815-fbbb-40bf-9ecd-8c010a75cd7a",
   "metadata": {},
   "outputs": [],
   "source": [
    "ax = df.iloc[:30].plot(kind='barh',\n",
    "                       x='word',\n",
    "                       y='count',\n",
    "                       figsize=(12,5),\n",
    "                       color=barcolors)\n",
    "\n",
    "ax.legend(['Word counts of MLK speech'])"
   ]
  },
  {
   "cell_type": "markdown",
   "id": "0984e315-0f91-4f3b-a02d-207473f5ec5c",
   "metadata": {},
   "source": [
    "## Finally, tweak some fontsizes, make some axis labels, and SAVE the figure in a file"
   ]
  },
  {
   "cell_type": "code",
   "execution_count": null,
   "id": "79ac8a40-53e6-450d-a77b-a0e1679fbe39",
   "metadata": {},
   "outputs": [],
   "source": [
    "plt.rcParams['font.size'] = '12'\n",
    "\n",
    "ax = df.iloc[:30].plot(kind='barh',\n",
    "                       x='word',\n",
    "                       y='count',\n",
    "                       figsize=(12,6),\n",
    "                       color=barcolors)\n",
    "\n",
    "ax.legend(['Word counts of MLK speech'])\n",
    "ax.set_title('Word Counts of \"I Have a Dream\"')\n",
    "ax.set_xlabel('Word Counts',fontsize=14)\n",
    "ax.set_ylabel('Word',fontsize=14)\n",
    "\n",
    "ax.figure.savefig('dreamcount.png')"
   ]
  },
  {
   "cell_type": "markdown",
   "id": "fb7853ad-19ec-484f-a6b3-7ca004b95bcf",
   "metadata": {},
   "source": [
    "Look for the new 'dreamcount.png' file in your directory."
   ]
  },
  {
   "cell_type": "markdown",
   "id": "bbeb7ad7-dda5-4ff9-b813-721bf4e104ac",
   "metadata": {},
   "source": [
    "# Bonus: other libraries"
   ]
  },
  {
   "cell_type": "markdown",
   "id": "1ab15c9e-efff-4477-a794-14fe20647858",
   "metadata": {},
   "source": [
    "We will cover more data viz next week, but here is a teaser of using Seaborn, and of making a wordcloud."
   ]
  },
  {
   "cell_type": "code",
   "execution_count": null,
   "id": "e3171dcc-17df-4a20-8aa0-384bf08e2536",
   "metadata": {},
   "outputs": [],
   "source": [
    "import seaborn as sns"
   ]
  },
  {
   "cell_type": "code",
   "execution_count": null,
   "id": "d77c1688-00a2-41a5-9229-9e03eaf78128",
   "metadata": {},
   "outputs": [],
   "source": [
    "df = pd.read_csv('anscombe.csv')"
   ]
  },
  {
   "cell_type": "code",
   "execution_count": null,
   "id": "e9adc162-2d35-4502-b2d1-983ee8108ebf",
   "metadata": {},
   "outputs": [],
   "source": [
    "# Show the results of a linear regression within each dataset\n",
    "sns.lmplot(data=df, x=\"x\", y=\"y\",\n",
    "           col=\"dataset\", hue=\"dataset\");"
   ]
  },
  {
   "cell_type": "code",
   "execution_count": null,
   "id": "f19ed3b6-f7e1-4e2b-aab2-d26a40f91cc4",
   "metadata": {},
   "outputs": [],
   "source": [
    "from wordcloud import WordCloud"
   ]
  },
  {
   "cell_type": "code",
   "execution_count": null,
   "id": "0cabec2a-8212-49ef-8616-35c96ed68fa4",
   "metadata": {},
   "outputs": [],
   "source": [
    "with open('i-have-a-dream.txt','r') as f:\n",
    "    speech = f.read()"
   ]
  },
  {
   "cell_type": "code",
   "execution_count": null,
   "id": "6e316dc2-b99d-4c5c-9000-13a809079f3d",
   "metadata": {},
   "outputs": [],
   "source": [
    "wordcloud = WordCloud().generate(speech)\n",
    "\n",
    "# Display the generated image:\n",
    "plt.figure(figsize=(10,6))\n",
    "plt.imshow(wordcloud, interpolation='bilinear')"
   ]
  }
 ],
 "metadata": {
  "kernelspec": {
   "display_name": "Python 3 (ipykernel)",
   "language": "python",
   "name": "python3"
  },
  "language_info": {
   "codemirror_mode": {
    "name": "ipython",
    "version": 3
   },
   "file_extension": ".py",
   "mimetype": "text/x-python",
   "name": "python",
   "nbconvert_exporter": "python",
   "pygments_lexer": "ipython3",
   "version": "3.9.6"
  }
 },
 "nbformat": 4,
 "nbformat_minor": 5
}
