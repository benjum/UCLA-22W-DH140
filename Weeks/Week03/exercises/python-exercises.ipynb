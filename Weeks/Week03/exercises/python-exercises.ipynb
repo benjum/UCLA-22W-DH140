{
 "cells": [
  {
   "cell_type": "markdown",
   "id": "993112e7-0ad3-42e6-b0e1-2bd6c842996f",
   "metadata": {},
   "source": [
    "For any of the following, you may find it useful to use the following methods:\n",
    "\n",
    "* strings\n",
    "  * `split`\n",
    "  * `join`\n",
    "* lists\n",
    "  * `append`\n",
    "  * `insert`\n",
    "  * `reverse`"
   ]
  },
  {
   "cell_type": "markdown",
   "id": "98a3e858-23c3-432a-a046-fea74898a62b",
   "metadata": {},
   "source": [
    "# Python exercises"
   ]
  },
  {
   "cell_type": "markdown",
   "id": "7465b0a5-0602-4326-87f7-913856f35af7",
   "metadata": {},
   "source": [
    "Basic math:\n",
    "\n",
    "1. Do at least three mathematical calculations with each of `+`, `-`, `*`, `/`, and `%`."
   ]
  },
  {
   "cell_type": "code",
   "execution_count": null,
   "id": "869adc54-5f92-41ee-93c3-50b327a9fe24",
   "metadata": {},
   "outputs": [],
   "source": []
  },
  {
   "cell_type": "markdown",
   "id": "c1e52996-e894-4981-9434-d1453e92b2d8",
   "metadata": {},
   "source": [
    "* Assign a number to the variable `a`.\n",
    "* Determine whether `a` is even or odd and print out an appropriate message."
   ]
  },
  {
   "cell_type": "code",
   "execution_count": null,
   "id": "6e2118f2-c17c-40c3-844a-1214fe6b4200",
   "metadata": {},
   "outputs": [],
   "source": []
  },
  {
   "cell_type": "markdown",
   "id": "03ad5150-08a4-49f7-b09e-38eeec6132f8",
   "metadata": {},
   "source": [
    "Make a new list `a` that has the following values: [1, 1, 2, 3, 5, 8, 13, 21, 34, 55, 89]\n",
    "\n",
    "1. print the list\n",
    "2. print the 0th element \n",
    "3. print the 5th element \n",
    "4. print the last element \n",
    "5. print the length\n",
    "6. print all the elements\n",
    "7. print all the elements less than 8\n",
    "8. Use this list to make a new list that has all the elements less than 5 from this list in it and print out this new list.\n",
    "    "
   ]
  },
  {
   "cell_type": "code",
   "execution_count": null,
   "id": "70a9e20d-51b2-479e-8055-a8583f91f3d2",
   "metadata": {},
   "outputs": [],
   "source": []
  },
  {
   "cell_type": "markdown",
   "id": "30343b16-31d2-4cbf-a3b1-bdd92db0a27a",
   "metadata": {},
   "source": [
    "Make the two lists:    \n",
    "* a = [1, 1, 2, 3, 5, 8, 13, 21, 34, 55, 89]\n",
    "* b = [1, 2, 3, 4, 5, 6, 7, 8, 9, 10, 11, 12, 13]\n",
    "\n",
    "1. print out all the elements that are contained in both lists\n",
    "2. print out the elements that are contained in either list a or list b but not both\n",
    "3. generate two more lists and test your method on those"
   ]
  },
  {
   "cell_type": "code",
   "execution_count": null,
   "id": "297e60c5-b1a0-4bfb-91b9-ff86a818b965",
   "metadata": {},
   "outputs": [],
   "source": []
  },
  {
   "cell_type": "markdown",
   "id": "a0c7e636-1354-47c6-b4f6-3ae0db96266b",
   "metadata": {},
   "source": [
    "Make a list of numbers (for example, a = [5, 10, 15, 20, 25]) and use this variable to print a new list that contains only the first and last elements of list a."
   ]
  },
  {
   "cell_type": "code",
   "execution_count": null,
   "id": "2b054c9a-2cad-4731-b448-3d5c9c10e358",
   "metadata": {},
   "outputs": [],
   "source": []
  },
  {
   "cell_type": "markdown",
   "id": "285d3a1a-8ca0-4852-bb4b-db88d5a55e34",
   "metadata": {},
   "source": [
    "1. Make a dictionary that has person names as keys and their birthday dates as values.  \n",
    "1. Once you have the dictionary, write a line of code that adds a new person to the dictionary\n",
    "1. Select a person, and then use only the dictionary and the person's name to print out a message that contains their birthday date.\n",
    "2. Print out a happy birthday message to every person in the dictionary.\n",
    "1. Define a new variable that contains a person's name, and print out whether that person is in your dictionary.\n",
    "1. Define a new variable that contains a person's birthday date, and print out whether that date is one of the birthday date's in your dictionary."
   ]
  },
  {
   "cell_type": "code",
   "execution_count": null,
   "id": "c5f61173-3cbe-4738-8617-fc4b37153db1",
   "metadata": {},
   "outputs": [],
   "source": []
  },
  {
   "cell_type": "markdown",
   "id": "13b6e938-36e7-462b-b210-d617db3fde63",
   "metadata": {},
   "source": [
    "Write a function that returns the string \"Hello, World!\" and execute it.\n"
   ]
  },
  {
   "cell_type": "code",
   "execution_count": null,
   "id": "d31f431a-b334-42f1-856c-48f8324df75f",
   "metadata": {},
   "outputs": [],
   "source": []
  },
  {
   "cell_type": "markdown",
   "id": "bae73061-cab0-4fd2-8e52-abf551f9d130",
   "metadata": {},
   "source": [
    "Write a function that takes a list of numbers (for example, a = [5, 10, 15, 20, 25]) and prints a new list of only the first and last elements of the given list."
   ]
  },
  {
   "cell_type": "code",
   "execution_count": null,
   "id": "a08a76ea-da61-4ced-8b72-5e8b1e819727",
   "metadata": {},
   "outputs": [],
   "source": []
  },
  {
   "cell_type": "markdown",
   "id": "d1d4c2b6-b9a0-4fff-9c96-6aa96c227aeb",
   "metadata": {},
   "source": [
    "Write a function that takes an integer as its argument and then prints out that many Fibonnaci numbers. \n",
    "\n",
    "(Note: The Fibonnaci seqence is a sequence of numbers where the next number in the sequence is the sum of the previous two numbers in the sequence. The sequence looks like this: 1, 1, 2, 3, 5, 8, 13, ...)"
   ]
  },
  {
   "cell_type": "code",
   "execution_count": null,
   "id": "cd754a60-9f7a-4c71-ba28-52b3011b867a",
   "metadata": {},
   "outputs": [],
   "source": []
  },
  {
   "cell_type": "markdown",
   "id": "14833358-f0a7-4820-b47b-dab2a1297822",
   "metadata": {},
   "source": [
    "Write a function that determines if a string is a palindrome (spelled the same forwards and backwards).  Make sure to test it out on several examples."
   ]
  },
  {
   "cell_type": "code",
   "execution_count": null,
   "id": "8a72981c-23a1-4c9d-9ca2-bc9a4172f211",
   "metadata": {},
   "outputs": [],
   "source": []
  },
  {
   "cell_type": "markdown",
   "id": "12c46868-6aa2-41f2-9a4a-d4ca8622b951",
   "metadata": {},
   "source": [
    "Write a function that takes a list and returns a new list that contains all the elements of the first list minus all the duplicates."
   ]
  },
  {
   "cell_type": "code",
   "execution_count": null,
   "id": "64f6483e-3e76-45bd-8bcd-a93d17e5bfed",
   "metadata": {},
   "outputs": [],
   "source": []
  },
  {
   "cell_type": "markdown",
   "id": "5c9ff3b7-9ae0-4bc8-9a85-bd1f04f69467",
   "metadata": {},
   "source": [
    "Write a function that takes a sentence and prints it out with the words in backwards order.\n",
    "\n",
    "Bonus: there are several ways to do this.  Try find at least two."
   ]
  },
  {
   "cell_type": "code",
   "execution_count": null,
   "id": "7a2b0145-224c-4b29-8f45-3c8de43194d6",
   "metadata": {},
   "outputs": [],
   "source": []
  },
  {
   "cell_type": "markdown",
   "id": "f4f49787-626b-46a9-9899-9836d8f73b25",
   "metadata": {},
   "source": [
    "Make a dictionary with at least three keys, and for each key, make the values for each key a list of common length at least 3 elements long.  Make sure at least one of the value lists contains numerical data and one contains string data.\n",
    "\n",
    "Convert that dictionary into a Pandas dataframe."
   ]
  },
  {
   "cell_type": "code",
   "execution_count": null,
   "id": "72852522-f717-4111-81d6-1384f687bf4b",
   "metadata": {},
   "outputs": [],
   "source": []
  },
  {
   "cell_type": "markdown",
   "id": "7fdf1b59-19b3-4f35-be99-ad14dad94ae4",
   "metadata": {},
   "source": [
    "Use `loc` to:\n",
    "* Print out one of the middle columns.\n",
    "* Print out the third row.\n",
    "* Print out the elements that are in both the first column and the second and third rows."
   ]
  },
  {
   "cell_type": "code",
   "execution_count": null,
   "id": "0dff1397-dccc-4cd0-9ebe-3240df969714",
   "metadata": {},
   "outputs": [],
   "source": []
  },
  {
   "cell_type": "markdown",
   "id": "f2427e21-d0c1-4dd9-99ef-49bf9453d30b",
   "metadata": {},
   "source": [
    "Use `iloc` to:\n",
    "* Print out one of the middle columns.\n",
    "* Print out the third row.\n",
    "* Print out the elements that are in both the first column and the second and third rows."
   ]
  },
  {
   "cell_type": "code",
   "execution_count": null,
   "id": "51a76d59-2d40-477b-8988-074b5e224142",
   "metadata": {},
   "outputs": [],
   "source": []
  },
  {
   "cell_type": "markdown",
   "id": "3c2351a9-cb78-425c-8274-2253b497ca50",
   "metadata": {},
   "source": [
    "Make a line plot of a column that contains numerical data."
   ]
  },
  {
   "cell_type": "code",
   "execution_count": null,
   "id": "511a43f7-2992-4f42-af49-054ab2e00c0d",
   "metadata": {},
   "outputs": [],
   "source": []
  },
  {
   "cell_type": "markdown",
   "id": "48ada5c5-8a50-4e75-b3ed-17353fd4683d",
   "metadata": {},
   "source": [
    "Make a bar plot of two of the columns, one that contains strings and one that contains numbers."
   ]
  },
  {
   "cell_type": "code",
   "execution_count": null,
   "id": "b83884fe-77df-4198-b6d4-3eb7715ae2b4",
   "metadata": {},
   "outputs": [],
   "source": []
  },
  {
   "cell_type": "markdown",
   "id": "6090dcaf-b611-40e0-8f6d-60efa973e330",
   "metadata": {},
   "source": [
    "Add a new column to the dataframe that contains some duplicate entries."
   ]
  },
  {
   "cell_type": "code",
   "execution_count": null,
   "id": "829e4d95-d5e6-4dd3-b32d-fef9a9b210a0",
   "metadata": {},
   "outputs": [],
   "source": []
  },
  {
   "cell_type": "markdown",
   "id": "a04f2113-3bb8-4c33-89ce-3d27bcf1693e",
   "metadata": {},
   "source": [
    "Using groupby on this column with some duplicate entries, find the sum of numbers in a column with numerical values that are grouped according to the duplicate entries.\n",
    "\n",
    "* That is, if you have one column like [1, 2, 3, 4, 5] and one column like ['a', 'b', 'a', 'b', 'c'], you should get back a table containing rows like ['a',4], ['b',6], ['c',5]"
   ]
  },
  {
   "cell_type": "code",
   "execution_count": null,
   "id": "f5a9007b-642a-482c-b68c-2b7aece2a8f1",
   "metadata": {},
   "outputs": [],
   "source": []
  }
 ],
 "metadata": {
  "kernelspec": {
   "display_name": "Python 3 (ipykernel)",
   "language": "python",
   "name": "python3"
  },
  "language_info": {
   "codemirror_mode": {
    "name": "ipython",
    "version": 3
   },
   "file_extension": ".py",
   "mimetype": "text/x-python",
   "name": "python",
   "nbconvert_exporter": "python",
   "pygments_lexer": "ipython3",
   "version": "3.9.6"
  }
 },
 "nbformat": 4,
 "nbformat_minor": 5
}
