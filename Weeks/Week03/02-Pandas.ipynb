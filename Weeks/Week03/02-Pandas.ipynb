{
 "cells": [
  {
   "attachments": {
    "2db1e92a-ed3a-4f7b-8737-c08469c9dd22.png": {
     "image/png": "[encoded data removed]"
    }
   },
   "cell_type": "markdown",
   "id": "d9a73131-3e61-44d5-a88a-f85c8caeddc8",
   "metadata": {},
   "source": [
    "![image.png](attachment:2db1e92a-ed3a-4f7b-8737-c08469c9dd22.png)"
   ]
  },
  {
   "cell_type": "markdown",
   "id": "a8bc6935-5a17-40ad-afc5-fdf27311f9a5",
   "metadata": {},
   "source": [
    "https://pandas.pydata.org/\n",
    "\n",
    "Pandas data-manipulation capabilities are built on top of NumPy, utilizing its fast array processing, and its graphing capabilities are built on top of Matplotlib.\n",
    "\n",
    "* \"pandas is a fast, powerful, flexible and easy to use open source data analysis and manipulation tool, built on top of the Python programming language.\"\n",
    "\n",
    "* It may be one of the most widely used tools for data munging\n",
    "\n",
    "  * present data in nice formats\n",
    "  * multiple convenient methods for filtering data\n",
    "  * work with a variety of data formats (CSV, Excel, …)\n",
    "  * convenient functions for quickly plotting data\n",
    "\n",
    "* The name comes from panel data (and is also a play on python data analysis)"
   ]
  },
  {
   "cell_type": "code",
   "execution_count": null,
   "id": "65107f30-dee7-4df6-afd2-7b4a0737458d",
   "metadata": {},
   "outputs": [],
   "source": [
    "import pandas as pd"
   ]
  },
  {
   "cell_type": "markdown",
   "id": "3729e604-9009-4b0b-a55b-02d888f0c33a",
   "metadata": {},
   "source": [
    "We need to set up the Pandas basics before getting into the data viz."
   ]
  },
  {
   "cell_type": "markdown",
   "id": "b49f4bdd-0897-4a7a-a0b4-13d499549906",
   "metadata": {},
   "source": [
    "## Getting your data into Python"
   ]
  },
  {
   "cell_type": "markdown",
   "id": "cf3bc15d-db3a-444b-9563-50bf7a913b65",
   "metadata": {},
   "source": [
    "Pandas can be used to easily import a wide variety of file types. \n",
    "\n",
    "![Pandas-io](pandas-io-types.png)\n",
    "\n",
    "See [Pandas IO tools](https://pandas.pydata.org/pandas-docs/stable/user_guide/io.html)."
   ]
  },
  {
   "cell_type": "markdown",
   "id": "6ae24ac7-6034-49e9-b561-e7f123712061",
   "metadata": {},
   "source": [
    "We already saw an example of this last week:"
   ]
  },
  {
   "cell_type": "code",
   "execution_count": null,
   "id": "54e3a90a-6208-4f31-8a84-c718f63ddaee",
   "metadata": {},
   "outputs": [],
   "source": [
    "classics_df = pd.read_csv('classics.csv')"
   ]
  },
  {
   "cell_type": "markdown",
   "id": "6a6ba7d4-b84d-496b-9272-d3592df61682",
   "metadata": {},
   "source": [
    "This week we'll use a different dataset called Anscombe's quartet."
   ]
  },
  {
   "cell_type": "code",
   "execution_count": null,
   "id": "dbd7e4d6-f3f3-44d1-8fc9-c09cbf53a2e2",
   "metadata": {},
   "outputs": [],
   "source": [
    "anscombe_df = pd.read_csv('anscombe.csv')"
   ]
  },
  {
   "cell_type": "code",
   "execution_count": null,
   "id": "d91ee7c3-3298-4d9d-b29d-26e38a82fcc8",
   "metadata": {},
   "outputs": [],
   "source": [
    "anscombe_df"
   ]
  },
  {
   "cell_type": "markdown",
   "id": "5b8aff25-de9b-4730-96ad-0dc550e5a63e",
   "metadata": {},
   "source": [
    "## Making a new dataframe"
   ]
  },
  {
   "cell_type": "markdown",
   "id": "d230db14-4775-48d5-af06-ebaecec5dd0d",
   "metadata": {},
   "source": [
    "We don't just have to import data to make a new dataframe, we can use our existing data structures."
   ]
  },
  {
   "cell_type": "markdown",
   "id": "14aa625d-b909-4aed-9d67-6eaf1835a761",
   "metadata": {},
   "source": [
    "Let's do this for the MLK data"
   ]
  },
  {
   "cell_type": "code",
   "execution_count": null,
   "id": "2c52e383-8a8a-477c-8858-6caddc41bd34",
   "metadata": {},
   "outputs": [],
   "source": [
    "# This was our previous code to get the dictionaries holding the words and word counts:\n",
    "\n",
    "with open('i-have-a-dream.txt','r') as f:\n",
    "    speech = f.read()\n",
    "\n",
    "specialchars = '.,-!:'\n",
    "for c in specialchars:\n",
    "    speech = speech.replace(c,' ')\n",
    "\n",
    "speech = speech.lower()\n",
    "    \n",
    "speechwordcount = {}\n",
    "speechwords = speech.split(' ')\n",
    "for c in speechwords:\n",
    "    if c in speechwordcount.keys():\n",
    "        speechwordcount[c] += 1\n",
    "    else:\n",
    "        speechwordcount[c] = 1        "
   ]
  },
  {
   "cell_type": "code",
   "execution_count": null,
   "id": "f61e8d5f-0772-4db0-86d0-94664c44b19b",
   "metadata": {
    "tags": []
   },
   "outputs": [],
   "source": [
    "print(speechwordcount)"
   ]
  },
  {
   "cell_type": "markdown",
   "id": "a9870b40-f64f-402a-98e8-964aa551791b",
   "metadata": {},
   "source": [
    "Let's generate two lists for words and word counts"
   ]
  },
  {
   "cell_type": "code",
   "execution_count": null,
   "id": "86286b38-92d4-4e65-9845-d43bf52159cc",
   "metadata": {},
   "outputs": [],
   "source": [
    "w = []\n",
    "c = []\n",
    "for key,val in speechwordcount.items():\n",
    "    w.append(key)\n",
    "    c.append(val)    "
   ]
  },
  {
   "cell_type": "code",
   "execution_count": null,
   "id": "1d8f0cf5-0296-437d-83ef-ddcb720f5e03",
   "metadata": {
    "tags": []
   },
   "outputs": [],
   "source": [
    "print(w)\n",
    "print(c)"
   ]
  },
  {
   "cell_type": "markdown",
   "id": "29232dab-96c1-4242-8ba3-03502eeed2ed",
   "metadata": {},
   "source": [
    "For a dictionary with keys and values we can create a new DataFrame with\n",
    "\n",
    "`df = pd.DataFrame(dictvariable)`\n",
    "\n",
    "The keys will become the column labels, and the values will become the records"
   ]
  },
  {
   "cell_type": "code",
   "execution_count": null,
   "id": "b3177eb2-37e4-4c79-8472-15a1e4552d17",
   "metadata": {},
   "outputs": [],
   "source": [
    "a = {\"A\": [1,2,3],\n",
    "     \"B\": ['anne','ben','carrie']\n",
    "    }\n",
    "\n",
    "a_df = pd.DataFrame(a)\n",
    "\n",
    "print(a_df)"
   ]
  },
  {
   "cell_type": "code",
   "execution_count": null,
   "id": "ca9d843e-e4e7-4c7c-bf2e-1c9df9831bf9",
   "metadata": {},
   "outputs": [],
   "source": [
    "# Let's do this with the speech\n",
    "\n",
    "s = {'word':w,\n",
    "     'count':c\n",
    "    }\n",
    "\n",
    "df = pd.DataFrame(s)"
   ]
  },
  {
   "cell_type": "code",
   "execution_count": null,
   "id": "ffb05a1c-a587-440c-9ca9-dfaa06a4cbfc",
   "metadata": {},
   "outputs": [],
   "source": [
    "df"
   ]
  },
  {
   "cell_type": "markdown",
   "id": "7b7c408a-4eea-4319-a177-35eb16fb1403",
   "metadata": {},
   "source": [
    "## Basic information about the dataframe"
   ]
  },
  {
   "cell_type": "markdown",
   "id": "767d341f-db0b-4f39-b3c7-a083b1fbdb1f",
   "metadata": {},
   "source": [
    "It can be vital to do a little data exploration to see what's in your dataframe.\n",
    "\n",
    "`head(n)` will allow you to look at the first n rows (5 by default)"
   ]
  },
  {
   "cell_type": "code",
   "execution_count": null,
   "id": "7d2070b1-c848-4689-beea-ff3e42b49ca6",
   "metadata": {},
   "outputs": [],
   "source": [
    "df.head()"
   ]
  },
  {
   "cell_type": "code",
   "execution_count": null,
   "id": "c2c7218a-f7d8-4c09-b1ae-fc5192a327a5",
   "metadata": {},
   "outputs": [],
   "source": [
    "df.head(2)"
   ]
  },
  {
   "cell_type": "markdown",
   "id": "7f653bd3-406c-41f5-92f2-51bb9000a486",
   "metadata": {},
   "source": [
    "Similarly, `tail(n)` will allow you to look at the last n rows (5 by default)"
   ]
  },
  {
   "cell_type": "code",
   "execution_count": null,
   "id": "c71e29f3-f591-4ee5-a7c6-29cf7d6e61ce",
   "metadata": {},
   "outputs": [],
   "source": [
    "df.tail()"
   ]
  },
  {
   "cell_type": "markdown",
   "id": "1f6d5939-6fdc-432f-bbf4-b13f36951025",
   "metadata": {},
   "source": [
    "There are several other useful dataframe attributes and methods that will allow you to get summary info:\n",
    "* `columns` : column names\n",
    "* `dtypes` : data types of the columns (dataframes can hold different datatypes in different columns\n",
    "* `index` : information about the row indices (they don't have to be numerical)\n",
    "* `shape` : the size of the dataframe in each dimension\n",
    "* `info()` : a range of summary info that includes the above\n",
    "* `describe()` : basic statistics about the data columns"
   ]
  },
  {
   "cell_type": "code",
   "execution_count": null,
   "id": "9e153353-c7bf-422a-80ed-4eca26aa7b2d",
   "metadata": {},
   "outputs": [],
   "source": [
    "df.columns"
   ]
  },
  {
   "cell_type": "code",
   "execution_count": null,
   "id": "bd13be71-96fb-45ea-962c-c979a81010dd",
   "metadata": {},
   "outputs": [],
   "source": [
    "df.dtypes"
   ]
  },
  {
   "cell_type": "code",
   "execution_count": null,
   "id": "99ff7b17-37fe-41c0-b5f6-7c99189fb55f",
   "metadata": {},
   "outputs": [],
   "source": [
    "df.index"
   ]
  },
  {
   "cell_type": "code",
   "execution_count": null,
   "id": "24314149-4d45-4921-ac1c-c59b70560a8b",
   "metadata": {},
   "outputs": [],
   "source": [
    "df.shape"
   ]
  },
  {
   "cell_type": "code",
   "execution_count": null,
   "id": "483725a1-0503-4bcf-9fbc-3c4067d80b33",
   "metadata": {},
   "outputs": [],
   "source": [
    "df.info()"
   ]
  },
  {
   "cell_type": "code",
   "execution_count": null,
   "id": "3e7b60fb-9bb0-4939-9381-14c6c668b293",
   "metadata": {},
   "outputs": [],
   "source": [
    "df.describe()"
   ]
  },
  {
   "cell_type": "code",
   "execution_count": null,
   "id": "1284d43e-4361-4c52-a433-dc632e912e9f",
   "metadata": {},
   "outputs": [],
   "source": [
    "df.describe(include='all')"
   ]
  },
  {
   "cell_type": "markdown",
   "id": "5b6a941c-ba0a-4bff-bae3-ee4569306b1e",
   "metadata": {},
   "source": [
    "## Viewing data"
   ]
  },
  {
   "cell_type": "code",
   "execution_count": null,
   "id": "faeb20e8-121c-4c87-8753-ad382a983e83",
   "metadata": {},
   "outputs": [],
   "source": [
    "df"
   ]
  },
  {
   "cell_type": "markdown",
   "id": "c9a5bee7-3d72-40b5-aa56-270f7fc15b1e",
   "metadata": {},
   "source": [
    "We can look at a specific column of a dataframe with `df[columnname]`"
   ]
  },
  {
   "cell_type": "code",
   "execution_count": null,
   "id": "c1b065bf-608e-4e76-badf-5f643e655a92",
   "metadata": {},
   "outputs": [],
   "source": [
    "df['word']"
   ]
  },
  {
   "cell_type": "markdown",
   "id": "54b655a9-8067-448a-b4a7-ffc79638f333",
   "metadata": {},
   "source": [
    "One must be careful with indexing elements in a dataframe.  They have both numerical- and label-based indices, but there are specific rules about how to retrieve values"
   ]
  },
  {
   "cell_type": "code",
   "execution_count": null,
   "id": "d12799e8-f6bb-460e-844b-490ae6c2d7a4",
   "metadata": {},
   "outputs": [],
   "source": [
    "# This will give an error!\n",
    "df[0]"
   ]
  },
  {
   "cell_type": "code",
   "execution_count": null,
   "id": "9efe3b5e-eff9-4bd1-82b3-5dda6f9586d3",
   "metadata": {},
   "outputs": [],
   "source": [
    "# this will not\n",
    "df[0:1]"
   ]
  },
  {
   "cell_type": "markdown",
   "id": "935625f2-c778-41dc-b7a2-7ccbaeb903e7",
   "metadata": {},
   "source": [
    "It's best to stick with `loc` and `iloc` for the moment to index dataframes.\n",
    "* `loc` : label-based indexing (which can look numerical if the row index, for example, is a number\n",
    "* `iloc` : numerical indexing"
   ]
  },
  {
   "cell_type": "code",
   "execution_count": null,
   "id": "2d186608-9bef-41ae-8dea-2d379f09b741",
   "metadata": {},
   "outputs": [],
   "source": [
    "# the first row\n",
    "df.loc[0]"
   ]
  },
  {
   "cell_type": "code",
   "execution_count": null,
   "id": "d87eacbe-5128-4d32-863a-bded78800f1c",
   "metadata": {},
   "outputs": [],
   "source": [
    "# the first row, returned as a dataframe\n",
    "df.loc[[0]]"
   ]
  },
  {
   "cell_type": "code",
   "execution_count": null,
   "id": "30357368-d7b6-41b7-b380-16d6f39994aa",
   "metadata": {},
   "outputs": [],
   "source": [
    "# the first two rows\n",
    "df.loc[[0,1]]"
   ]
  },
  {
   "cell_type": "code",
   "execution_count": null,
   "id": "cd8ee9ad-1ae4-4c44-8fe5-a231a0169f37",
   "metadata": {},
   "outputs": [],
   "source": [
    "# indexing both the row and column\n",
    "df.loc[0,'word']"
   ]
  },
  {
   "cell_type": "code",
   "execution_count": null,
   "id": "fa596770-1ee1-4bae-beb7-2aef38ab1624",
   "metadata": {},
   "outputs": [],
   "source": [
    "# indexing both the row and column\n",
    "# and returning a dataframe\n",
    "df.loc[[0],['word']]"
   ]
  },
  {
   "cell_type": "code",
   "execution_count": null,
   "id": "7d12b27e-e978-43f5-a24b-d4d9dc0bf165",
   "metadata": {},
   "outputs": [],
   "source": [
    "# you can use lists for the indices\n",
    "df.loc[[0],['word','count']]"
   ]
  },
  {
   "cell_type": "code",
   "execution_count": null,
   "id": "0180d8d5-f2b0-4084-bbbd-291e5f611ef9",
   "metadata": {},
   "outputs": [],
   "source": [
    "df.loc[[10],['word','count']]"
   ]
  },
  {
   "cell_type": "markdown",
   "id": "0ee3168f-e02a-4646-a64d-6d6b3ce2ce17",
   "metadata": {},
   "source": [
    "`iloc` is useful when you instead want to index numerically"
   ]
  },
  {
   "cell_type": "code",
   "execution_count": null,
   "id": "8ca94176-327d-4176-b990-ebeab083db60",
   "metadata": {},
   "outputs": [],
   "source": [
    "df.iloc[0]"
   ]
  },
  {
   "cell_type": "code",
   "execution_count": null,
   "id": "e2d1e4b8-f67d-4ee4-b459-bef708239500",
   "metadata": {},
   "outputs": [],
   "source": [
    "df.iloc[1]"
   ]
  },
  {
   "cell_type": "code",
   "execution_count": null,
   "id": "811902f3-eb52-4083-adb1-ff7657b61bed",
   "metadata": {},
   "outputs": [],
   "source": [
    "df.iloc[[1]]"
   ]
  },
  {
   "cell_type": "code",
   "execution_count": null,
   "id": "dfcf4a7c-656e-4a13-a63a-fc733531cf42",
   "metadata": {},
   "outputs": [],
   "source": [
    "df.iloc[0:1]"
   ]
  },
  {
   "cell_type": "code",
   "execution_count": null,
   "id": "cda0b578-b6c3-4239-a859-48e6b1aaf86b",
   "metadata": {},
   "outputs": [],
   "source": [
    "df.iloc[0:4]"
   ]
  },
  {
   "cell_type": "code",
   "execution_count": null,
   "id": "930726f8-8e31-411a-a691-09d259b4e7c9",
   "metadata": {},
   "outputs": [],
   "source": [
    "# this will give an error! you can't use a label-based index like 'word' with iloc\n",
    "df.iloc[0:4,'word']"
   ]
  },
  {
   "cell_type": "code",
   "execution_count": null,
   "id": "20a47b91-2543-44aa-ae34-1aa4f6a90af3",
   "metadata": {},
   "outputs": [],
   "source": [
    "# instead of referncing the column with 'word'\n",
    "# iloc indexes it numerically\n",
    "df.iloc[0:4,0]"
   ]
  },
  {
   "cell_type": "code",
   "execution_count": null,
   "id": "2992470f-5e8e-40de-82e1-aa7bdd73c8f6",
   "metadata": {},
   "outputs": [],
   "source": [
    "df.iloc[[0,1,2,3],[0]]"
   ]
  },
  {
   "cell_type": "code",
   "execution_count": null,
   "id": "c5d4f9d6-7e46-4129-9328-975473af640a",
   "metadata": {},
   "outputs": [],
   "source": [
    "df.iloc[0,0]"
   ]
  },
  {
   "cell_type": "code",
   "execution_count": null,
   "id": "d6742d88-ffc3-4430-8330-6554b5af8c7d",
   "metadata": {},
   "outputs": [],
   "source": [
    "df.loc[0,'word']"
   ]
  },
  {
   "cell_type": "markdown",
   "id": "459ae186-7761-4c3b-a952-771f578d4c5f",
   "metadata": {},
   "source": [
    "## Where's the row for \"dream\"?  Boolean indexing"
   ]
  },
  {
   "cell_type": "markdown",
   "id": "4dfc89df-7ad0-46d3-9e01-69393daba6f3",
   "metadata": {},
   "source": [
    "It is useful to be able to get elements where certain conditions are true.\n",
    "\n",
    "Like here, we may want to get the word count for 'dream'.  Or the word count for every word that contains 'spirit' as a substring."
   ]
  },
  {
   "cell_type": "markdown",
   "id": "ad7fbced-079d-4e6a-b82e-375f36e7ae95",
   "metadata": {},
   "source": [
    "This can be accomplished with boolean indexing, where the index is a True/False condition, and there is one such value for every row."
   ]
  },
  {
   "cell_type": "markdown",
   "id": "a9e4f2b9-60c9-4ea7-a512-6ce5d66585f6",
   "metadata": {},
   "source": [
    "The following sets up the boolean series of True/False values for every row."
   ]
  },
  {
   "cell_type": "code",
   "execution_count": null,
   "id": "d4d61e3e-4e78-4311-a9ed-7465a5ad867b",
   "metadata": {},
   "outputs": [],
   "source": [
    "df['word'] == 'five'"
   ]
  },
  {
   "cell_type": "markdown",
   "id": "a8d649a5-02d1-43f1-a6ac-24239a5c3be8",
   "metadata": {},
   "source": [
    "We can use that as the index to df, i.e., `df[condition]` to get only those rows where `condition` is True"
   ]
  },
  {
   "cell_type": "code",
   "execution_count": null,
   "id": "0cdae943-e3f3-49f1-8e54-776cca18d8c4",
   "metadata": {},
   "outputs": [],
   "source": [
    "df[df['word'] == 'five']"
   ]
  },
  {
   "cell_type": "markdown",
   "id": "8aa95afe-ad4a-41fc-b9fb-119228540776",
   "metadata": {},
   "source": [
    "It also works as the index when using `loc`"
   ]
  },
  {
   "cell_type": "code",
   "execution_count": null,
   "id": "8b1a9998-cefa-4cf6-b4cb-d1e36f8bd71f",
   "metadata": {},
   "outputs": [],
   "source": [
    "df.loc[df['word'] == 'five']"
   ]
  },
  {
   "cell_type": "code",
   "execution_count": null,
   "id": "750ba2c5-e037-4e8c-b659-4194e1f694dc",
   "metadata": {},
   "outputs": [],
   "source": [
    "df.loc[df['word'] == 'dream']"
   ]
  },
  {
   "cell_type": "code",
   "execution_count": null,
   "id": "6dd2fa0d-7f3e-4772-a282-561f910a52d5",
   "metadata": {},
   "outputs": [],
   "source": [
    "df.loc[df['word'] == 'dream','count']"
   ]
  },
  {
   "cell_type": "code",
   "execution_count": null,
   "id": "f921de66-0c74-48db-af2c-766d837cbcfc",
   "metadata": {},
   "outputs": [],
   "source": [
    "df['word'].str.startswith('d')"
   ]
  },
  {
   "cell_type": "code",
   "execution_count": null,
   "id": "f719ef88-a468-4c77-baaf-9b96042493a3",
   "metadata": {},
   "outputs": [],
   "source": [
    "df.loc[df['word'].str.startswith('d')]"
   ]
  },
  {
   "cell_type": "code",
   "execution_count": null,
   "id": "fa5c1ea4-7a00-4152-a231-2d4e3e3c1a37",
   "metadata": {},
   "outputs": [],
   "source": [
    "df.loc[df['word'].str.contains('we')]"
   ]
  },
  {
   "cell_type": "markdown",
   "id": "f9b843c0-fc14-4f36-9b08-9d3ba40e9db0",
   "metadata": {},
   "source": [
    "A brief hint at how easy it is to make plots:"
   ]
  },
  {
   "cell_type": "code",
   "execution_count": null,
   "id": "adb09d54-9db7-46e6-8d8d-6a876727bcb3",
   "metadata": {},
   "outputs": [],
   "source": [
    "df.loc[df['word'].str.contains('we')].plot(kind='bar',x='word')"
   ]
  },
  {
   "cell_type": "code",
   "execution_count": null,
   "id": "b92efcc0-afb4-4d15-862f-e74d99332ee1",
   "metadata": {},
   "outputs": [],
   "source": [
    "a = df.loc[df['word'].str.contains('we')]"
   ]
  },
  {
   "cell_type": "code",
   "execution_count": null,
   "id": "7921e3a0-4ce8-48dc-bc76-788e121981a1",
   "metadata": {},
   "outputs": [],
   "source": [
    "a.plot()"
   ]
  },
  {
   "cell_type": "markdown",
   "id": "c5d16900-63cc-4e85-8f5a-bc7e02ce3ac6",
   "metadata": {},
   "source": [
    "But I digress.\n",
    "\n",
    "Dataframes have some very useful methods.\n",
    "\n",
    "`sort_values` is one where we can sort all the rows by the values in one particular column.  We can therefore see more easily what the most frequently occurring words are."
   ]
  },
  {
   "cell_type": "code",
   "execution_count": null,
   "id": "3a554ccd-81bd-4a6f-9022-f8c177640ca5",
   "metadata": {},
   "outputs": [],
   "source": [
    "a.sort_values(by='count')"
   ]
  },
  {
   "cell_type": "code",
   "execution_count": null,
   "id": "3888bf01-41d7-4e14-98e9-6f0abb0665b5",
   "metadata": {},
   "outputs": [],
   "source": [
    "a.sort_values(by='count',ascending=False)"
   ]
  },
  {
   "cell_type": "code",
   "execution_count": null,
   "id": "9d3e17ef-d7f0-41c6-ae06-de3bbdf1424d",
   "metadata": {},
   "outputs": [],
   "source": [
    "df = df.sort_values(by='count', ascending=False)"
   ]
  },
  {
   "cell_type": "code",
   "execution_count": null,
   "id": "0794dad5-ca7d-421c-bff8-a05f05352480",
   "metadata": {},
   "outputs": [],
   "source": [
    "df"
   ]
  },
  {
   "cell_type": "markdown",
   "id": "21ca4726-e095-4599-979a-b22ad1e13ce8",
   "metadata": {},
   "source": [
    "We may revisit cleaning data later... here is an example where we may want to get rid of the first row, which here has index `4`"
   ]
  },
  {
   "cell_type": "code",
   "execution_count": null,
   "id": "e158abb4-d71d-4248-a399-51a6744e4df7",
   "metadata": {},
   "outputs": [],
   "source": [
    "df.drop(4)"
   ]
  },
  {
   "cell_type": "markdown",
   "id": "1c00c444-0174-47c4-b980-81957d4651e5",
   "metadata": {},
   "source": [
    "Let's check to make sure it was dropped."
   ]
  },
  {
   "cell_type": "code",
   "execution_count": null,
   "id": "6ddfaa5a-3e84-4467-8af4-64cb95ca6737",
   "metadata": {},
   "outputs": [],
   "source": [
    "df"
   ]
  },
  {
   "cell_type": "markdown",
   "id": "4f9f8571-cc8a-4838-ab50-02d259de05c5",
   "metadata": {},
   "source": [
    "No!  What happened?\n",
    "\n",
    "`drop` returns a dataframe with the row dropped, but it doesn't change the values of the underlying dataframe.\n",
    "\n",
    "You can either reassign the returned value to the dataframe, or use `inplace=True`"
   ]
  },
  {
   "cell_type": "code",
   "execution_count": null,
   "id": "de456266-6591-49e8-b8b5-96356a360332",
   "metadata": {},
   "outputs": [],
   "source": [
    "df.drop(4, inplace=True)"
   ]
  },
  {
   "cell_type": "code",
   "execution_count": null,
   "id": "c5c74e70-7ea8-4e05-b1d9-58517d562953",
   "metadata": {},
   "outputs": [],
   "source": [
    "df"
   ]
  },
  {
   "cell_type": "markdown",
   "id": "1e549e2c-3ef5-49bc-ad93-1eefc7207dc2",
   "metadata": {},
   "source": [
    "## Saving!\n",
    "\n",
    "Let's do one final thing and save the dataframe to use in our later notebook.  \n",
    "\n",
    "Pandas allows us to do that very easily with a variety of output formats.  Here is an example to write the `df` dataframe to a csv file.  We include `index=False` so that the indices (0, 1, 2, 3, 4, ...) are not also written to the csv file."
   ]
  },
  {
   "cell_type": "code",
   "execution_count": null,
   "id": "df9dcf7c-b098-417f-a674-8119a4b1b9ba",
   "metadata": {},
   "outputs": [],
   "source": [
    "df.to_csv('dreamspeechpd.csv', index=False)"
   ]
  }
 ],
 "metadata": {
  "kernelspec": {
   "display_name": "Python 3 (ipykernel)",
   "language": "python",
   "name": "python3"
  },
  "language_info": {
   "codemirror_mode": {
    "name": "ipython",
    "version": 3
   },
   "file_extension": ".py",
   "mimetype": "text/x-python",
   "name": "python",
   "nbconvert_exporter": "python",
   "pygments_lexer": "ipython3",
   "version": "3.9.6"
  }
 },
 "nbformat": 4,
 "nbformat_minor": 5
}
