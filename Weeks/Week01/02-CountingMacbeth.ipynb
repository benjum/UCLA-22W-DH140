{
 "cells": [
  {
   "cell_type": "markdown",
   "id": "8ac3750c-ec99-4c1e-a5b2-f42c3df178e3",
   "metadata": {},
   "source": [
    "# Macbeth word frequency ala Python"
   ]
  },
  {
   "cell_type": "markdown",
   "id": "009a0fe0-e9b1-425d-95ce-b24a4621aef3",
   "metadata": {},
   "source": [
    "Import libraries to grab data from web (via requests) and form list of words using NLTK."
   ]
  },
  {
   "cell_type": "code",
   "execution_count": null,
   "id": "e64384b9-d6f3-497a-9f77-a050f4b5a22d",
   "metadata": {},
   "outputs": [],
   "source": [
    "import requests\n",
    "from nltk.tokenize import word_tokenize"
   ]
  },
  {
   "cell_type": "markdown",
   "id": "10f096b3-545c-4ca6-8781-fcd5f6da5d47",
   "metadata": {},
   "source": [
    "Get the text file for Macbeth from [Project Gutenberg](https://www.gutenberg.org/) and put it into the text file named 'macbeth.txt'"
   ]
  },
  {
   "cell_type": "code",
   "execution_count": null,
   "id": "67334eae-aaac-419c-ae9c-b8b92f5626ae",
   "metadata": {},
   "outputs": [],
   "source": [
    "target_url = \"https://www.gutenberg.org/files/1533/1533-0.txt\"\n",
    "response = requests.get(target_url)\n",
    "with open('macbeth.txt','w',encoding='utf-8') as f:\n",
    "    f.write(response.text)"
   ]
  },
  {
   "cell_type": "markdown",
   "id": "078b99b9-e901-4aeb-bd8c-38d4dca3c123",
   "metadata": {},
   "source": [
    "Open the text file 'macbeth.txt' and form a list of words from the document. \n",
    "\n",
    "(Dealing separately with the document here is an unnecessary step since we can just get the data directly from `response.text` above, but it's included here to show it.)"
   ]
  },
  {
   "cell_type": "code",
   "execution_count": null,
   "id": "21dab0da-d736-468d-a382-208220fafd87",
   "metadata": {
    "tags": []
   },
   "outputs": [],
   "source": [
    "document_text = open('macbeth.txt', 'r')\n",
    "text_string = document_text.read().lower()\n",
    "text_tokens = word_tokenize(text_string)"
   ]
  },
  {
   "cell_type": "markdown",
   "id": "75da2548-35b6-4a06-8d7b-8f2958a3d7cc",
   "metadata": {},
   "source": [
    "Form a dictionary that has the summary count of each tokenized word, indexed by the word.\n",
    "\n",
    "Example: `frequency['the'] = 2` would indicate 'the' occurs twice."
   ]
  },
  {
   "cell_type": "code",
   "execution_count": null,
   "id": "57c3e51e-e2cf-4a1f-b6b8-eb5c0929e669",
   "metadata": {
    "tags": []
   },
   "outputs": [],
   "source": [
    "frequency = {}\n",
    "for word in text_tokens:\n",
    "    count = frequency.get(word,0)\n",
    "    frequency[word] = count + 1"
   ]
  },
  {
   "cell_type": "markdown",
   "id": "133b5c01-25a3-4a09-8086-05240d96cb3e",
   "metadata": {},
   "source": [
    "Print out the frequency of words for all tokenized words.\n",
    "\n",
    "If you uncomment the last two lines, you can only print the occurrence of matched words."
   ]
  },
  {
   "cell_type": "code",
   "execution_count": null,
   "id": "9daae86c-e2a8-4f18-918c-1b41091ca127",
   "metadata": {
    "tags": []
   },
   "outputs": [],
   "source": [
    "frequency_list = frequency.keys()\n",
    "for words in frequency_list:\n",
    "    #print(words, frequency[words])\n",
    "    if 'macbeth' in words:\n",
    "        print(words, frequency[words])"
   ]
  }
 ],
 "metadata": {
  "kernelspec": {
   "display_name": "Python 3 (ipykernel)",
   "language": "python",
   "name": "python3"
  },
  "language_info": {
   "codemirror_mode": {
    "name": "ipython",
    "version": 3
   },
   "file_extension": ".py",
   "mimetype": "text/x-python",
   "name": "python",
   "nbconvert_exporter": "python",
   "pygments_lexer": "ipython3",
   "version": "3.9.6"
  }
 },
 "nbformat": 4,
 "nbformat_minor": 5
}
