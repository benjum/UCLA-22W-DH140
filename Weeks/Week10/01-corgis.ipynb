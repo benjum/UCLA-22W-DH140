{
 "cells": [
  {
   "cell_type": "code",
   "execution_count": null,
   "id": "a4b61427-16f9-40a4-8990-ee2d20647573",
   "metadata": {},
   "outputs": [],
   "source": [
    "from bs4 import BeautifulSoup\n",
    "import requests\n",
    "import pandas as pd"
   ]
  },
  {
   "cell_type": "code",
   "execution_count": null,
   "id": "fa6de4bb-b59c-40be-9720-432b9d75bca4",
   "metadata": {},
   "outputs": [],
   "source": [
    "response = requests.get('https://corgis-edu.github.io/corgis/csv/')\n",
    "response"
   ]
  },
  {
   "cell_type": "code",
   "execution_count": null,
   "id": "54ff81c3-1b15-4e2c-a717-34cdf343c801",
   "metadata": {},
   "outputs": [],
   "source": [
    "# Save all the html in a string variable\n",
    "html_string = response.text\n",
    "\n",
    "# Use BeautifulSoup to create a new object that will allow you to search for HTML tags\n",
    "document = BeautifulSoup(html_string, \"html.parser\")\n",
    "\n",
    "# This \"document\" variable is an object that has a \"find\" method\n",
    "all_datasets = document.findAll('h3')\n",
    "\n",
    "# For obtaining download files, we'll need to remove the h3 tags and replace all spaces with \"_\"\n",
    "all_datasets = [i.get_text().replace(' ','_') for i in all_datasets]"
   ]
  },
  {
   "cell_type": "code",
   "execution_count": null,
   "id": "92de0348-b9da-40d3-84ef-ca6b0b946c85",
   "metadata": {},
   "outputs": [],
   "source": [
    "def dataset_to_df(dataset):\n",
    "\n",
    "    html_link = \"https://corgis-edu.github.io/corgis/csv/\" + dataset.lower() + \"/\"\n",
    "    response = requests.get(html_link)\n",
    "    html_string = response.text\n",
    "    document = BeautifulSoup(html_string, \"html.parser\")\n",
    "    \n",
    "    all_links = document.findAll('a')\n",
    "    for link in all_links:\n",
    "        if link.has_attr('download'):\n",
    "            download_link = link['href']\n",
    "    df = pd.read_csv(html_link + download_link)\n",
    "    \n",
    "    return df"
   ]
  },
  {
   "cell_type": "code",
   "execution_count": null,
   "id": "b384ade8-0d93-444b-bd40-e60c2adf0541",
   "metadata": {},
   "outputs": [],
   "source": [
    "print(all_datasets)"
   ]
  },
  {
   "cell_type": "code",
   "execution_count": null,
   "id": "bd43704c-769c-46b6-9d0a-ad9eddb00617",
   "metadata": {},
   "outputs": [],
   "source": [
    "datasetnum = 4\n",
    "dataset_to_df(all_datasets[datasetnum]).head()"
   ]
  },
  {
   "cell_type": "code",
   "execution_count": null,
   "id": "8b46266b-1255-45c8-80de-7f9cfcbd2175",
   "metadata": {},
   "outputs": [],
   "source": [
    "import ipywidgets"
   ]
  },
  {
   "cell_type": "code",
   "execution_count": null,
   "id": "118d8dd8-d505-44ad-97f7-f4cab7c4291e",
   "metadata": {},
   "outputs": [],
   "source": [
    "def dataset_to_df(dataset):\n",
    "\n",
    "    html_link = \"https://corgis-edu.github.io/corgis/csv/\" + dataset.lower() + \"/\"\n",
    "    response = requests.get(html_link)\n",
    "    html_string = response.text\n",
    "    document = BeautifulSoup(html_string, \"html.parser\")\n",
    "    \n",
    "    all_links = document.findAll('a')\n",
    "    for link in all_links:\n",
    "        if link.has_attr('download'):\n",
    "            download_link = link['href']\n",
    "    df = pd.read_csv(html_link + download_link)\n",
    "    \n",
    "    print(df.info())\n",
    "    \n",
    "    return df\n",
    "\n",
    "w = ipywidgets.interactive(dataset_to_df,dataset=all_datasets)\n",
    "display(w)"
   ]
  },
  {
   "cell_type": "code",
   "execution_count": null,
   "id": "8cabde17-95ff-4681-8414-5dee677995d8",
   "metadata": {},
   "outputs": [],
   "source": [
    "import seaborn as sns\n",
    "from scipy import stats\n",
    "import matplotlib.pyplot as plt"
   ]
  },
  {
   "cell_type": "code",
   "execution_count": null,
   "id": "7c698884-a065-4d5e-b991-76814fd7e9ce",
   "metadata": {},
   "outputs": [],
   "source": [
    "def mycorr(df, col1):\n",
    "    corr_matrix = df.corr()\n",
    "    \n",
    "    ordered_corr = corr_matrix[[col1]].sort_values(by=col1, ascending=False)\n",
    "    print(ordered_corr)\n",
    "    col2 = ordered_corr.index[1]\n",
    "    \n",
    "    # get coeffs of linear fit\n",
    "    slope, intercept, r_value, p_value, std_err = stats.linregress(df[col1],df[col2])\n",
    "\n",
    "    ax = sns.regplot(data=df,\n",
    "                     x=col1,\n",
    "                     y=col2,\n",
    "                     line_kws={'label':\"y={0:.1f}x+{1:.1f}\".format(slope,intercept)})\n",
    "    ax.legend()\n",
    "    plt.show()"
   ]
  },
  {
   "cell_type": "code",
   "execution_count": null,
   "id": "16bb5f9d-5c8c-4471-9402-03cbfa78eb7c",
   "metadata": {},
   "outputs": [],
   "source": [
    "x = w.result\n",
    "mycorr(x, 'artist.hotttnesss')"
   ]
  }
 ],
 "metadata": {
  "kernelspec": {
   "display_name": "Python 3 (ipykernel)",
   "language": "python",
   "name": "python3"
  },
  "language_info": {
   "codemirror_mode": {
    "name": "ipython",
    "version": 3
   },
   "file_extension": ".py",
   "mimetype": "text/x-python",
   "name": "python",
   "nbconvert_exporter": "python",
   "pygments_lexer": "ipython3",
   "version": "3.9.6"
  }
 },
 "nbformat": 4,
 "nbformat_minor": 5
}
