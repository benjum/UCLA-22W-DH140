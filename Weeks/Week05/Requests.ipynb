{
 "cells": [
  {
   "cell_type": "markdown",
   "id": "1d7f193d-1ec3-4351-9ba0-688d36390df5",
   "metadata": {},
   "source": [
    "# Getting data from the web:  Scraping"
   ]
  },
  {
   "cell_type": "markdown",
   "id": "ce44adc9-8090-4231-b92c-bc854dc4fe4e",
   "metadata": {},
   "source": [
    "Our trusty friend Pandas can read data directly from a web link.\n",
    "\n",
    "We read the dataset into a dataframe without actually having the file in our folder!"
   ]
  },
  {
   "cell_type": "code",
   "execution_count": null,
   "id": "d4cf5046-247b-492d-8e71-110408eb28dc",
   "metadata": {},
   "outputs": [],
   "source": [
    "import pandas as pd"
   ]
  },
  {
   "cell_type": "code",
   "execution_count": null,
   "id": "930855e1-218b-4b59-b727-867f76b944be",
   "metadata": {},
   "outputs": [],
   "source": [
    "df = pd.read_csv('https://corgis-edu.github.io/corgis/datasets/csv/classics/classics.csv')"
   ]
  },
  {
   "cell_type": "code",
   "execution_count": null,
   "id": "680c983a-66a6-4aa6-9df0-f535198b795c",
   "metadata": {},
   "outputs": [],
   "source": [
    "df.sample()"
   ]
  },
  {
   "cell_type": "code",
   "execution_count": null,
   "id": "fcb9a7c1-cc6f-4018-bcd0-6f5fc9aff72f",
   "metadata": {},
   "outputs": [],
   "source": [
    "df.sort_values(by='metadata.downloads',ascending=True)[-20:].plot.barh(x='bibliography.title',y='metadata.downloads')"
   ]
  },
  {
   "cell_type": "markdown",
   "id": "59cabc3a-9d81-4257-915b-9fb49469ef7b",
   "metadata": {},
   "source": [
    "---"
   ]
  },
  {
   "cell_type": "markdown",
   "id": "7b940753-1fe5-4605-b84b-6079f96400a1",
   "metadata": {},
   "source": [
    "## requests"
   ]
  },
  {
   "cell_type": "markdown",
   "id": "165a9ece-f115-4924-b676-5d2bade2f13a",
   "metadata": {},
   "source": [
    "The above code is very handy, but what if we simply want to read content that is on the page rather than in a readily available file?"
   ]
  },
  {
   "cell_type": "markdown",
   "id": "0798eac2-0b17-40e5-93d7-7c19bc6649f1",
   "metadata": {},
   "source": [
    "Go to the [Classics CSV File](https://corgis-edu.github.io/corgis/csv/classics/) webpage and use your Browser's Inspector to look at the HTML for the page.  This will show HTML we discussed very briefly during Week 1.\n",
    "\n",
    "We are going to get the entire web page using \"requests\" ([documentation](https://docs.python-requests.org/en/latest/)).  \n",
    "* \"Requests is an elegant and simple HTTP library for Python, built for human beings.\""
   ]
  },
  {
   "cell_type": "code",
   "execution_count": null,
   "id": "1d8615bb-dcf5-4378-a5c0-49906c9b2a37",
   "metadata": {},
   "outputs": [],
   "source": [
    "import requests"
   ]
  },
  {
   "cell_type": "code",
   "execution_count": null,
   "id": "33d97188-5fac-4943-b441-77a8e8562509",
   "metadata": {},
   "outputs": [],
   "source": [
    "response = requests.get('https://corgis-edu.github.io/corgis/csv/classics/')"
   ]
  },
  {
   "cell_type": "code",
   "execution_count": null,
   "id": "6ed289ee-b7ba-4e41-b6b8-48f7f1804cc8",
   "metadata": {},
   "outputs": [],
   "source": [
    "response"
   ]
  },
  {
   "cell_type": "markdown",
   "id": "9d3aa3e2-b03f-400d-ba8f-01f5511c6f0e",
   "metadata": {},
   "source": [
    "\"Responses\" are numerical codes that indicate whether a specific HTTP request has been successfully completed (See [HTTP code list](https://developer.mozilla.org/en-US/docs/Web/HTTP/Status))\n",
    "\n",
    "You may have run into a couple of these on other sites, or even while trying to login to this JupyterHub!"
   ]
  },
  {
   "cell_type": "code",
   "execution_count": null,
   "id": "339d622b-1707-4009-8999-d50642269a34",
   "metadata": {},
   "outputs": [],
   "source": [
    "# Note that this won't actually get the csv file\n",
    "\n",
    "response = requests.get('https://corgis-edu.github.io/corgis/csv/classics/classics.csv')"
   ]
  },
  {
   "cell_type": "code",
   "execution_count": null,
   "id": "b17b90ac-d3b4-41bd-8c57-df8a5261fc41",
   "metadata": {},
   "outputs": [],
   "source": [
    "response"
   ]
  },
  {
   "cell_type": "markdown",
   "id": "08387c2e-d7ce-4a6c-ac53-2aafb012efc3",
   "metadata": {},
   "source": [
    "Try finding the above URL in your browser:  https://corgis-edu.github.io/corgis/csv/classics/classics.csv"
   ]
  },
  {
   "cell_type": "code",
   "execution_count": null,
   "id": "6922faba-3b2d-4cdf-9a73-89595a50fd1c",
   "metadata": {},
   "outputs": [],
   "source": [
    "response = requests.get('https://corgis-edu.github.io/corgis/csv/classics/')\n",
    "print(response)"
   ]
  },
  {
   "cell_type": "code",
   "execution_count": null,
   "id": "9881226a-e066-4fde-a1c0-a3e52cd9d513",
   "metadata": {
    "tags": []
   },
   "outputs": [],
   "source": [
    "# The html of our desired corgis page:\n",
    "response.text"
   ]
  },
  {
   "cell_type": "code",
   "execution_count": null,
   "id": "3239353c-c08e-4592-905e-34719ec66d2b",
   "metadata": {
    "tags": []
   },
   "outputs": [],
   "source": [
    "print(response.text)"
   ]
  },
  {
   "cell_type": "markdown",
   "id": "df6b35b6-3f24-4903-bf1a-52cc97cfa542",
   "metadata": {},
   "source": [
    "It is possible to search through the web tags to find what it may be that you want to search for:"
   ]
  },
  {
   "cell_type": "code",
   "execution_count": null,
   "id": "f563d78d-28e2-4714-b486-86f31679c57b",
   "metadata": {},
   "outputs": [],
   "source": [
    "# Save all the html in a string variable\n",
    "html_string = response.text\n",
    "\n",
    "# Use BeautifulSoup to create a new object that will allow you to search for HTML tags\n",
    "document = BeautifulSoup(html_string, \"html.parser\")\n",
    "\n",
    "# This \"document\" variable is an object that has a \"find\" method\n",
    "document.find('a')"
   ]
  },
  {
   "cell_type": "markdown",
   "id": "417c2991-bcf4-486f-aaf6-e3d2b75eb7e4",
   "metadata": {},
   "source": [
    "What is `<a href=\"...`?\n",
    "\n",
    "-> This is an HTML tag.... so what are HTML \"tags\"?"
   ]
  },
  {
   "cell_type": "markdown",
   "id": "15136a59-fabc-40f6-9123-12692660f6fd",
   "metadata": {},
   "source": [
    "HTML: Hyper-Text Markup Language\n",
    "\n",
    "HTML uses \"tags\" to classify different elements, for example:\n",
    "* `<h1>...</h1>`: a large header\n",
    "* `<img src=\"...\">`: an image\n",
    "* `<a href=\"...\">Deep Space Nine</a>`: a link"
   ]
  },
  {
   "cell_type": "markdown",
   "id": "ad5de395-3f8f-4525-bef2-a0fa28d90cd1",
   "metadata": {},
   "source": [
    "Let's look at a simpler website:\n",
    "http://static.decontextualize.com/kittens.html"
   ]
  },
  {
   "cell_type": "code",
   "execution_count": null,
   "id": "bcb1c48e-2004-4418-981b-822274182563",
   "metadata": {},
   "outputs": [],
   "source": [
    "response = requests.get('http://static.decontextualize.com/kittens.html')"
   ]
  },
  {
   "cell_type": "code",
   "execution_count": null,
   "id": "860aedfb-7bd3-4ff7-a4b3-0881ae885234",
   "metadata": {},
   "outputs": [],
   "source": [
    "print(response.text)"
   ]
  },
  {
   "cell_type": "markdown",
   "id": "6584d17d-55c4-4871-9e97-217ac955617e",
   "metadata": {},
   "source": [
    "Here the tag examples are:\n",
    "* `<h1>Kittens and the TV Shows They Love</h1>`: a large header\n",
    "* `<img src=\"http://placekitten.com/120/120\">`: an image\n",
    "* `<a href=\"http://www.imdb.com/title/tt0106145/\">Deep Space Nine</a>`: a link\n",
    "\n",
    "And you'll see additional tags:\n",
    "* `<ul>`: unordered list\n",
    "* `<li>`: list item\n",
    "* `<head>` and `<body>`: like header information and the body of a document\n",
    "* `<div>`: section of the document"
   ]
  },
  {
   "cell_type": "markdown",
   "id": "53ad6319-27ed-4434-80d5-c3a148856c6a",
   "metadata": {},
   "source": [
    "There's a lot to learn about HTML, but this is mainly to show you examples of tags.  BeautifulSoup will let you parse HTML documents based on these tags."
   ]
  },
  {
   "cell_type": "markdown",
   "id": "24152b4e-2518-4e05-8e9f-a67ebc85ee87",
   "metadata": {},
   "source": [
    "---"
   ]
  },
  {
   "cell_type": "markdown",
   "id": "c4ee552c-c46f-482d-8bde-e1a41a0d56ab",
   "metadata": {},
   "source": [
    "Fun aside:  you can use the IPython library to visualize HTML right inside the Jupyter notebook."
   ]
  },
  {
   "cell_type": "code",
   "execution_count": null,
   "id": "e435de0a-3473-4a79-bacc-1c17a3330321",
   "metadata": {},
   "outputs": [],
   "source": [
    "from IPython.core.display import HTML\n",
    "HTML('<img src=\"http://placekitten.com/110/110\">')"
   ]
  },
  {
   "cell_type": "code",
   "execution_count": null,
   "id": "16b3e6bb-7866-4526-8401-1192ce960e93",
   "metadata": {},
   "outputs": [],
   "source": [
    "%%HTML\n",
    "<img src=\"http://placekitten.com/110/110\">"
   ]
  },
  {
   "cell_type": "code",
   "execution_count": null,
   "id": "0da8a84a-6caf-42e6-9d6e-1d0b10b5e1d7",
   "metadata": {},
   "outputs": [],
   "source": [
    "from IPython.lib.display import YouTubeVideo\n",
    "YouTubeVideo('Awf45u6zrP0')"
   ]
  },
  {
   "cell_type": "markdown",
   "id": "cc3f633f-a431-429e-9cf6-f85878438878",
   "metadata": {},
   "source": [
    "---"
   ]
  },
  {
   "cell_type": "markdown",
   "id": "11265148-0553-4a91-88c7-b52648059ce6",
   "metadata": {},
   "source": [
    "Ok, enough cat silliness..."
   ]
  },
  {
   "cell_type": "markdown",
   "id": "213578b3-0b06-41be-bb28-06233f83c304",
   "metadata": {},
   "source": [
    "---"
   ]
  },
  {
   "cell_type": "markdown",
   "id": "64e96655-09a9-4ab4-be12-002903871d0f",
   "metadata": {},
   "source": [
    "Back to our literary classics."
   ]
  },
  {
   "cell_type": "code",
   "execution_count": null,
   "id": "62bacd20-ec98-429d-b027-3562446c0832",
   "metadata": {},
   "outputs": [],
   "source": [
    "response = requests.get('https://corgis-edu.github.io/corgis/csv/classics/')\n",
    "html_string = response.text\n",
    "document = BeautifulSoup(html_string, \"html.parser\")"
   ]
  },
  {
   "cell_type": "code",
   "execution_count": null,
   "id": "2c6e5460-c61e-4125-9f0c-900d2f645c79",
   "metadata": {},
   "outputs": [],
   "source": [
    "# We can look for the first link:\n",
    "\n",
    "document.find('a')"
   ]
  },
  {
   "cell_type": "code",
   "execution_count": null,
   "id": "ab7bc9df-45f5-42b1-bb1b-806e923496af",
   "metadata": {},
   "outputs": [],
   "source": [
    "# We can search for all the links on the page with:\n",
    "\n",
    "document.find_all('a')"
   ]
  },
  {
   "cell_type": "markdown",
   "id": "88cde9a9-b020-434f-b26b-488135f539c4",
   "metadata": {},
   "source": [
    "This allows us now to find the download link for the csv file."
   ]
  },
  {
   "cell_type": "markdown",
   "id": "e1f4baa3-d5f0-4c55-b975-23afc1eb43e8",
   "metadata": {},
   "source": [
    "# Two examples for practice"
   ]
  },
  {
   "cell_type": "markdown",
   "id": "f8853cef-21cc-4dd6-9b0b-b9a5cb74b207",
   "metadata": {},
   "source": [
    "### Getting the script of Coco from IMSDB"
   ]
  },
  {
   "cell_type": "code",
   "execution_count": null,
   "id": "4a76bcd0-2220-467c-b9c0-140db5ebdce5",
   "metadata": {},
   "outputs": [],
   "source": [
    "import requests"
   ]
  },
  {
   "cell_type": "code",
   "execution_count": null,
   "id": "bbd42292-e939-43d0-b9ca-d4934e55f164",
   "metadata": {},
   "outputs": [],
   "source": [
    "response = requests.get('https://imsdb.com/scripts/Coco.html')"
   ]
  },
  {
   "cell_type": "code",
   "execution_count": null,
   "id": "bbdd62ab-0f5d-4d7a-9d59-d0fc5a9e0ce0",
   "metadata": {},
   "outputs": [],
   "source": [
    "response"
   ]
  },
  {
   "cell_type": "code",
   "execution_count": null,
   "id": "58fe859d-3745-40bd-a307-573e24a0c875",
   "metadata": {
    "tags": []
   },
   "outputs": [],
   "source": [
    "response.text"
   ]
  },
  {
   "cell_type": "markdown",
   "id": "9bc0d2e8-bd74-4573-a87f-31df8be8786a",
   "metadata": {},
   "source": [
    "Woah, too much!"
   ]
  },
  {
   "cell_type": "markdown",
   "id": "e48cb2a5-dff8-45e5-901d-deaac5bf0214",
   "metadata": {},
   "source": [
    "We break it down with BeautifulSoup"
   ]
  },
  {
   "cell_type": "code",
   "execution_count": null,
   "id": "c4859200-46d1-48ee-bfc1-495047d45c00",
   "metadata": {},
   "outputs": [],
   "source": [
    "from bs4 import BeautifulSoup"
   ]
  },
  {
   "cell_type": "code",
   "execution_count": null,
   "id": "007770ce-7673-47aa-843e-598f58bd018e",
   "metadata": {},
   "outputs": [],
   "source": [
    "html_string = response.text\n",
    "document = BeautifulSoup(html_string, \"html.parser\")"
   ]
  },
  {
   "cell_type": "code",
   "execution_count": null,
   "id": "166e8516-4c79-4633-a2b7-a89cf82823d4",
   "metadata": {
    "tags": []
   },
   "outputs": [],
   "source": [
    "document"
   ]
  },
  {
   "cell_type": "markdown",
   "id": "a8dd3bce-fdd9-4d37-bd9c-8fc09cc58299",
   "metadata": {},
   "source": [
    "`document` itself is still the original HTML"
   ]
  },
  {
   "cell_type": "code",
   "execution_count": null,
   "id": "3a85c7c0-02d9-48b2-9681-8c7fc0f1516e",
   "metadata": {},
   "outputs": [],
   "source": [
    "type(document)"
   ]
  },
  {
   "cell_type": "code",
   "execution_count": null,
   "id": "3e364c4c-60dd-40d3-adc7-d1ea19428121",
   "metadata": {
    "tags": []
   },
   "outputs": [],
   "source": [
    "document.find('pre')"
   ]
  },
  {
   "cell_type": "markdown",
   "id": "46f40ec3-fbaa-43a0-a4ab-3eeea2040ff7",
   "metadata": {},
   "source": [
    "There is still a lot of formatting to work through, but we have now found the screenplay text."
   ]
  },
  {
   "cell_type": "code",
   "execution_count": null,
   "id": "d4b0f932-b6fb-4de1-83af-6dac83359896",
   "metadata": {
    "tags": []
   },
   "outputs": [],
   "source": [
    "print(document.find('pre').text)"
   ]
  },
  {
   "cell_type": "markdown",
   "id": "a9a0d3dd-de65-4a1a-a245-9e9e6a91aebc",
   "metadata": {},
   "source": [
    "### Grabbing data from GitHub"
   ]
  },
  {
   "cell_type": "markdown",
   "id": "aff71607-d986-4be4-b167-650d6fc6149d",
   "metadata": {},
   "source": [
    "Let's look at the repository lists of the Pandas-relevant organization"
   ]
  },
  {
   "cell_type": "code",
   "execution_count": null,
   "id": "5df08261-2e07-4375-93ac-500861e28460",
   "metadata": {},
   "outputs": [],
   "source": [
    "import requests"
   ]
  },
  {
   "cell_type": "code",
   "execution_count": null,
   "id": "9aa265ae-9b7c-49ac-adfd-6b779bb4663c",
   "metadata": {},
   "outputs": [],
   "source": [
    "response = requests.get('https://github.com/orgs/pandas-dev/repositories')"
   ]
  },
  {
   "cell_type": "code",
   "execution_count": null,
   "id": "af6aeb2c-5c1e-4f96-9e98-03b9d96330a6",
   "metadata": {},
   "outputs": [],
   "source": [
    "response"
   ]
  },
  {
   "cell_type": "code",
   "execution_count": null,
   "id": "3ea8c0f3-f4b5-4161-a5bf-0e67979a3d62",
   "metadata": {
    "tags": []
   },
   "outputs": [],
   "source": [
    "html_string = response.text"
   ]
  },
  {
   "cell_type": "code",
   "execution_count": null,
   "id": "de7d0aa9-4fd2-4506-96c1-98dcf4a8cc71",
   "metadata": {
    "tags": []
   },
   "outputs": [],
   "source": [
    "html_string"
   ]
  },
  {
   "cell_type": "code",
   "execution_count": null,
   "id": "ba943475-6e13-400c-9271-48840fec9f71",
   "metadata": {},
   "outputs": [],
   "source": [
    "from bs4 import BeautifulSoup"
   ]
  },
  {
   "cell_type": "code",
   "execution_count": null,
   "id": "ec4ecf6c-2693-4ec4-83e6-39cfda462a13",
   "metadata": {},
   "outputs": [],
   "source": [
    "document = BeautifulSoup(html_string, \"html.parser\")"
   ]
  },
  {
   "cell_type": "code",
   "execution_count": null,
   "id": "c6afb9b1-6034-47b2-892a-934d15ad733a",
   "metadata": {
    "tags": []
   },
   "outputs": [],
   "source": [
    "document"
   ]
  },
  {
   "cell_type": "code",
   "execution_count": null,
   "id": "bf4a4d4e-7f22-45ce-9f9b-c5f962c47484",
   "metadata": {
    "tags": []
   },
   "outputs": [],
   "source": [
    "document.find(\"a\")"
   ]
  },
  {
   "cell_type": "code",
   "execution_count": null,
   "id": "5bf9450e-d1de-4089-ade3-380e0493a831",
   "metadata": {
    "tags": []
   },
   "outputs": [],
   "source": [
    "document.find(\"a\").attrs"
   ]
  },
  {
   "cell_type": "code",
   "execution_count": null,
   "id": "5e10af3c-99f6-4292-b946-44b765c91031",
   "metadata": {},
   "outputs": [],
   "source": [
    "document.find(\"a\", attrs={'itemprop':'name codeRepository'})"
   ]
  },
  {
   "cell_type": "code",
   "execution_count": null,
   "id": "7cbcf25f-0538-4249-bd3c-b9cb62e04769",
   "metadata": {},
   "outputs": [],
   "source": [
    "document.find_all(\"a\", attrs={'itemprop':'name codeRepository'})"
   ]
  },
  {
   "cell_type": "code",
   "execution_count": null,
   "id": "9d1cfd72-27bd-4303-876c-e6fc32b887f5",
   "metadata": {},
   "outputs": [],
   "source": [
    "for i in document.find_all(\"a\", attrs={'itemprop':'name codeRepository'}):\n",
    "    print(i.text.strip())"
   ]
  },
  {
   "cell_type": "code",
   "execution_count": null,
   "id": "e268f61d-d2c3-4585-9153-66f76dff5818",
   "metadata": {},
   "outputs": [],
   "source": [
    "for i in document.find_all(\"a\", attrs={'itemprop':'name codeRepository'}):\n",
    "    print(i.attrs)"
   ]
  },
  {
   "cell_type": "code",
   "execution_count": null,
   "id": "5cf44a0f-4a65-4963-a5f8-f284327a10c1",
   "metadata": {},
   "outputs": [],
   "source": [
    "for i in document.find_all(\"a\", attrs={'itemprop':'name codeRepository'}):\n",
    "    print(i.text.strip() + ' : accessible at http://github.com' + i.attrs['href'])"
   ]
  },
  {
   "cell_type": "markdown",
   "id": "cf038ed4-c632-4186-a98e-7236fc30f23b",
   "metadata": {},
   "source": [
    "### Ok, maybe three examples\n",
    "The NYTimes has an organizational account on GitHub too:"
   ]
  },
  {
   "cell_type": "code",
   "execution_count": null,
   "id": "c46b8b3e-5e9a-49e4-87e6-464706b04a82",
   "metadata": {},
   "outputs": [],
   "source": [
    "response = requests.get('https://github.com/orgs/nytimes/repositories')\n",
    "html_string = response.text\n",
    "document = BeautifulSoup(html_string, \"html.parser\")\n",
    "for i in document.find_all(\"a\", attrs={'itemprop':'name codeRepository'}):\n",
    "    print(i.text.strip() + ' : accessible at http://github.com' + i.attrs['href'])"
   ]
  },
  {
   "cell_type": "markdown",
   "id": "d1864e26-0eb7-4ad2-94c2-9b0d93199142",
   "metadata": {},
   "source": [
    "Let's say we get interested in looking at their covid-19-data repo.  Visit that repo page by clicking on the link above.\n",
    "\n",
    "And we can try to directly import info from their us-states.csv file."
   ]
  },
  {
   "cell_type": "code",
   "execution_count": null,
   "id": "94dc32c2-3bdd-445d-8b2f-af15fd0945b8",
   "metadata": {},
   "outputs": [],
   "source": [
    "# This will fail:\n",
    "# df = pd.read_csv('https://github.com/nytimes/covid-19-data/blob/master/rolling-averages/us-states.csv')\n",
    "\n",
    "# must replace \"blob\" with \"master\" -> note the download link on the github page\n",
    "df = pd.read_csv('https://github.com/nytimes/covid-19-data/raw/master/rolling-averages/us-states.csv')"
   ]
  },
  {
   "cell_type": "code",
   "execution_count": null,
   "id": "e56b0e42-483f-4bc4-826e-44051ea235a3",
   "metadata": {},
   "outputs": [],
   "source": [
    "df.head()"
   ]
  },
  {
   "cell_type": "code",
   "execution_count": null,
   "id": "1405d7e5-aae2-4144-862e-e22d3dc81b9a",
   "metadata": {},
   "outputs": [],
   "source": [
    "df.groupby('state')['cases'].sum()"
   ]
  },
  {
   "cell_type": "code",
   "execution_count": null,
   "id": "a671a223-8dfd-431e-98d8-89896732087a",
   "metadata": {},
   "outputs": [],
   "source": [
    "df.groupby('state')['cases'].sum().sort_values().plot.barh(figsize=(8,10))"
   ]
  },
  {
   "cell_type": "code",
   "execution_count": null,
   "id": "027da2b5-bfb3-4a0a-80f7-9a084f91c86e",
   "metadata": {},
   "outputs": [],
   "source": []
  }
 ],
 "metadata": {
  "kernelspec": {
   "display_name": "Python 3 (ipykernel)",
   "language": "python",
   "name": "python3"
  },
  "language_info": {
   "codemirror_mode": {
    "name": "ipython",
    "version": 3
   },
   "file_extension": ".py",
   "mimetype": "text/x-python",
   "name": "python",
   "nbconvert_exporter": "python",
   "pygments_lexer": "ipython3",
   "version": "3.9.6"
  }
 },
 "nbformat": 4,
 "nbformat_minor": 5
}
