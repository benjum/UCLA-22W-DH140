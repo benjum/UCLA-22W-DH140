{
 "cells": [
  {
   "cell_type": "markdown",
   "id": "843c4648-b335-464e-8c18-9e4dd15c0686",
   "metadata": {},
   "source": [
    "# Getting data from the web: API"
   ]
  },
  {
   "cell_type": "markdown",
   "id": "52f2aae1-ffdd-49a3-9732-2b8d68d1f390",
   "metadata": {},
   "source": [
    "### NYTimes API\n"
   ]
  },
  {
   "cell_type": "code",
   "execution_count": null,
   "id": "0c18ba21-2f90-4647-ad89-d6d4e2c68bde",
   "metadata": {},
   "outputs": [],
   "source": [
    "import requests"
   ]
  },
  {
   "cell_type": "markdown",
   "id": "2df0969c-295f-4e41-a515-1caacc573239",
   "metadata": {},
   "source": [
    "Setting things up for authentication:\n",
    "* Sign in to the developer page (developer.nytimes.com)\n",
    "* Select Apps under username\n",
    "* Select the App you've created\n",
    "* Copy the key into a file and assign it as a string to a variable name\n",
    "* Use that key here by importing the module (your *.py file) which contains simply the variable you've defined to store your key"
   ]
  },
  {
   "cell_type": "code",
   "execution_count": null,
   "id": "07ecc562-b89e-43a7-98a8-2fef29d9957d",
   "metadata": {},
   "outputs": [],
   "source": [
    "import nytimeskey"
   ]
  },
  {
   "cell_type": "markdown",
   "id": "510d4722-2de4-427c-9ffb-1421262499e4",
   "metadata": {},
   "source": [
    "How do you know how to use the API?\n",
    "* Consult the documentation\n",
    "  * Article search -- see https://developer.nytimes.com/docs/articlesearch-product/1/overview\n",
    "    * `/articlesearch.json?q={query}&fq={filter}`\n",
    "    * Example:\n",
    "      * `https://api.nytimes.com/svc/search/v2/articlesearch.json?q=election&api-key=yourkey`\n",
    "  * Books API -- see https://developer.nytimes.com/docs/books-product/1/overview\n",
    "    * `/lists/2019-01-20/hardcover-fiction.json`\n",
    "    * Example:\n",
    "      * `https://api.nytimes.com/svc/books/v3/lists/current/hardcover-fiction.json?api-key=yourkey`\n",
    "    * \"The book reviews service lets you get NYT book review by author, ISBN, or title.\"\n",
    "      * `https://api.nytimes.com/svc/books/v3/reviews.json?author=Stephen+King&api-key=yourkey`\n"
   ]
  },
  {
   "cell_type": "markdown",
   "id": "8b05bc79-0371-4a23-8e1a-812d027b8301",
   "metadata": {},
   "source": [
    "Let's try the Books first:"
   ]
  },
  {
   "cell_type": "code",
   "execution_count": null,
   "id": "540252ea-eac3-42fe-83a6-9947183f7920",
   "metadata": {},
   "outputs": [],
   "source": [
    "# Note how we include your key without explicitly typing it into this file\n",
    "\n",
    "url = 'https://api.nytimes.com/svc/books/v3/lists/current/hardcover-fiction.json?api-key=' + nytimeskey.MY_KEY"
   ]
  },
  {
   "cell_type": "code",
   "execution_count": null,
   "id": "f2c881f7-e557-455b-9ce7-eae32fb53900",
   "metadata": {},
   "outputs": [],
   "source": [
    "print(url)"
   ]
  },
  {
   "cell_type": "markdown",
   "id": "799c4404-1e02-49db-a87b-80c2f12cc970",
   "metadata": {},
   "source": [
    "Use \"requests\" to query the API endpoint"
   ]
  },
  {
   "cell_type": "code",
   "execution_count": null,
   "id": "1a6dcb8f-a414-4469-9c9c-4b5df38b8461",
   "metadata": {},
   "outputs": [],
   "source": [
    "response = requests.get(url)"
   ]
  },
  {
   "cell_type": "code",
   "execution_count": null,
   "id": "364e6f68-0ef6-494d-844c-bba61502b08e",
   "metadata": {},
   "outputs": [],
   "source": [
    "response"
   ]
  },
  {
   "cell_type": "code",
   "execution_count": null,
   "id": "fabbade2-2399-415a-b4ae-3db644fc9bb0",
   "metadata": {
    "tags": []
   },
   "outputs": [],
   "source": [
    "response.text"
   ]
  },
  {
   "cell_type": "markdown",
   "id": "d012282a-8d82-49a9-b675-0b460a777bc2",
   "metadata": {},
   "source": [
    "Actually.... the response is in JSON format"
   ]
  },
  {
   "cell_type": "code",
   "execution_count": null,
   "id": "a4dee80d-c691-4452-b659-53a9fcfce193",
   "metadata": {
    "tags": []
   },
   "outputs": [],
   "source": [
    "x = response.json()"
   ]
  },
  {
   "cell_type": "code",
   "execution_count": null,
   "id": "cccabb09-b597-4814-89ae-e5b566aaecc5",
   "metadata": {
    "tags": []
   },
   "outputs": [],
   "source": [
    "x"
   ]
  },
  {
   "cell_type": "markdown",
   "id": "22642ba6-14a1-4f62-8a1d-2d2393052d04",
   "metadata": {},
   "source": [
    "Navigating this data structure may remind you of experiences navigating the nasty CORGIS lists of nested dictionaries."
   ]
  },
  {
   "cell_type": "code",
   "execution_count": null,
   "id": "f93c6ba9-033d-40c1-bcf0-80f127535eaf",
   "metadata": {},
   "outputs": [],
   "source": [
    "x.keys()"
   ]
  },
  {
   "cell_type": "code",
   "execution_count": null,
   "id": "e0043062-4c47-4544-9b7f-82a0a384b55b",
   "metadata": {},
   "outputs": [],
   "source": [
    "x['results'].keys()"
   ]
  },
  {
   "cell_type": "code",
   "execution_count": null,
   "id": "9fe0098b-05a2-4baa-848e-e2b058288e53",
   "metadata": {},
   "outputs": [],
   "source": [
    "x['results']['books'][0]"
   ]
  },
  {
   "cell_type": "code",
   "execution_count": null,
   "id": "78faa24d-c46f-4a0a-928f-2ca0f12b7e0b",
   "metadata": {},
   "outputs": [],
   "source": [
    "for i in x['results']['books']:\n",
    "    print('Author: ' + i['author'] + ', Title: ' + i['title'])"
   ]
  },
  {
   "cell_type": "markdown",
   "id": "6d409335-7669-4eec-8202-7769e1125832",
   "metadata": {},
   "source": [
    "### Example 2: Get a review of a book above"
   ]
  },
  {
   "cell_type": "code",
   "execution_count": null,
   "id": "16d7b229-ad94-454b-8ba5-a0a320c9a24c",
   "metadata": {},
   "outputs": [],
   "source": [
    "# Note how we include your key without explicitly typing it into this file\n",
    "\n",
    "url = 'https://api.nytimes.com/svc/books/v3/reviews.json?title=GO+TELL+THE+BEES+THAT+I+AM+GONE&api-key=' + nytimeskey.MY_KEY"
   ]
  },
  {
   "cell_type": "code",
   "execution_count": null,
   "id": "0e79ad4e-a9f2-4c2b-a719-b851b01704b1",
   "metadata": {},
   "outputs": [],
   "source": [
    "print(url)"
   ]
  },
  {
   "cell_type": "markdown",
   "id": "fd1a7300-ec48-4b5a-8c74-92cc33101083",
   "metadata": {},
   "source": [
    "Use \"requests\" to query the API endpoint"
   ]
  },
  {
   "cell_type": "code",
   "execution_count": null,
   "id": "0caab370-6998-439a-a4bd-60a50251173d",
   "metadata": {},
   "outputs": [],
   "source": [
    "response = requests.get(url)"
   ]
  },
  {
   "cell_type": "code",
   "execution_count": null,
   "id": "27160a68-0b2a-40d6-91d3-6e19e5aee898",
   "metadata": {},
   "outputs": [],
   "source": [
    "response.json()"
   ]
  },
  {
   "cell_type": "markdown",
   "id": "7393f143-b827-46ec-ac12-3951fc55090d",
   "metadata": {
    "jupyter": {
     "outputs_hidden": true
    },
    "tags": []
   },
   "source": [
    "No result.  Try again."
   ]
  },
  {
   "cell_type": "code",
   "execution_count": null,
   "id": "e96e9116-a276-4b09-8cf9-08e8bef3c80e",
   "metadata": {},
   "outputs": [],
   "source": [
    "url = 'https://api.nytimes.com/svc/books/v3/reviews.json?title=THE+MIDNIGHT+LIBRARY&api-key=' + nytimeskey.MY_KEY\n",
    "response = requests.get(url)\n",
    "x = response.json()\n",
    "x"
   ]
  },
  {
   "cell_type": "markdown",
   "id": "ee90f760-c8ed-42c0-8bbd-15fa02d863e9",
   "metadata": {},
   "source": [
    "* It doesn't look like the API allows us to actually retrieve the review itself\n",
    "* BUT, we're now fully capable of getting that ourselves with the URL\n",
    "* -> Grab the review with requests\n",
    "* -> Use BeautifulSoup to help us sort through all the HTML tags\n",
    "\n",
    "**However**, this is disallowed under the [Terms of Service](https://help.nytimes.com/hc/en-us/articles/115014893428-Terms-of-service).  If you wanted to do this, you should seek written permission from the NYTimes."
   ]
  },
  {
   "cell_type": "markdown",
   "id": "6c50d2da-0e6f-4e9c-bafd-019ac65cc31a",
   "metadata": {},
   "source": [
    "## Article search"
   ]
  },
  {
   "cell_type": "markdown",
   "id": "0f119ef7-b16a-463e-b424-c77a915d0a8b",
   "metadata": {},
   "source": [
    "The NYTimes has a number of different APIs.  Let's repeat the process with the Article Search."
   ]
  },
  {
   "cell_type": "code",
   "execution_count": null,
   "id": "bc16a81b-00c7-4f24-a1b9-9b9a4db1472b",
   "metadata": {},
   "outputs": [],
   "source": [
    "url = 'https://api.nytimes.com/svc/search/v2/articlesearch.json?q=spotify&api-key=' + nytimeskey.MY_KEY"
   ]
  },
  {
   "cell_type": "code",
   "execution_count": null,
   "id": "2229ad61-f608-4fff-b36b-82273b9ade06",
   "metadata": {},
   "outputs": [],
   "source": [
    "print(url)"
   ]
  },
  {
   "cell_type": "code",
   "execution_count": null,
   "id": "8dfc96a2-d5b0-4006-a86d-1e67bfae498f",
   "metadata": {},
   "outputs": [],
   "source": [
    "response = requests.get(url)"
   ]
  },
  {
   "cell_type": "code",
   "execution_count": null,
   "id": "54d0b756-a4bf-4f06-98af-dfb4c1287430",
   "metadata": {},
   "outputs": [],
   "source": [
    "response"
   ]
  },
  {
   "cell_type": "code",
   "execution_count": null,
   "id": "ef931dab-7515-42e5-94eb-ec02bbca7490",
   "metadata": {
    "tags": []
   },
   "outputs": [],
   "source": [
    "response.text"
   ]
  },
  {
   "cell_type": "markdown",
   "id": "66b371fa-d9d4-4263-8bd4-d697c42c8c30",
   "metadata": {},
   "source": [
    "Actually.... the response is in JSON format"
   ]
  },
  {
   "cell_type": "code",
   "execution_count": null,
   "id": "21fad0f4-9be0-4bf7-9d32-77b9af855634",
   "metadata": {
    "tags": []
   },
   "outputs": [],
   "source": [
    "x = response.json()"
   ]
  },
  {
   "cell_type": "code",
   "execution_count": null,
   "id": "f055c9a4-bacb-4f73-ac24-1a7cf4049fa7",
   "metadata": {},
   "outputs": [],
   "source": [
    "x.keys()"
   ]
  },
  {
   "cell_type": "code",
   "execution_count": null,
   "id": "7014155d-7a58-4208-a569-3173fcbe966d",
   "metadata": {
    "tags": []
   },
   "outputs": [],
   "source": [
    "len(x['response']['docs'])"
   ]
  },
  {
   "cell_type": "code",
   "execution_count": null,
   "id": "714a83c1-9200-4434-a6a4-98b739fd68d8",
   "metadata": {},
   "outputs": [],
   "source": [
    "x['response']['docs'][0].keys()"
   ]
  },
  {
   "cell_type": "code",
   "execution_count": null,
   "id": "df72630c-d995-447c-8ac9-29e424296cfe",
   "metadata": {},
   "outputs": [],
   "source": [
    "for i in x['response']['docs']:\n",
    "    print(i['headline'])"
   ]
  },
  {
   "cell_type": "code",
   "execution_count": null,
   "id": "3bf22981-b2d1-42d7-8a37-c0dcd8937e30",
   "metadata": {},
   "outputs": [],
   "source": [
    "for i in x['response']['docs']:\n",
    "    print(i['headline']['main'])"
   ]
  },
  {
   "cell_type": "markdown",
   "id": "d0db7183-80db-4cf4-9352-3ab87e75bb1a",
   "metadata": {},
   "source": [
    "## Hmmm.... trouble in Spotify-land?"
   ]
  },
  {
   "cell_type": "markdown",
   "id": "1226a427-1de2-4bb8-aee6-f88be0b3e872",
   "metadata": {},
   "source": [
    "Go to spotify and we're going to do similar steps to get our credentials\n",
    "\n",
    "https://developer.spotify.com/dashboard/login"
   ]
  },
  {
   "cell_type": "code",
   "execution_count": null,
   "id": "96db371e-3076-4291-94fe-a707d258f443",
   "metadata": {},
   "outputs": [],
   "source": [
    "# spotipy is actually not installed on the JupyterHub\n",
    "# this executes a shell command to install spotipy in your local set of Python packages\n",
    "# be forewarned that this package may disappear between your sessions\n",
    "!pip install spotipy"
   ]
  },
  {
   "cell_type": "code",
   "execution_count": null,
   "id": "02c2cf31-764b-4d05-a889-c1095a29d3da",
   "metadata": {},
   "outputs": [],
   "source": [
    "import spotipy\n",
    "from spotipy.oauth2 import SpotifyClientCredentials"
   ]
  },
  {
   "cell_type": "code",
   "execution_count": null,
   "id": "d5c97d05-37e7-42f7-a18f-eb78f56ea9da",
   "metadata": {},
   "outputs": [],
   "source": [
    "import spotifykey"
   ]
  },
  {
   "cell_type": "code",
   "execution_count": null,
   "id": "2942bc17-7663-427a-9b7c-de0f43944238",
   "metadata": {},
   "outputs": [],
   "source": [
    "sp = spotipy.Spotify(auth_manager=SpotifyClientCredentials(client_id=spotifykey.CLIENT_ID,\n",
    "                                                           client_secret=spotifykey.CLIENT_SECRET))"
   ]
  },
  {
   "cell_type": "code",
   "execution_count": null,
   "id": "ff49193c-b62c-44ff-b445-38d0bb4034c6",
   "metadata": {},
   "outputs": [],
   "source": [
    "results = sp.search(q='Neil Young', limit=20)"
   ]
  },
  {
   "cell_type": "code",
   "execution_count": null,
   "id": "003b0e8e-9dac-4528-b74e-589affb63c51",
   "metadata": {
    "tags": []
   },
   "outputs": [],
   "source": [
    "results"
   ]
  },
  {
   "cell_type": "markdown",
   "id": "73b4934f-9a70-4ab2-9732-3d85c1dda249",
   "metadata": {},
   "source": [
    "Sometimes it's like trying to drink water from a firehose."
   ]
  },
  {
   "cell_type": "markdown",
   "id": "ee8fbd63-dd27-4987-aaa2-601039ba5cf3",
   "metadata": {},
   "source": [
    "### How do I know how to do the above code in the first place?\n",
    "\n",
    "It can be VERY important and helpful to consult the documentation.\n",
    "\n",
    "Check out: https://developer.spotify.com/documentation/web-api/\n",
    "* Notice that they give descriptions of the response codes\n",
    "* Look for Guides, References, Documentation, Libraries, etc.\n",
    "\n",
    "Guidance as to Web API Libraries: https://developer.spotify.com/documentation/web-api/libraries/\n",
    "* Find Spotipy\n",
    "\n",
    "And there is documentation in turn for libraries like spotipy: https://spotipy.readthedocs.io/en/2.19.0/\n",
    "* Installation\n",
    "* Examples\n",
    "* Reference\n",
    "* Link to source code\n",
    "  * GitHub repos can themselves contain useful documentation on the main README\n",
    "  * ... not that we want to overburden ourselves with Python, but note that you can even peruse source code if you want\n",
    "    * https://github.com/plamere/spotipy/blob/2.19.0/spotipy/client.py\n",
    "    * note the use of requests and json (and something called \"urllib3\" -> requests is built on urllib3 and intended to make HTTP requests more painless)"
   ]
  },
  {
   "cell_type": "code",
   "execution_count": null,
   "id": "65420014-7fe7-483e-8fa8-2700fb5e12d3",
   "metadata": {},
   "outputs": [],
   "source": [
    "# Let's put our CORGIS work with lists and nested dictionaries to good use\n",
    "\n",
    "results.keys()"
   ]
  },
  {
   "cell_type": "code",
   "execution_count": null,
   "id": "cb0244be-1ac3-41e6-8f46-dbe4ee417e19",
   "metadata": {},
   "outputs": [],
   "source": [
    "results['tracks'].keys()"
   ]
  },
  {
   "cell_type": "code",
   "execution_count": null,
   "id": "6fe1d813-c2f5-4928-baa2-dc43efe3f407",
   "metadata": {},
   "outputs": [],
   "source": [
    "results['tracks']['items'][0].keys()"
   ]
  },
  {
   "cell_type": "code",
   "execution_count": null,
   "id": "cb03feed-66b8-4ea4-acaa-724dc2e1d5d7",
   "metadata": {},
   "outputs": [],
   "source": [
    "print(results['tracks']['items'][0]['album']['name'])\n",
    "print(results['tracks']['items'][0]['artists'])\n",
    "print(results['tracks']['items'][0]['popularity'])"
   ]
  },
  {
   "cell_type": "code",
   "execution_count": null,
   "id": "45f1131f-15b2-407d-b21b-aa04a73eb0ab",
   "metadata": {},
   "outputs": [],
   "source": [
    "results = sp.search(q='Neil Young', limit=20)\n",
    "for idx, track in enumerate(results['tracks']['items']):\n",
    "    print(idx, track['name'])"
   ]
  },
  {
   "cell_type": "code",
   "execution_count": null,
   "id": "dad8611b-ead7-4ee2-acbc-d78aef2c78d5",
   "metadata": {},
   "outputs": [],
   "source": [
    "results = sp.search(q='Neil Young', limit=20)\n",
    "for idx, track in enumerate(results['tracks']['items']):\n",
    "    print(idx, track['name'], ' : ', track['artists'][0]['name'])"
   ]
  },
  {
   "cell_type": "markdown",
   "id": "169f2d28-601d-4ba2-a872-5cdb98ee818f",
   "metadata": {},
   "source": [
    "As long as you can traverse this data structure, then you can collect information from every item that is returned into something a little more manageable.... like a Pandas dataframe."
   ]
  },
  {
   "cell_type": "markdown",
   "id": "967429f7-9a75-40d4-93fe-550726a90755",
   "metadata": {},
   "source": [
    "### Example: Simple data on songs from the 70's\n",
    "* Search for songs from the 70's\n",
    "* Make lists of info\n",
    "* Make a Pandas dataframe with one column for each list you've collected"
   ]
  },
  {
   "cell_type": "code",
   "execution_count": null,
   "id": "70025da3-ce20-4207-8d36-f9e43c59dcd5",
   "metadata": {},
   "outputs": [],
   "source": [
    "artist_name = []\n",
    "track_name = []\n",
    "popularity = []\n",
    "track_id = []\n",
    "\n",
    "# Search for 50 songs from 1970\n",
    "track_results = sp.search(q='year:1970', type='track', limit=50)\n",
    "\n",
    "# Use a for loop to iterate over the track items\n",
    "# and add the artist name, track name, popularity score, and track ID to lists\n",
    "for i in track_results['tracks']['items']:\n",
    "    artist_name.append(i['artists'][0]['name'])\n",
    "    track_name.append(i['name'])\n",
    "    track_id.append(i['id'])\n",
    "    popularity.append(i['popularity'])"
   ]
  },
  {
   "cell_type": "markdown",
   "id": "bb56ba82-d400-4fb2-969d-375b38428ab5",
   "metadata": {},
   "source": [
    "Import pandas and convert those lists into columns of a dataframe"
   ]
  },
  {
   "cell_type": "code",
   "execution_count": null,
   "id": "7fa04cad-14c9-46f0-a8b0-c90075d10f65",
   "metadata": {},
   "outputs": [],
   "source": [
    "import pandas as pd"
   ]
  },
  {
   "cell_type": "code",
   "execution_count": null,
   "id": "ca008775-1da0-4baf-830e-da4919d2ac47",
   "metadata": {},
   "outputs": [],
   "source": [
    "track_dataframe = pd.DataFrame({'artist_name' : artist_name,\n",
    "                                'track_name' : track_name,\n",
    "                                'track_id' : track_id,\n",
    "                                'popularity' : popularity})"
   ]
  },
  {
   "cell_type": "code",
   "execution_count": null,
   "id": "e21d8215-f32f-4eb5-b9e9-8ba8f312bbae",
   "metadata": {},
   "outputs": [],
   "source": [
    "print(track_dataframe.shape)\n",
    "track_dataframe.head()"
   ]
  },
  {
   "cell_type": "markdown",
   "id": "4cedc9cb-00eb-4b53-889b-fdeabe5fac7f",
   "metadata": {},
   "source": [
    "Use the dataframe now as an easier structure to navigate and analyze."
   ]
  },
  {
   "cell_type": "code",
   "execution_count": null,
   "id": "b3b23df3-4617-4cb0-9f1a-8971874e1e08",
   "metadata": {},
   "outputs": [],
   "source": [
    "track_dataframe.sort_values(by='popularity')"
   ]
  },
  {
   "cell_type": "code",
   "execution_count": null,
   "id": "14e73376-9b86-4d6c-a997-77fef5ddb747",
   "metadata": {},
   "outputs": [],
   "source": [
    "track_dataframe.sort_values(by='popularity')[-10:].plot.barh(x='artist_name',y='popularity')"
   ]
  },
  {
   "cell_type": "markdown",
   "id": "433eb838-e591-49a6-a7a7-0ed5f73895d5",
   "metadata": {},
   "source": [
    "## You now know some spotipy specifics\n",
    "Try looking through spotipy's [example code](https://github.com/plamere/spotipy/tree/2.19.0/examples) in their GitHub repository and try one here that interests you"
   ]
  },
  {
   "cell_type": "code",
   "execution_count": null,
   "id": "cc11c414-30c4-4fd6-9b51-312891664e64",
   "metadata": {},
   "outputs": [],
   "source": []
  }
 ],
 "metadata": {
  "kernelspec": {
   "display_name": "Python 3 (ipykernel)",
   "language": "python",
   "name": "python3"
  },
  "language_info": {
   "codemirror_mode": {
    "name": "ipython",
    "version": 3
   },
   "file_extension": ".py",
   "mimetype": "text/x-python",
   "name": "python",
   "nbconvert_exporter": "python",
   "pygments_lexer": "ipython3",
   "version": "3.9.6"
  }
 },
 "nbformat": 4,
 "nbformat_minor": 5
}
